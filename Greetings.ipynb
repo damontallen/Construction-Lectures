{
 "metadata": {
  "name": ""
 },
 "nbformat": 3,
 "nbformat_minor": 0,
 "worksheets": [
  {
   "cells": [
    {
     "cell_type": "heading",
     "level": 1,
     "metadata": {
      "slideshow": {
       "slide_type": "slide"
      }
     },
     "source": [
      "BCN 4423 - Temporary Structures"
     ]
    },
    {
     "cell_type": "heading",
     "level": 1,
     "metadata": {
      "slideshow": {
       "slide_type": "-"
      }
     },
     "source": [
      "Introduction"
     ]
    },
    {
     "cell_type": "markdown",
     "metadata": {
      "slideshow": {
       "slide_type": "-"
      }
     },
     "source": [
      "<iframe width=\"420\" height=\"315\" src=\"//www.youtube.com/embed/g43sFmgHOCk\" frameborder=\"0\" allowfullscreen></iframe>\n",
      "\n",
      "*(Press the light blue down arrow at the bottom right next)*"
     ]
    },
    {
     "cell_type": "markdown",
     "metadata": {
      "slideshow": {
       "slide_type": "fragment"
      }
     },
     "source": [
      "*(Press the blue down arrow at the bottom right when you are done with the video.)*"
     ]
    },
    {
     "cell_type": "heading",
     "level": 2,
     "metadata": {
      "slideshow": {
       "slide_type": "subslide"
      }
     },
     "source": [
      "You made it!"
     ]
    },
    {
     "cell_type": "markdown",
     "metadata": {
      "slideshow": {
       "slide_type": "-"
      }
     },
     "source": [
      "Press the play button.\n",
      "\n",
      "*audio place holder*\n",
      "\n",
      "<important>Keep a look out for the <fragment>light</fragment> and <subslide>dark blue</subslide> down arrows.</important>\n",
      "\n",
      "\n",
      "*(Press the blue arrow to the right at the bottom right of the screen to move on the the Course Objectives.)*"
     ]
    },
    {
     "cell_type": "heading",
     "level": 2,
     "metadata": {
      "slideshow": {
       "slide_type": "slide"
      }
     },
     "source": [
      "Course Objectives"
     ]
    },
    {
     "cell_type": "heading",
     "level": 3,
     "metadata": {
      "slideshow": {
       "slide_type": "-"
      }
     },
     "source": [
      "1. Course Introduction Objectives"
     ]
    },
    {
     "cell_type": "markdown",
     "metadata": {},
     "source": [
      "<audio controls>\n",
      " <source src=\"https://github.com/damontallen/Construction-Lectures/raw/master/Intro/Introduction.wav\"\n",
      "         type='audio/wav'>\n",
      " <p>Your user agent does not support the HTML5 Audio element.</p>\n",
      "</audio>\n"
     ]
    },
    {
     "cell_type": "markdown",
     "metadata": {
      "slideshow": {
       "slide_type": "fragment"
      }
     },
     "source": [
      "* Be able to find the information contained within the course syllabus.\n",
      "* Be able to state why temporary structures are important to the construction industry.\n",
      "* Be able to use the course discussion page and make a post."
     ]
    },
    {
     "cell_type": "heading",
     "level": 3,
     "metadata": {
      "slideshow": {
       "slide_type": "subslide"
      }
     },
     "source": [
      "2. Introduction to Timber Objectives"
     ]
    },
    {
     "cell_type": "markdown",
     "metadata": {},
     "source": [
      "<audio controls>\n",
      " <source src=\"https://github.com/damontallen/Construction-Lectures/raw/master/Intro/Wood%20Intro.wav\"\n",
      "         type='audio/wav'>\n",
      " <p>Your user agent does not support the HTML5 Audio element.</p>\n",
      "</audio>"
     ]
    },
    {
     "cell_type": "markdown",
     "metadata": {
      "slideshow": {
       "slide_type": "fragment"
      }
     },
     "source": [
      "* Be able to recall aspects of wood as a material.\n",
      "* Be able to find appropriate sections in the Timber NDS code.\n",
      "* Be able to differentiate the need for tributary area and width."
     ]
    },
    {
     "cell_type": "heading",
     "level": 3,
     "metadata": {
      "slideshow": {
       "slide_type": "subslide"
      }
     },
     "source": [
      "3. Timber Beam Objectives"
     ]
    },
    {
     "cell_type": "markdown",
     "metadata": {},
     "source": [
      "<audio controls>\n",
      " <source src=\"https://github.com/damontallen/Construction-Lectures/raw/master/Intro/Timber%20Beam.wav\"\n",
      "         type='audio/wav'>\n",
      " <p>Your user agent does not support the HTML5 Audio element.</p>\n",
      "</audio>\n"
     ]
    },
    {
     "cell_type": "markdown",
     "metadata": {
      "slideshow": {
       "slide_type": "fragment"
      }
     },
     "source": [
      "* Be able to analyze and compare allowable vs actual bending stress.\n",
      "* Be able to analyze and compare allowable vs actual shear stress.\n",
      "* Be able to analyze and compare allowable vs actual deflections"
     ]
    },
    {
     "cell_type": "heading",
     "level": 3,
     "metadata": {
      "slideshow": {
       "slide_type": "subslide"
      }
     },
     "source": [
      "4. Timber Column Objectives"
     ]
    },
    {
     "cell_type": "markdown",
     "metadata": {},
     "source": [
      "<audio controls>\n",
      " <source src=\"https://github.com/damontallen/Construction-Lectures/raw/master/Intro/Timber%20Column.wav\"\n",
      "         type='audio/wav'>\n",
      " <p>Your user agent does not support the HTML5 Audio element.</p>\n",
      "</audio>\n"
     ]
    },
    {
     "cell_type": "markdown",
     "metadata": {
      "slideshow": {
       "slide_type": "fragment"
      }
     },
     "source": [
      "* Be able to analyze and compare allowable vs actual slenderness ratio.\n",
      "* Be able to analyze and compare allowable vs actual compressive stress parallel to grain.\n",
      "* (Optional) Be able to recognize Euler buckling."
     ]
    },
    {
     "cell_type": "heading",
     "level": 3,
     "metadata": {
      "slideshow": {
       "slide_type": "subslide"
      }
     },
     "source": [
      "5. Bracing Objectives"
     ]
    },
    {
     "cell_type": "markdown",
     "metadata": {},
     "source": [
      "<audio controls>\n",
      " <source src=\"https://github.com/damontallen/Construction-Lectures/raw/master/Intro/Bracing.wav\"\n",
      "         type='audio/wav'>\n",
      " <p>Your user agent does not support the HTML5 Audio element.</p>\n",
      "</audio>\n"
     ]
    },
    {
     "cell_type": "markdown",
     "metadata": {
      "slideshow": {
       "slide_type": "fragment"
      }
     },
     "source": [
      "* Be able to calculate the lateral load on a brace from a wall form.\n",
      "* Be able to calculate the lateral load on a brace from a slab form.\n",
      "* Be able to discuss why braces should be loaded in tension.\n",
      "* Be able to analyze and compare allowable vs actual tension stress in a brace.\n",
      "* (Optional) The student should be able to discuss why a brace\u2019s connection stiffness is important to the stability of a slab form."
     ]
    },
    {
     "cell_type": "heading",
     "level": 3,
     "metadata": {
      "slideshow": {
       "slide_type": "subslide"
      }
     },
     "source": [
      "6. (Optional) Span Limit Derivations Objectives"
     ]
    },
    {
     "cell_type": "markdown",
     "metadata": {},
     "source": [
      "<audio controls>\n",
      " <source src=\"https://github.com/damontallen/Construction-Lectures/raw/master/Intro/Span%20Derivation.wav\"\n",
      "         type='audio/wav'>\n",
      " <p>Your user agent does not support the HTML5 Audio element.</p>\n",
      "</audio>"
     ]
    },
    {
     "cell_type": "markdown",
     "metadata": {
      "slideshow": {
       "slide_type": "-"
      }
     },
     "source": [
      "* Be able to interpret the typical span limit calculations."
     ]
    },
    {
     "cell_type": "heading",
     "level": 3,
     "metadata": {
      "slideshow": {
       "slide_type": "subslide"
      }
     },
     "source": [
      "7. Wall Form Objectives"
     ]
    },
    {
     "cell_type": "markdown",
     "metadata": {},
     "source": [
      "<audio controls>\n",
      " <source src=\"https://github.com/damontallen/Construction-Lectures/raw/master/Intro/Wall%20form.wav\"\n",
      "         type='audio/wav'>\n",
      " <p>Your user agent does not support the HTML5 Audio element.</p>\n",
      "</audio>\n"
     ]
    },
    {
     "cell_type": "markdown",
     "metadata": {
      "slideshow": {
       "slide_type": "fragment"
      }
     },
     "source": [
      "* Be able to identify the components of a wall form.\n",
      "* Be able to calculate the concrete pressure for a wall form.\n",
      "* Be able to calculate the required spacing for plywood supports.\n",
      "* Be able to calculate the required spacing for stud support.\n",
      "* Be able to calculate the required spacing for wale support.\n",
      "* Be able to analyze and compare the allowable vs actual compression perpendicular to grain for studs and wales.\n",
      "* Be able to calculate the required strength for wall ties.\n",
      "* Be able to summarize the design requirements for a wall form.\n",
      "* Be able to use the design tables in the Formwork text to design a wall form.\n",
      "\n",
      "<img src=\"http://farm6.staticflickr.com/5220/5413970858_4d9e8d63aa_o.jpg\" alt=\"Wall Formwork\">"
     ]
    },
    {
     "cell_type": "heading",
     "level": 3,
     "metadata": {
      "slideshow": {
       "slide_type": "subslide"
      }
     },
     "source": [
      "8. Column Form Objectives"
     ]
    },
    {
     "cell_type": "markdown",
     "metadata": {},
     "source": [
      "<audio controls>\n",
      " <source src=\"https://github.com/damontallen/Construction-Lectures/raw/master/Intro/Column%20form.wav\"\n",
      "         type='audio/wav'>\n",
      " <p>Your user agent does not support the HTML5 Audio element.</p>\n",
      "</audio>"
     ]
    },
    {
     "cell_type": "markdown",
     "metadata": {
      "slideshow": {
       "slide_type": "fragment"
      }
     },
     "source": [
      "* Be able to calculate the concrete pressure for a concrete form.\n",
      "* Be able to analyze and compare the allowable vs actual bending stress for flat studs in column forms.\n",
      "* Be able to find the correct spacings for column form clamps\n",
      "\n",
      "<img src=\"http://farm7.staticflickr.com/6017/5872155429_12086e489c_b.jpg\" alt=\"Column Form\" >"
     ]
    },
    {
     "cell_type": "heading",
     "level": 3,
     "metadata": {
      "slideshow": {
       "slide_type": "subslide"
      }
     },
     "source": [
      "9. Slab Form Objectives"
     ]
    },
    {
     "cell_type": "markdown",
     "metadata": {},
     "source": [
      "<audio controls>\n",
      " <source src=\"https://github.com/damontallen/Construction-Lectures/raw/master/Intro/Slab%20form.wav\"\n",
      "         type='audio/wav'>\n",
      " <p>Your user agent does not support the HTML5 Audio element.</p>\n",
      "</audio>\n"
     ]
    },
    {
     "cell_type": "markdown",
     "metadata": {
      "slideshow": {
       "slide_type": "fragment"
      }
     },
     "source": [
      "* Be able to identify the components of a slab form.\n",
      "* Be able to calculate the required spacing for plywood supports.\n",
      "* Be able to calculate the required spacing for joist support.\n",
      "* Be able to calculate the required spacing for stringer support.\n",
      "* Be able to analyze and compare the allowable vs actual compression perpendicular to grain for joist and strings as well as for shores and strings.\n",
      "* Be able to analyze and compare allowable vs actual compressive load of a timber shore.\n",
      "* Be able to use the design tables in the Formwork text to design a slab form.\n",
      "\n",
      "<img src=\"http://farm3.staticflickr.com/2788/4502345383_0378219f7a.jpg\" alt=\"Slab Formwork\" >"
     ]
    },
    {
     "cell_type": "heading",
     "level": 3,
     "metadata": {
      "slideshow": {
       "slide_type": "subslide"
      }
     },
     "source": [
      "10. Re-shoring Objectives"
     ]
    },
    {
     "cell_type": "markdown",
     "metadata": {},
     "source": [
      "<audio controls>\n",
      " <source src=\"https://github.com/damontallen/Construction-Lectures/raw/master/Intro/Reshoring.wav\"\n",
      "         type='audio/wav'>\n",
      " <p>Your user agent does not support the HTML5 Audio element.</p>\n",
      "</audio>\n"
     ]
    },
    {
     "cell_type": "markdown",
     "metadata": {
      "slideshow": {
       "slide_type": "fragment"
      }
     },
     "source": [
      "* Be able to calculate the loads on shores and the slabs they support.\n",
      "\n",
      "<img src=\"http://upload.wikimedia.org/wikipedia/commons/3/3a/Slab_Formwork_Tables.JPG\" alt=\"Slab Shoring\" >"
     ]
    },
    {
     "cell_type": "heading",
     "level": 3,
     "metadata": {
      "slideshow": {
       "slide_type": "subslide"
      }
     },
     "source": [
      "11. Scaffolding Objectives"
     ]
    },
    {
     "cell_type": "markdown",
     "metadata": {},
     "source": [
      "<audio controls>\n",
      " <source src=\"https://github.com/damontallen/Construction-Lectures/raw/master/Intro/Scaffold.wav\"\n",
      "         type='audio/wav'>\n",
      " <p>Your user agent does not support the HTML5 Audio element.</p>\n",
      "</audio>\n"
     ]
    },
    {
     "cell_type": "markdown",
     "metadata": {
      "slideshow": {
       "slide_type": "fragment"
      }
     },
     "source": [
      "* Be able to identify the types of common scaffolding.\n",
      "* Be able to identify who can design a scaffold.\n",
      "* Be able to recall the types and amounts of scaffold loads.\n",
      "* Be able to calculate the ASD load combinations for a scaffold platform.\n",
      "* Be able to devise a frame scaffold plan.\n",
      "\n",
      "<img src=\"http://upload.wikimedia.org/wikipedia/commons/8/80/Cincinnati-scaffolding.jpg\" alt=\"Scaffolfing Image\" >"
     ]
    },
    {
     "cell_type": "heading",
     "level": 3,
     "metadata": {
      "slideshow": {
       "slide_type": "subslide"
      }
     },
     "source": [
      "12. Excavation Objectives"
     ]
    },
    {
     "cell_type": "markdown",
     "metadata": {},
     "source": [
      "<audio controls>\n",
      " <source src=\"https://github.com/damontallen/Construction-Lectures/raw/master/Intro/Excavation.wav\"\n",
      "         type='audio/wav'>\n",
      " <p>Your user agent does not support the HTML5 Audio element.</p>\n",
      "</audio>\n"
     ]
    },
    {
     "cell_type": "markdown",
     "metadata": {
      "slideshow": {
       "slide_type": "fragment"
      }
     },
     "source": [
      "* Be able to identify characteristics of soil types A, B, and C.\n",
      "* Be able to classify soil based on the OSHA field tests.\n",
      "* Be able to identify the parts of excavation shoring components.\n",
      "* Be able to demonstrate the correct interpretation of the the OSHA Timber Trench Shoring design tables.\n",
      "\n",
      "<img src=\"http://upload.wikimedia.org/wikipedia/commons/8/85/Sbh_s600.JPG\" alt = \"Trench Shoring\" >"
     ]
    },
    {
     "cell_type": "heading",
     "level": 3,
     "metadata": {
      "slideshow": {
       "slide_type": "subslide"
      }
     },
     "source": [
      "13. Equipment Objectives"
     ]
    },
    {
     "cell_type": "markdown",
     "metadata": {},
     "source": [
      "<audio controls>\n",
      " <source src=\"https://github.com/damontallen/Construction-Lectures/raw/master/Intro/Equipment.wav\"\n",
      "         type='audio/wav'>\n",
      " <p>Your user agent does not support the HTML5 Audio element.</p>\n",
      "</audio>\n"
     ]
    },
    {
     "cell_type": "markdown",
     "metadata": {
      "slideshow": {
       "slide_type": "fragment"
      }
     },
     "source": [
      "* Be able to identify material hoisting equipment based on load requirements.\n",
      "* Be able to identify personnel hoisting equipment based on usage requirements.\n",
      "* Be able to be able to state alternative formwork systems."
     ]
    },
    {
     "cell_type": "heading",
     "level": 2,
     "metadata": {
      "slideshow": {
       "slide_type": "slide"
      }
     },
     "source": [
      "Required Texts"
     ]
    },
    {
     "cell_type": "markdown",
     "metadata": {
      "slideshow": {
       "slide_type": "-"
      }
     },
     "source": [
      "<audio controls>\n",
      " <source src=\"https://github.com/damontallen/Construction-Lectures/raw/master/Intro/Required%20Text.wav\"\n",
      "         type='audio/wav'>\n",
      " <p>Your user agent does not support the HTML5 Audio element.</p>\n",
      "</audio>\n",
      "\n",
      "\n",
      "The 2005 Wood Design Package - http://www.awc.org/standards/nds.php (purchase the hard copy)\n",
      "\n",
      "Required text: Hurd, M. K. \u201cFormwork for Concrete\u201d 7 th edition: ISBN-10: 0870311778\n",
      "\n",
      "<a href=\"http://www.awc.org/standards/nds.php\">\n",
      "<img src = \"http://www.awc.org/new_images/2005WDP_new2_AWC.jpg\" alt = \"2005 Wood Design Package\" class ='lt' ></a>\n",
      "\n",
      "\n",
      "\n",
      "<a href=\"http://www.amazon.com/s?ie=UTF8&field-keywords=Hurd%2C%20M.%20K.%20%3FFormwork%20for%20Concrete%3F&index=blended&link_code=qs&sourceid=Mozilla-search&tag=wwwcanoniccom-20\">\n",
      "<img src = \"http://g-ecx.images-amazon.com/images/G/01/ciu/97/87/fef7a2c008a0ece6eb30c010.L._SY300_.jpg\" alt = '\u201cFormwork for Concrete\u201d 7 th edition' class ='lt' ></a>\n"
     ]
    },
    {
     "cell_type": "markdown",
     "metadata": {
      "slideshow": {
       "slide_type": "-"
      }
     },
     "source": [
      "\n",
      "*(Press the Right arrow at the bottom right)*"
     ]
    },
    {
     "cell_type": "heading",
     "level": 2,
     "metadata": {
      "slideshow": {
       "slide_type": "slide"
      }
     },
     "source": [
      "Pre-Quiz"
     ]
    },
    {
     "cell_type": "markdown",
     "metadata": {},
     "source": [
      "<audio controls>\n",
      " <source src=\"https://github.com/damontallen/Construction-Lectures/raw/master/Intro/Prequiz.wav\"\n",
      "         type='audio/wav'>\n",
      " <p>Your user agent does not support the HTML5 Audio element.</p>\n",
      "</audio>\n"
     ]
    },
    {
     "cell_type": "markdown",
     "metadata": {
      "slideshow": {
       "slide_type": "-"
      }
     },
     "source": [
      "Download and fill out the prequiz.  You will need to scan it (or that a photo of it) and upload it to the class website.\n",
      "\n",
      "[Prequiz Download](prequiz)"
     ]
    },
    {
     "cell_type": "markdown",
     "metadata": {
      "slideshow": {
       "slide_type": "skip"
      }
     },
     "source": [
      "Play the \"Why Temporary Strtuctures are important\" slide show next."
     ]
    },
    {
     "cell_type": "markdown",
     "metadata": {
      "slideshow": {
       "slide_type": "skip"
      }
     },
     "source": [
      "CSS style sheet\n",
      "\n",
      "<head>\n",
      "<style>\n",
      "important {font:italic bold 30px/50px arial;}\n",
      "fragment {color:LightBlue;}\n",
      "subslide {color:DarkBlue;}\n",
      ".lt {float:left;}\n",
      "\n",
      "\n",
      "img\n",
      "{\n",
      "max-width:200px;\n",
      "max-height:200px;\n",
      "}\n",
      "</style>\n",
      "</head>\n",
      "\n",
      "<!-- Examples -->\n",
      "<important>important</important>\n",
      "<fragment>fragment</fragment>\n",
      "<subslide>subslide</subslide>"
     ]
    }
   ],
   "metadata": {}
  }
 ]
}