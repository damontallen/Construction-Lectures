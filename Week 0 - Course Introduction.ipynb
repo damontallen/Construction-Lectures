{
 "metadata": {
  "name": ""
 },
 "nbformat": 3,
 "nbformat_minor": 0,
 "worksheets": [
  {
   "cells": [
    {
     "cell_type": "heading",
     "level": 2,
     "metadata": {
      "slideshow": {
       "slide_type": "slide"
      }
     },
     "source": [
      "Why is it important to know about Temporary Structures?"
     ]
    },
    {
     "cell_type": "heading",
     "level": 3,
     "metadata": {
      "slideshow": {
       "slide_type": "-"
      }
     },
     "source": [
      "Press the White Arrow in the Orange Circle to Play"
     ]
    },
    {
     "cell_type": "markdown",
     "metadata": {
      "slideshow": {
       "slide_type": "-"
      }
     },
     "source": [
      "<iframe width=\"40%\" height=\"150\" scrolling=\"no\" frameborder=\"no\" \n",
      "src=\"https://w.soundcloud.com/player/?url=https%3A//api.soundcloud.com/tracks/137281177&amp;\n",
      "auto_play=false&amp;hide_related=false&amp;visual=true\"></iframe>"
     ]
    },
    {
     "cell_type": "heading",
     "level": 4,
     "metadata": {
      "slideshow": {
       "slide_type": "-"
      }
     },
     "source": [
      "Press the Blue Down Arrow at the Bottom Right"
     ]
    },
    {
     "cell_type": "markdown",
     "metadata": {
      "slideshow": {
       "slide_type": "fragment"
      }
     },
     "source": [
      "When I have asked this question to students in the past I have gotten answers like:\n",
      "\n",
      "* So we don\u2019t get sued.\n",
      "\n",
      "*(Press the down arrow again.)*"
     ]
    },
    {
     "cell_type": "heading",
     "level": 2,
     "metadata": {
      "slideshow": {
       "slide_type": "subslide"
      }
     },
     "source": [
      "Professionally"
     ]
    },
    {
     "cell_type": "markdown",
     "metadata": {
      "slideshow": {
       "slide_type": "-"
      }
     },
     "source": [
      "Temporary structures are really the most important type of structures you as a contractor\n",
      "or project manager will have to build. These structures are built by you, used by you,\n",
      "and demolished by you. The common denominator in this is you. Because these\n",
      "structures are only used by the construction industry, most of the time you will not have\n",
      "an outside inspector looking at them telling you that they are dangerous."
     ]
    },
    {
     "cell_type": "heading",
     "level": 4,
     "metadata": {
      "slideshow": {
       "slide_type": "-"
      }
     },
     "source": [
      "Press the Right Arrow"
     ]
    },
    {
     "cell_type": "heading",
     "level": 2,
     "metadata": {
      "slideshow": {
       "slide_type": "slide"
      }
     },
     "source": [
      "Personally"
     ]
    },
    {
     "cell_type": "markdown",
     "metadata": {
      "slideshow": {
       "slide_type": "-"
      }
     },
     "source": [
      "This is the reason that it is so important that you know how to construct them correctly.\n",
      "That is to say, it is in your best interest that they are built safely and cost effective.\n",
      "On a personal note, you might be walking under that slab form, or standing on that\n",
      "scaffold, or inspecting work at the bottom of that trench when there is a collapse. So, if\n",
      "for no other reason than self-preservation, you should know how to build them correctly.\n",
      "\n",
      "*(Press the down arrow again.)*"
     ]
    },
    {
     "cell_type": "markdown",
     "metadata": {
      "slideshow": {
       "slide_type": "subslide"
      }
     },
     "source": [
      "<a></a>\n",
      "\n",
      "<a title=\"By Sam Effron [CC-BY-SA-2.0 (http://creativecommons.org/licenses/by-sa/2.0)], via Wikimedia Commons\" href=\"http://commons.wikimedia.org/wiki/File%3AAddis_Abeba_Wood_Scaffold_(Sam_Effron).jpg\"><img width=\"256\" alt=\"Addis Abeba Wood Scaffold (Sam Effron)\" src=\"//upload.wikimedia.org/wikipedia/commons/thumb/2/23/Addis_Abeba_Wood_Scaffold_%28Sam_Effron%29.jpg/256px-Addis_Abeba_Wood_Scaffold_%28Sam_Effron%29.jpg\"/  style=\"width:256px; border:1px solid blue; float:left; margin-right:3px;\" ></a>\n",
      "\n",
      "<a title=\"See page for author [Public domain], via Wikimedia Commons\" href=\"http://commons.wikimedia.org/wiki/File%3AUSMC-120110-M-WC814-010.jpg\"><img width=\"256\" alt=\"USMC-120110-M-WC814-010\" src=\"//upload.wikimedia.org/wikipedia/commons/thumb/2/29/USMC-120110-M-WC814-010.jpg/256px-USMC-120110-M-WC814-010.jpg\"/  style=\"width:256px; border:1px solid blue; float:left; margin-right:3px;\"></a>\n",
      "\n",
      "<a title=\"By STALFORM Engineering (Own work) [CC-BY-SA-3.0 (http://creativecommons.org/licenses/by-sa/3.0)], via Wikimedia Commons\" href=\"http://commons.wikimedia.org/wiki/File%3AMobil_Formwork_system_Stalform_for_underground_construction._%D0%9C%D0%B5%D1%85%D0%B0%D0%BD%D0%B8%D0%B7%D0%B8%D1%80%D0%BE%D0%B2%D0%B0%D0%BD%D0%BD%D0%B0%D1%8F_%D0%BE%D0%BF%D0%B0%D0%BB%D1%83%D0%B1%D0%BA%D0%B0_%D0%B4%D0%BB%D1%8F_%D1%83%D1%81%D0%BA%D0%BE%D1%80%D0%B5%D0%BD%D0%BD%D0%BE%D0%B3%D0%BE_%D1%81%D1%82%D1%80%D0%BE%D0%B8%D1%82%D0%B5%D0%BB%D1%8C%D1%81%D1%82%D0%B2%D0%B0_%D1%81%D1%82%D0%B0%D0%BD%D1%86%D0%B8%D0%B8_%D0%BC%D0%B5%D1%82%D1%80%D0%BE_%D0%A2%D1%80%D0%BE%D0%BF%D0%B0%D1%80%D0%B5%D0%B2%D0%BE.jpg\"><img width=\"400\" alt=\"Mobil Formwork system Stalform for underground construction. \u041c\u0435\u0445\u0430\u043d\u0438\u0437\u0438\u0440\u043e\u0432\u0430\u043d\u043d\u0430\u044f \u043e\u043f\u0430\u043b\u0443\u0431\u043a\u0430 \u0434\u043b\u044f \u0443\u0441\u043a\u043e\u0440\u0435\u043d\u043d\u043e\u0433\u043e \u0441\u0442\u0440\u043e\u0438\u0442\u0435\u043b\u044c\u0441\u0442\u0432\u0430 \u0441\u0442\u0430\u043d\u0446\u0438\u0438 \u043c\u0435\u0442\u0440\u043e \u0422\u0440\u043e\u043f\u0430\u0440\u0435\u0432\u043e\" src=\"//upload.wikimedia.org/wikipedia/commons/thumb/7/77/Mobil_Formwork_system_Stalform_for_underground_construction._%D0%9C%D0%B5%D1%85%D0%B0%D0%BD%D0%B8%D0%B7%D0%B8%D1%80%D0%BE%D0%B2%D0%B0%D0%BD%D0%BD%D0%B0%D1%8F_%D0%BE%D0%BF%D0%B0%D0%BB%D1%83%D0%B1%D0%BA%D0%B0_%D0%B4%D0%BB%D1%8F_%D1%83%D1%81%D0%BA%D0%BE%D1%80%D0%B5%D0%BD%D0%BD%D0%BE%D0%B3%D0%BE_%D1%81%D1%82%D1%80%D0%BE%D0%B8%D1%82%D0%B5%D0%BB%D1%8C%D1%81%D1%82%D0%B2%D0%B0_%D1%81%D1%82%D0%B0%D0%BD%D1%86%D0%B8%D0%B8_%D0%BC%D0%B5%D1%82%D1%80%D0%BE_%D0%A2%D1%80%D0%BE%D0%BF%D0%B0%D1%80%D0%B5%D0%B2%D0%BE.jpg/512px-thumbnail.jpg\"/ style=\"width:400px; border:1px solid blue; float:left; margin-right:3px;\"></a>"
     ]
    }
   ],
   "metadata": {}
  }
 ]
}