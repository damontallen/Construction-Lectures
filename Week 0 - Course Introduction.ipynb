{
 "metadata": {
  "name": ""
 },
 "nbformat": 3,
 "nbformat_minor": 0,
 "worksheets": [
  {
   "cells": [
    {
     "cell_type": "heading",
     "level": 1,
     "metadata": {
      "slideshow": {
       "slide_type": "slide"
      }
     },
     "source": [
      "Why is it important to know how to build temporary structures?"
     ]
    },
    {
     "cell_type": "markdown",
     "metadata": {
      "slideshow": {
       "slide_type": "fragment"
      }
     },
     "source": [
      "When I have asked this question to students in the past I have gotten answers like:\n",
      "\n",
      "* So we don\u2019t get sued."
     ]
    },
    {
     "cell_type": "code",
     "collapsed": false,
     "input": [
      "# %run AudioFunction.py"
     ],
     "language": "python",
     "metadata": {
      "slideshow": {
       "slide_type": "skip"
      }
     },
     "outputs": [],
     "prompt_number": 1
    },
    {
     "cell_type": "code",
     "collapsed": false,
     "input": [
      "from IPython.display import HTML\n",
      "#wavPlayer(\"Why audio.wav\")"
     ],
     "language": "python",
     "metadata": {
      "slideshow": {
       "slide_type": "skip"
      }
     },
     "outputs": [],
     "prompt_number": 4
    },
    {
     "cell_type": "code",
     "collapsed": false,
     "input": [
      "HTML(\"\"\"<iframe width=\"40%\" height=\"100\" scrolling=\"no\" frameborder=\"no\" \n",
      "src=\"https://w.soundcloud.com/player/?url=https%3A//api.soundcloud.com/tracks/137269878&amp;\n",
      "auto_play=false&amp;hide_related=false&amp;visual=true\"></iframe>\"\"\")"
     ],
     "language": "python",
     "metadata": {
      "slideshow": {
       "slide_type": "fragment"
      }
     },
     "outputs": [
      {
       "html": [
        "<iframe width=\"40%\" height=\"100\" scrolling=\"no\" frameborder=\"no\" \n",
        "src=\"https://w.soundcloud.com/player/?url=https%3A//api.soundcloud.com/tracks/137269878&amp;\n",
        "auto_play=false&amp;hide_related=false&amp;visual=true\"></iframe>"
       ],
       "metadata": {},
       "output_type": "pyout",
       "prompt_number": 5,
       "text": [
        "<IPython.core.display.HTML at 0x7f6734199810>"
       ]
      }
     ],
     "prompt_number": 5
    },
    {
     "cell_type": "heading",
     "level": 2,
     "metadata": {
      "slideshow": {
       "slide_type": "subslide"
      }
     },
     "source": [
      "Professionally"
     ]
    },
    {
     "cell_type": "markdown",
     "metadata": {
      "slideshow": {
       "slide_type": "-"
      }
     },
     "source": [
      "Temporary structures are really the most important type of structures you as a contractor\n",
      "or project manager will have to build. These structures are built by you, used by you,\n",
      "and demolished by you. The common denominator in this is you. Because these\n",
      "structures are only used by the construction industry, most of the time you will not have\n",
      "an outside inspector looking at them telling you that they are dangerous."
     ]
    },
    {
     "cell_type": "heading",
     "level": 2,
     "metadata": {
      "slideshow": {
       "slide_type": "slide"
      }
     },
     "source": [
      "Personally"
     ]
    },
    {
     "cell_type": "markdown",
     "metadata": {
      "slideshow": {
       "slide_type": "-"
      }
     },
     "source": [
      "This is the reason that it is so important that you know how to construct them correctly.\n",
      "That is to say, it is in your best interest that they are built safely and cost effective.\n",
      "On a personal note, you might be walking under that slab form, or standing on that\n",
      "scaffold, or inspecting work at the bottom of that trench when there is a collapse. So, if\n",
      "for no other reason than self-preservation, you should know how to build them correctly."
     ]
    }
   ],
   "metadata": {}
  }
 ]
}