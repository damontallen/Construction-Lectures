{
 "metadata": {
  "celltoolbar": "Slideshow",
  "name": "",
  "signature": "sha256:ffcba79b549b014ddb6d72cd15f4492d8d66f0cffd84c39ef87dd026d5b99e6c"
 },
 "nbformat": 3,
 "nbformat_minor": 0,
 "worksheets": [
  {
   "cells": [
    {
     "cell_type": "heading",
     "level": 1,
     "metadata": {
      "slideshow": {
       "slide_type": "slide"
      }
     },
     "source": [
      "Slab Reshoring"
     ]
    },
    {
     "cell_type": "markdown",
     "metadata": {
      "slideshow": {
       "slide_type": "-"
      }
     },
     "source": [
      "<important class=\"missing\">Video Placeholder<important>"
     ]
    },
    {
     "cell_type": "heading",
     "level": 2,
     "metadata": {
      "slideshow": {
       "slide_type": "slide"
      }
     },
     "source": [
      "What Are Reshores?"
     ]
    },
    {
     "cell_type": "markdown",
     "metadata": {
      "slideshow": {
       "slide_type": "-"
      }
     },
     "source": [
      "<audio controls data-autoplay preload>\n",
      " <source src=\"https://github.com/damontallen/Construction-Lectures/raw/master/Intro/FILE%20NAME.mp3\"\n",
      "         type='audio/mp3'>\n",
      " <p>Your user agent does not support the HTML5 Audio element or the files are missing.</p>\n",
      "</audio>"
     ]
    },
    {
     "cell_type": "markdown",
     "metadata": {},
     "source": [
      "For most multistory structures you will have to use reshoring. To reshore a slab is where your first\n",
      "remove the shoring and formwork and then replace the shores in a snug fit condition. The idea is that\n",
      "these replaced shores will not be carrying the load of the existing slab which they previously supported\n",
      "but rather that they are going to be used to support the future loads on that slab.\n",
      "\n",
      "Think about this example: The ground floor and first floor have been poured in a hotel; now you are\n",
      "going to pour the second floor. In order to support the slab for the second floor you have shores,\n",
      "resting on the first floor, holding up the formwork. When the second floor slab is poured, the dead load\n",
      "due to the concrete, and formwork, as well as the live load due to the construction workers will be held\n",
      "up by that formwork. That load is supported by the shores, which, in turn, are supported by the first\n",
      "floor slab. The first floor slab is already carrying its own self weight, and now this relatively green slab is\n",
      "being called upon to carry all this additional load. If the slab was designed to carry all this additional\n",
      "load in its currently weakened state, then no problem. However, if not you will need to help it out.\n",
      "\n",
      "Because the first floor slab will start to sag before it fails, if you support the sag then the slab will not\n",
      "fail. The question is how much support will you need to provide? Perhaps it might be better to look at a\n",
      "simplified example first."
     ]
    },
    {
     "cell_type": "heading",
     "level": 2,
     "metadata": {
      "slideshow": {
       "slide_type": "slide"
      }
     },
     "source": [
      "Simple Model"
     ]
    },
    {
     "cell_type": "markdown",
     "metadata": {},
     "source": [
      "<audio controls data-autoplay preload>\n",
      " <source src=\"https://github.com/damontallen/Construction-Lectures/raw/master/Intro/FILE%20NAME.mp3\"\n",
      "         type='audio/mp3'>\n",
      " <p>Your user agent does not support the HTML5 Audio element or the files are missing.</p>\n",
      "</audio>"
     ]
    },
    {
     "cell_type": "markdown",
     "metadata": {},
     "source": [
      "Let's start by examining the deflection equation for a <a href = \"http://en.wikipedia.org/wiki/Deflection_(engineering)#Center_loaded_beam\">beam with a center point load</a>.  \n",
      "\n",
      "$$\\Delta = \\frac{P L^3}{48 E I} = P \\left(\\frac{L^3}{48 E I}\\right)$$\n",
      "$$ \\text{(or)}$$\n",
      "$$\\Delta = P \\times k_{eq}$$\n",
      "\n",
      "In this equation we can see that the deflection is proportional to the load.  This is just the same behavior as is observed in [springs](http://en.wikipedia.org/wiki/Hooke's_law#For_linear_springs).  Additionally, this proportionality holds true for all structural objects that behave in a linear elastic manor.  And since new floor slabs behave this way, we can model a slab as a spring.\n",
      "\n",
      "<a href = \"http://i.imgur.com/xkmedp2.png\"><img src=\"http://i.imgur.com/xkmedp2.png\" alt = \"Compressed Supports\" title = \"Compressed Supports\" style=\"max-width:300px; max-height:300px; border:1px solid blue; float:right; margin-left:10px;\"/></a>\n",
      "\n",
      "<a href = \"http://i.imgur.com/p6j8R6s.png\"><img src=\"http://i.imgur.com/p6j8R6s.png\" alt = \"Uncompressed Supports\" title = \"Uncompressed Supports\"style=\"max-width:300px; max-height:300px; border:1px solid blue; float:right; margin-left:3px;\"/></a>\n",
      "\n",
      "Because the deflection of a slab will be orders of magnitude greater than the axial compression of the supporting reshores, we can treat those reshores as a single rigid object.  This also implies that what ever deflection that the top slab undergoes, any supporting slabs will deflect the same amount.  Finally, since the deflection of a slab is proportional to the load placed upon it, we can model the slab-reshore system as springs connected in parallel."
     ]
    },
    {
     "cell_type": "heading",
     "level": 2,
     "metadata": {
      "slideshow": {
       "slide_type": "slide"
      }
     },
     "source": [
      "Simple Model: Continued"
     ]
    },
    {
     "cell_type": "markdown",
     "metadata": {},
     "source": [
      "<audio controls data-autoplay preload>\n",
      " <source src=\"https://github.com/damontallen/Construction-Lectures/raw/master/Intro/FILE%20NAME.mp3\"\n",
      "         type='audio/mp3'>\n",
      " <p>Your user agent does not support the HTML5 Audio element or the files are missing.</p>\n",
      "</audio>"
     ]
    },
    {
     "cell_type": "markdown",
     "metadata": {},
     "source": [
      "<a href = \"http://i.imgur.com/JVjGbhf.png\"><img src=\"http://i.imgur.com/JVjGbhf.png\" alt = \"Compressed Supports\" title = \"Compressed Supports\" style=\"max-width:300px; max-height:300px; border:1px solid blue; float:right; margin-left:10px;\"/></a>\n",
      "\n",
      "The system shown here is the equivalent to formwork being supported by three slabs with reshores seperating them.  Since each of the slabs are of equal stiffness, and are deflecting the same amount, they will each carry the same load, $F$.  If we look at the top bar we see that there is a load $P$ on the top and $3 F$ on the bottom.  Because these loads must be equal and oppisite, $3 F = P$ or $F = \\frac{1}{3} P$.\n",
      "\n",
      "By supporting the load on the top slab with two layers of reshores the reaction loads are cut\n",
      "into thirds. It is a little more complicated in a real structure but at least you can see the idea."
     ]
    },
    {
     "cell_type": "heading",
     "level": 2,
     "metadata": {
      "slideshow": {
       "slide_type": "slide"
      }
     },
     "source": [
      "Real Reshoring"
     ]
    },
    {
     "cell_type": "markdown",
     "metadata": {},
     "source": [
      "<audio controls data-autoplay preload>\n",
      " <source src=\"https://github.com/damontallen/Construction-Lectures/raw/master/Intro/FILE%20NAME.mp3\"\n",
      "         type='audio/mp3'>\n",
      " <p>Your user agent does not support the HTML5 Audio element or the files are missing.</p>\n",
      "</audio>"
     ]
    },
    {
     "cell_type": "markdown",
     "metadata": {},
     "source": [
      "In a real structure, the self-weight of each supporting slab will be about the same as\n",
      "the new slab load. In the simplified example the load due to a new slab would be superimposed with the load due to each slab's self-weight.  The reactions would actually be $1 \\frac{1}{3} P = \\left(\\text{self-weight} + \\frac{1}{3} \\text{of the new slab weight}\\right)$. \n",
      "\n",
      "Additionally, due to the need to leave formwork implace while a slab gains strength, you might have to leave the shores and formwork in place while you are pouring the next slab. That would mean that the still shored slab is being completely\n",
      "supported by lower level slabs and it would not be carrying it own self-weight. \n",
      "\n",
      "It turns out that the sequence that you shore and reshore will have a\n",
      "dramatic effect on how much load a particular slab has to carry, and how much load a set of shores has\n",
      "to carry.  By leaving shores in place, the shores will carry their original load plus some fraction of the new load. This is also the case if you have multiple layers of reshores and you leave some of them in place from one pour\n",
      "to the next. Let\u2019s look at the loads on some slabs, shores, and reshores as a multiple story building is being\n",
      "built."
     ]
    },
    {
     "cell_type": "heading",
     "level": 2,
     "metadata": {
      "slideshow": {
       "slide_type": "slide"
      }
     },
     "source": [
      "Multistory Building"
     ]
    },
    {
     "cell_type": "markdown",
     "metadata": {
      "slideshow": {
       "slide_type": "-"
      }
     },
     "source": [
      "<audio controls data-autoplay preload>\n",
      " <source src=\"https://github.com/damontallen/Construction-Lectures/raw/master/Intro/FILE%20NAME.mp3\"\n",
      "         type='audio/mp3'>\n",
      " <p>Your user agent does not support the HTML5 Audio element or the files are missing.</p>\n",
      "</audio>"
     ]
    },
    {
     "cell_type": "markdown",
     "metadata": {},
     "source": [
      "<a href = \"http://i.imgur.com/xb94twq.png\"><img src=\"http://i.imgur.com/xb94twq.png\" alt = \"First Floor with Sides Stripped\" title = \"First Floor with Sides Stripped\" style=\"max-width:300px; max-height:300px; border:1px solid blue; float:right; margin-left:10px;\"/></a>\n",
      "\n",
      "To start with lets look at a constructions sequence.  First we have our ground floor slab poured and the structural columns in place.  These concrete columns do not carry any load during the pouring of the first floor because they have to be cast into the new slab.  \n",
      "\n",
      "What carries the load of the first floor slab initially is the timber shores.  While those shores are in place the slab cannot sag.  This is a subtle but important point.  If a structural member is carrying a load it must deform in some way, but the corollary of that is also true; a stuctural member must deform in order to carry a load. This means that the slab will not carry any load while those shores are in place.  "
     ]
    },
    {
     "cell_type": "markdown",
     "metadata": {},
     "source": [
      "<a href = \"http://i.imgur.com/7lV4nLg.png\"><img src=\"http://i.imgur.com/7lV4nLg.png\" alt = \"First Floor with Forms Stripped\" title = \"First Floor with Forms Stripped\" style=\"max-width:300px; max-height:300px; border:1px solid blue; float:right; margin-left:10px;\"/></a>\n",
      "\n",
      "For convienence of discussion let's say that the load due to the weight of a slab is equal to $(1 \\times D)$, (for dead load).  It is also important to note that relative to the slab's weight, the formwork self-weight is rather small.  To keep things simple we are going to neglect the weight of the formwork.  This load is always easy to add to back into our calculations later.  Simularly the construction live load can also be added back in to our calculations when we need to account for it.  \n",
      "\n",
      "In summary, we will only be concerened with the dead load due to the slabs' self-weights for the time being.  With that assumption then we can see that the total load being carried by the shores holding up the form work is equal to $D$ (the slab's self-weight).\n"
     ]
    },
    {
     "cell_type": "markdown",
     "metadata": {
      "slideshow": {
       "slide_type": "-"
      }
     },
     "source": [
      "<a href = \"http://i.imgur.com/6AsaBaP.png\"><img src=\"http://i.imgur.com/6AsaBaP.png\" alt = \"First Floor Reshored\" title = \"First Floor Reshored\" style=\"max-width:300px; max-height:300px; border:1px solid blue; float:right; margin-left:10px;\"/></a>\n",
      "\n",
      "It is only after the shores have bee removed does the slab carry its own weight.  However, as the slab still has not reached full strength it needs to be supported if any additional weight is going to be placed on it.  This is where the reshores come in.  Reshores should not be placed in such a way that they are lifting the existing slab.  This would add additional load to the reshores that they do not need to carry.  The existing slab was striped because it could carry its own weight, and the strength of the reshores is needed for the next slab to be poured.  Another way to put this is when the reshores are first placed, before the next floor is poured, they have $(0 \\times D)$ load on them.\n",
      "\n",
      "The load summary at this point is: $1D$ on the slab, and $0D$ on the reshores.\n",
      "\n",
      "*(Continued on the next slide.)*"
     ]
    },
    {
     "cell_type": "heading",
     "level": 2,
     "metadata": {
      "slideshow": {
       "slide_type": "slide"
      }
     },
     "source": [
      "Multistory Building: Continued"
     ]
    },
    {
     "cell_type": "markdown",
     "metadata": {},
     "source": [
      "<audio controls data-autoplay preload>\n",
      " <source src=\"https://github.com/damontallen/Construction-Lectures/raw/master/Intro/FILE%20NAME.mp3\"\n",
      "         type='audio/mp3'>\n",
      " <p>Your user agent does not support the HTML5 Audio element or the files are missing.</p>\n",
      "</audio>"
     ]
    },
    {
     "cell_type": "markdown",
     "metadata": {},
     "source": [
      "<a href = \"http://i.imgur.com/0pGAN8v.png\"><img src=\"http://i.imgur.com/0pGAN8v.png\" alt = \"Second Floor Poured\" title = \"Second Floor Poured\" style=\"max-width:300px; max-height:300px; border:1px solid blue; float:right; margin-left:10px;\"/></a>\n",
      "\n",
      "With the second floor poured, the shores supporting the formwork now carry a $1D$ load.  This load passes through the first floor slab to the reshores below.  This is because the first floor slab cannot sag, and as we covered earlier, if it cannot sag, it cannot carry additional load.  The first floor still carries its own self-weight but because it is locked in place, that is all.  For the reshores this means that they are carrying the same load as the shores, $1D$.\n",
      "\n",
      "The load summary is: $0D$ is carried by the second floor, $1D$ is carried by the shores supporting the second floor, $1D$ is carried by the first floor, and $1D$ is carried by the reshores.\n",
      "\n",
      "This is not too difficult at this point, but keeping track of all the loads is going to get more complicated.  We need to have a system to manage this bookkeeping, and maybe some shorthand symbols for shores, and reshores."
     ]
    },
    {
     "cell_type": "heading",
     "level": 2,
     "metadata": {
      "slideshow": {
       "slide_type": "slide"
      }
     },
     "source": [
      "Bookkeeping System"
     ]
    },
    {
     "cell_type": "markdown",
     "metadata": {},
     "source": [
      "<audio controls data-autoplay preload>\n",
      " <source src=\"https://github.com/damontallen/Construction-Lectures/raw/master/Intro/FILE%20NAME.mp3\"\n",
      "         type='audio/mp3'>\n",
      " <p>Your user agent does not support the HTML5 Audio element or the files are missing.</p>\n",
      "</audio>"
     ]
    },
    {
     "cell_type": "markdown",
     "metadata": {},
     "source": [
      "Frist of all, rather than draw an actual slab with shores and formwork let's simpllify the images to these:\n",
      "\n",
      "<table>\n",
      "<tr><th>Identification</th><th>Symbol</th></tr>\n",
      "<tr><td>Shored Slab</td><td><a href = \"http://i.imgur.com/W6Tqme1.png\"><img src=\"http://i.imgur.com/W6Tqme1.png\" alt = \"Shored Slab\" title = \"Shored Slab\"style=\"max-width:50px; max-height:50px;  float:left; margin-right:3px;\"/></a></td></tr>\n",
      "<tr><td>Unshored Slab</td><td><a href = \"http://i.imgur.com/f9HJsu6.png\"><img src=\"http://i.imgur.com/f9HJsu6.png\" alt = \"Unshored Slab\" title = \"Unshored Slab\"style=\"max-width:50px; max-height:50px;  float:left; margin-right:3px;\"/></a></td></tr>\n",
      "<tr><td>Reshored Slab</td><td><a href = \"http://i.imgur.com/vMgiW58.png\"><img src=\"http://i.imgur.com/vMgiW58.png\" alt = \"Reshored Slab\" title = \"Reshored Slab\"style=\"max-width:50px; max-height:50px;  float:left; margin-right:3px;\"/></a></td></tr>\n",
      "</table>\n",
      "\n",
      "These are quick and easy to draw by hand and they are very simular to the images you will see in Table 5-2 of your Formwork textbook.  Since the load on the shores is no different for a fresh slab verse a cured slab I am not going to make a destinstion in the symbols.  In your work you are welcome to use the symbols shown in Table 5-2 if you think it will add clarity.\n",
      "\n",
      "Next we need to keep track of the loads.  There are basically two procedures we are doing that affect the loads in this process: removing shores (or reshores), and pouring a new slab.  In both of these cases we distribute loads to the supporting slabs, and their structural columns.  We are not concerned with the loads in the structural columns becaused those were accounted for in the building  design.  However, we will need to look at the loads being supported by the slabs because what isn't supported by a slab needs to be supported by a shore, or reshore.  To organize all this information in some usable format, we will need to keep track of it in a table like the one on the next slide."
     ]
    },
    {
     "cell_type": "heading",
     "level": 2,
     "metadata": {
      "slideshow": {
       "slide_type": "slide"
      }
     },
     "source": [
      "Bookkeeping System: Continued"
     ]
    },
    {
     "cell_type": "markdown",
     "metadata": {},
     "source": [
      "<audio controls data-autoplay preload>\n",
      " <source src=\"https://github.com/damontallen/Construction-Lectures/raw/master/Intro/FILE%20NAME.mp3\"\n",
      "         type='audio/mp3'>\n",
      " <p>Your user agent does not support the HTML5 Audio element or the files are missing.</p>\n",
      "</audio>"
     ]
    },
    {
     "cell_type": "markdown",
     "metadata": {},
     "source": [
      "<table>\n",
      "<tr><th>Level</th><th>Item</th><th>Starting Loads</th><th>Load to be Distributed</th><th>New Slab Reactions</th><th style=\"text-align: right;\">Number of Slabs Above<br>- Slab Reactions</th><th>Ending Loads</th><th>Symbols</th></tr>\n",
      "<tr><th rowspan = '2'>3</th><th>Slab</th>\n",
      "    <td>0.5</td>\n",
      "    <td></td>\n",
      "    <td>0.5</td>\n",
      "    <td></td>\n",
      "    <td>0.5</td>\n",
      "    <td rowspan='2'> \n",
      "        <img src=\"http://i.imgur.com/W6Tqme1.png\" alt = \"Shored Slab\" title = \"Shored Slab\"style=\"max-width:50px; max-height:50px;  float:left; margin-right:3px;\"/> \n",
      "        </td>\n",
      "</tr>\n",
      "<tr><th>Shores</th>\n",
      "    <td>0.5</td>\n",
      "    <td></td>\n",
      "    <td></td>\n",
      "    <td>0.5</td>\n",
      "    <td>0.5</td>\n",
      "</tr>\n",
      "<tr><th rowspan = '2'>2</th><th>Slab</th>\n",
      "    <td>1.5</td>\n",
      "    <td></td>\n",
      "    <td>1.5</td>\n",
      "    <td></td>\n",
      "    <td>1.5</td>\n",
      "    <td rowspan='2'> \n",
      "        <img src=\"http://i.imgur.com/vMgiW58.png\" alt = \"Reshored Slab\" title = \"Reshored Slab\"style=\"max-width:50px; max-height:50px;  float:left; margin-right:3px;\"/> \n",
      "        </td>\n",
      "</tr>\n",
      "<tr><th>Reshores</th>\n",
      "    <td></td>\n",
      "    <td></td>\n",
      "    <td></td>\n",
      "    <td>0</td>\n",
      "    <td>0</td>\n",
      "</tr>\n",
      "<tr><th rowspan = '2'>1</th><th>Slab</th>\n",
      "    <td>1</td>\n",
      "    <td></td>\n",
      "    <td>1</td>\n",
      "    <td></td>\n",
      "    <td>1</td>\n",
      "    <td rowspan='2'> \n",
      "        <img src=\"http://i.imgur.com/f9HJsu6.png\" alt = \"Unshored Slab\" title = \"Unshored Slab\"style=\"max-width:50px; max-height:50px;  float:left; margin-right:3px;\"/>\n",
      "        </td>\n",
      "</tr>\n",
      "<tr><th>Empty</th>\n",
      "    <td></td>\n",
      "    <td></td>\n",
      "    <td></td>\n",
      "    <td></td>\n",
      "    <td></td>\n",
      "</tr>\n",
      "</table>"
     ]
    },
    {
     "cell_type": "markdown",
     "metadata": {},
     "source": [
      "To start with let's look at the general format of this table.  You'll notice that a level consists of a space between floors and the slab above.  This is a little different than thinking about floors where you have the space between floors and the slab below, but for bookkeeping purposes this is the best way to think about it.  You can also think about levels as the construction space to build the next floor (if that helps).\n",
      "\n",
      "The item in the \"Item\" column is what the loads on that particular row of the table belong to.  For intance the \"Starting Loads\" for the level 3's slab is $0.5 \\times \\text{a single slab dead load}$ and the \"Ending Loads\" is also $0.5 \\times \\text{a single slab dead load}$.  The reason there is no change in the load is that all is happening here is the addition of reshores, which, as previously indicated, does not add any loads relatice to the slab dead loads.\n",
      "\n",
      "*(Continued on the next slide.)*"
     ]
    },
    {
     "cell_type": "heading",
     "level": 2,
     "metadata": {
      "slideshow": {
       "slide_type": "slide"
      }
     },
     "source": [
      "\"Load to be Distributed\""
     ]
    },
    {
     "cell_type": "markdown",
     "metadata": {},
     "source": [
      "<audio controls data-autoplay preload>\n",
      " <source src=\"https://github.com/damontallen/Construction-Lectures/raw/master/Intro/FILE%20NAME.mp3\"\n",
      "         type='audio/mp3'>\n",
      " <p>Your user agent does not support the HTML5 Audio element or the files are missing.</p>\n",
      "</audio>"
     ]
    },
    {
     "cell_type": "markdown",
     "metadata": {},
     "source": [
      "**Remove Level 3 Reshore**\n",
      "<table border=\"1\" class=\"dataframe\">\n",
      "  <thead>\n",
      "    <tr style=\"text-align: right;\">\n",
      "      <th rowspan = 2>Level</th>\n",
      "      <th rowspan = 2>Item</th>\n",
      "      <th rowspan = 2>Starting Loads</th>\n",
      "      <th rowspan = 2>Load to be Distributed</th>\n",
      "      <th rowspan = 2>New Slab Reactions</th>\n",
      "      <th  rowspan = 2 style=\"text-align: right;\">Number of Slabs Above<br>- Slab Reactions</th>\n",
      "      <th rowspan = 2>Ending Loads</th>\n",
      "      <th rowspan = 2>Symbol</th>\n",
      "    </tr>\n",
      "  </thead>\n",
      "  <tbody>\n",
      "    <tr>\n",
      "      <th rowspan=\"2\" valign=\"top\">3</th>\n",
      "      <th>Slab</th>\n",
      "      <td> 0.3333333</td>\n",
      "      <td>          </td>\n",
      "      <td> 1</td>\n",
      "      <td>  </td>\n",
      "      <td> 1</td>\n",
      "      <td rowspan=2><img src=\"http://i.imgur.com/f9HJsu6.png\" alt = \"Unshored Slab\" title = \"Unshored Slab\"style=\"max-width:50px; max-height:50px;  float:left; margin-right:3px;\"/> </td>\n",
      "    </tr>\n",
      "    <tr>\n",
      "      <th>Empty</th>\n",
      "      <td> 0.6666667</td>\n",
      "      <td> 0.6666667</td>\n",
      "      <td>  </td>\n",
      "      <td>  </td>\n",
      "      <td>  </td>\n",
      "    </tr>\n",
      "    <tr>\n",
      "      <th rowspan=\"2\" valign=\"top\">2</th>\n",
      "      <th>Slab</th>\n",
      "      <td>  1.333333</td>\n",
      "      <td>          </td>\n",
      "      <td> 1</td>\n",
      "      <td>  </td>\n",
      "      <td> 1</td>\n",
      "      <td rowspan=2><img src=\"http://i.imgur.com/vMgiW58.png\" alt = \"Reshored Slab\" title = \"Reshored Slab\"style=\"max-width:50px; max-height:50px;  float:left; margin-right:3px;\"/> </td>\n",
      "    </tr>\n",
      "    <tr>\n",
      "      <th>Reshores</th>\n",
      "      <td> 0.3333333</td>\n",
      "      <td>          </td>\n",
      "      <td>  </td>\n",
      "      <td> 0</td>\n",
      "      <td> 0</td>\n",
      "    </tr>\n",
      "    <tr>\n",
      "      <th rowspan=\"2\" valign=\"top\">1</th>\n",
      "      <th>Slab</th>\n",
      "      <td>  1.333333</td>\n",
      "      <td>          </td>\n",
      "      <td> 1</td>\n",
      "      <td>  </td>\n",
      "      <td> 1</td>\n",
      "      <td rowspan=2><img src=\"http://i.imgur.com/f9HJsu6.png\" alt = \"Unshored Slab\" title = \"Unshored Slab\"style=\"max-width:50px; max-height:50px;  float:left; margin-right:3px;\"/> </td>\n",
      "    </tr>\n",
      "    <tr>\n",
      "      <th>Empty</th>\n",
      "      <td>          </td>\n",
      "      <td>          </td>\n",
      "      <td>  </td>\n",
      "      <td>  </td>\n",
      "      <td>  </td>\n",
      "    </tr>\n",
      "  </tbody>\n",
      "</table>"
     ]
    },
    {
     "cell_type": "markdown",
     "metadata": {},
     "source": [
      "The \"Load to be Distributed\" column will have one value in it that is due to the change that occurs in the action of the procedure, in this case a reshore was removed.  \n",
      "\n",
      "**STOPED HERE**\n",
      "\n",
      "The \"New Slab Reactions\" column will contain the values of the slab reactions after you distribute the load to the supporting slabs.  The \"Number of Slabs Above - Slab Reactions\" column will take a little explaining but it is where you determine the loads on the shores and reshores.  Again, this will make more sense with some examples.  Finally, the \"Symbols\" column is where you draw a sketch of the level.  This is more documentation, than necessity but this can be very useful when trying to visualize what is going on.\n",
      "\n",
      "One last thing about this table, it can have more or less rows depending on how many levels have shoring and reshoring.  Let's look at some examples to see how this works. "
     ]
    },
    {
     "cell_type": "code",
     "collapsed": false,
     "input": [
      "%run Older_Classes/Reshore.py #note \"undo\" is available for one change\n",
      "struct = building()"
     ],
     "language": "python",
     "metadata": {
      "slideshow": {
       "slide_type": "skip"
      }
     },
     "outputs": []
    },
    {
     "cell_type": "heading",
     "level": 2,
     "metadata": {
      "slideshow": {
       "slide_type": "slide"
      }
     },
     "source": [
      "First Floor"
     ]
    },
    {
     "cell_type": "markdown",
     "metadata": {},
     "source": [
      "<audio controls data-autoplay preload>\n",
      " <source src=\"https://github.com/damontallen/Construction-Lectures/raw/master/Intro/FILE%20NAME.mp3\"\n",
      "         type='audio/mp3'>\n",
      " <p>Your user agent does not support the HTML5 Audio element or the files are missing.</p>\n",
      "</audio>"
     ]
    },
    {
     "cell_type": "code",
     "collapsed": false,
     "input": [
      "struct.show"
     ],
     "language": "python",
     "metadata": {},
     "outputs": [
      {
       "html": [
        "<strong>Action taken: ...</strong><table border=\"1\" class=\"dataframe\">\n",
        "  <thead>\n",
        "    <tr style=\"text-align: right;\">\n",
        "      <th rowspan = 2>Level</th>\n",
        "      <th rowspan = 2>Item</th>\n",
        "      <th rowspan = 2>Starting Loads</th>\n",
        "      <th rowspan = 2>Load to be Distributed</th>\n",
        "      <th rowspan = 2>New Slab Reactions</th>\n",
        "      <th  rowspan = 2 style=\"text-align: right;\">Number of Slabs Above<br>- Slab Reactions</th>\n",
        "      <th rowspan = 2>Ending Loads</th>\n",
        "      <th rowspan = 2>Symbol</th>\n",
        "    </tr>\n",
        "  </thead>\n",
        "  <tbody>\n",
        "    <tr>\n",
        "      <th rowspan=\"2\" valign=\"top\">1</th>\n",
        "      <th>Slab</th>\n",
        "      <td> </td>\n",
        "      <td> 1</td>\n",
        "      <td> 0</td>\n",
        "      <td>  </td>\n",
        "      <td> 0</td>\n",
        "      <td rowspan=2><img src=\"http://i.imgur.com/W6Tqme1.png\" alt = \"Shored Slab\" title = \"Shored Slab\"style=\"max-width:50px; max-height:50px;  float:left; margin-right:3px;\"/> </td>\n",
        "    </tr>\n",
        "    <tr>\n",
        "      <th>Shores</th>\n",
        "      <td> </td>\n",
        "      <td>  </td>\n",
        "      <td>  </td>\n",
        "      <td> 1</td>\n",
        "      <td> 1</td>\n",
        "    </tr>\n",
        "  </tbody>\n",
        "</table>\n"
       ],
       "metadata": {},
       "output_type": "pyout",
       "prompt_number": 1,
       "text": [
        "<IPython.core.display.HTML at 0x7f1d6426bdd0>"
       ]
      }
     ],
     "prompt_number": 1
    },
    {
     "cell_type": "code",
     "collapsed": false,
     "input": [
      "struct.add_slab"
     ],
     "language": "python",
     "metadata": {},
     "outputs": [
      {
       "html": [
        "<strong>Action taken: ...</strong><table border=\"1\" class=\"dataframe\">\n",
        "  <thead>\n",
        "    <tr style=\"text-align: right;\">\n",
        "      <th rowspan = 2>Level</th>\n",
        "      <th rowspan = 2>Item</th>\n",
        "      <th rowspan = 2>Starting Loads</th>\n",
        "      <th rowspan = 2>Load to be Distributed</th>\n",
        "      <th rowspan = 2>New Slab Reactions</th>\n",
        "      <th  rowspan = 2 style=\"text-align: right;\">Number of Slabs Above<br>- Slab Reactions</th>\n",
        "      <th rowspan = 2>Ending Loads</th>\n",
        "      <th rowspan = 2>Symbol</th>\n",
        "    </tr>\n",
        "  </thead>\n",
        "  <tbody>\n",
        "    <tr>\n",
        "      <th rowspan=\"2\" valign=\"top\">2</th>\n",
        "      <th>Slab</th>\n",
        "      <td>  </td>\n",
        "      <td> 1</td>\n",
        "      <td> 0</td>\n",
        "      <td>  </td>\n",
        "      <td> 0</td>\n",
        "      <td rowspan=2><img src=\"http://i.imgur.com/W6Tqme1.png\" alt = \"Shored Slab\" title = \"Shored Slab\"style=\"max-width:50px; max-height:50px;  float:left; margin-right:3px;\"/> </td>\n",
        "    </tr>\n",
        "    <tr>\n",
        "      <th>Shores</th>\n",
        "      <td>  </td>\n",
        "      <td>  </td>\n",
        "      <td>  </td>\n",
        "      <td> 1</td>\n",
        "      <td> 1</td>\n",
        "    </tr>\n",
        "    <tr>\n",
        "      <th rowspan=\"2\" valign=\"top\">1</th>\n",
        "      <th>Slab</th>\n",
        "      <td> 0</td>\n",
        "      <td>  </td>\n",
        "      <td> 0</td>\n",
        "      <td>  </td>\n",
        "      <td> 0</td>\n",
        "      <td rowspan=2><img src=\"http://i.imgur.com/W6Tqme1.png\" alt = \"Shored Slab\" title = \"Shored Slab\"style=\"max-width:50px; max-height:50px;  float:left; margin-right:3px;\"/> </td>\n",
        "    </tr>\n",
        "    <tr>\n",
        "      <th>Shores</th>\n",
        "      <td> 1</td>\n",
        "      <td>  </td>\n",
        "      <td>  </td>\n",
        "      <td> 2</td>\n",
        "      <td> 2</td>\n",
        "    </tr>\n",
        "  </tbody>\n",
        "</table>\n"
       ],
       "metadata": {},
       "output_type": "pyout",
       "prompt_number": 2,
       "text": [
        "<IPython.core.display.HTML at 0x7f1d803f8e90>"
       ]
      }
     ],
     "prompt_number": 2
    },
    {
     "cell_type": "heading",
     "level": 2,
     "metadata": {
      "slideshow": {
       "slide_type": "slide"
      }
     },
     "source": [
      "Remove Level 1 Shores"
     ]
    },
    {
     "cell_type": "markdown",
     "metadata": {},
     "source": [
      "<audio controls data-autoplay preload>\n",
      " <source src=\"https://github.com/damontallen/Construction-Lectures/raw/master/Intro/FILE%20NAME.mp3\"\n",
      "         type='audio/mp3'>\n",
      " <p>Your user agent does not support the HTML5 Audio element or the files are missing.</p>\n",
      "</audio>"
     ]
    },
    {
     "cell_type": "code",
     "collapsed": false,
     "input": [
      "struct.remove_shore"
     ],
     "language": "python",
     "metadata": {},
     "outputs": [
      {
       "html": [
        "<strong>Action taken: ...</strong><table border=\"1\" class=\"dataframe\">\n",
        "  <thead>\n",
        "    <tr style=\"text-align: right;\">\n",
        "      <th rowspan = 2>Level</th>\n",
        "      <th rowspan = 2>Item</th>\n",
        "      <th rowspan = 2>Starting Loads</th>\n",
        "      <th rowspan = 2>Load to be Distributed</th>\n",
        "      <th rowspan = 2>New Slab Reactions</th>\n",
        "      <th  rowspan = 2 style=\"text-align: right;\">Number of Slabs Above<br>- Slab Reactions</th>\n",
        "      <th rowspan = 2>Ending Loads</th>\n",
        "      <th rowspan = 2>Symbol</th>\n",
        "    </tr>\n",
        "  </thead>\n",
        "  <tbody>\n",
        "    <tr>\n",
        "      <th rowspan=\"2\" valign=\"top\">2</th>\n",
        "      <th>Slab</th>\n",
        "      <td> 0</td>\n",
        "      <td>  </td>\n",
        "      <td> 1</td>\n",
        "      <td>  </td>\n",
        "      <td> 1</td>\n",
        "      <td rowspan=2><img src=\"http://i.imgur.com/W6Tqme1.png\" alt = \"Shored Slab\" title = \"Shored Slab\"style=\"max-width:50px; max-height:50px;  float:left; margin-right:3px;\"/> </td>\n",
        "    </tr>\n",
        "    <tr>\n",
        "      <th>Shores</th>\n",
        "      <td> 1</td>\n",
        "      <td>  </td>\n",
        "      <td>  </td>\n",
        "      <td> 0</td>\n",
        "      <td> 0</td>\n",
        "    </tr>\n",
        "    <tr>\n",
        "      <th rowspan=\"2\" valign=\"top\">1</th>\n",
        "      <th>Slab</th>\n",
        "      <td> 0</td>\n",
        "      <td>  </td>\n",
        "      <td> 1</td>\n",
        "      <td>  </td>\n",
        "      <td> 1</td>\n",
        "      <td rowspan=2><img src=\"http://i.imgur.com/f9HJsu6.png\" alt = \"Unshored Slab\" title = \"Unshored Slab\"style=\"max-width:50px; max-height:50px;  float:left; margin-right:3px;\"/> </td>\n",
        "    </tr>\n",
        "    <tr>\n",
        "      <th>Empty</th>\n",
        "      <td> 2</td>\n",
        "      <td> 2</td>\n",
        "      <td>  </td>\n",
        "      <td>  </td>\n",
        "      <td>  </td>\n",
        "    </tr>\n",
        "  </tbody>\n",
        "</table>\n"
       ],
       "metadata": {},
       "output_type": "pyout",
       "prompt_number": 3,
       "text": [
        "<IPython.core.display.HTML at 0x7f1d827e6c10>"
       ]
      }
     ],
     "prompt_number": 3
    },
    {
     "cell_type": "code",
     "collapsed": false,
     "input": [
      "struct.reshore"
     ],
     "language": "python",
     "metadata": {},
     "outputs": [
      {
       "output_type": "stream",
       "stream": "stdout",
       "text": [
        "Reshore does not affect loads.  To show the reshore step set show_reshore to True\n"
       ]
      }
     ],
     "prompt_number": 4
    },
    {
     "cell_type": "code",
     "collapsed": false,
     "input": [
      "struct.add_slab"
     ],
     "language": "python",
     "metadata": {},
     "outputs": [
      {
       "html": [
        "<strong>Action taken: ...</strong><table border=\"1\" class=\"dataframe\">\n",
        "  <thead>\n",
        "    <tr style=\"text-align: right;\">\n",
        "      <th rowspan = 2>Level</th>\n",
        "      <th rowspan = 2>Item</th>\n",
        "      <th rowspan = 2>Starting Loads</th>\n",
        "      <th rowspan = 2>Load to be Distributed</th>\n",
        "      <th rowspan = 2>New Slab Reactions</th>\n",
        "      <th  rowspan = 2 style=\"text-align: right;\">Number of Slabs Above<br>- Slab Reactions</th>\n",
        "      <th rowspan = 2>Ending Loads</th>\n",
        "      <th rowspan = 2>Symbol</th>\n",
        "    </tr>\n",
        "  </thead>\n",
        "  <tbody>\n",
        "    <tr>\n",
        "      <th rowspan=\"2\" valign=\"top\">3</th>\n",
        "      <th>Slab</th>\n",
        "      <td>  </td>\n",
        "      <td> 1</td>\n",
        "      <td> 0</td>\n",
        "      <td>  </td>\n",
        "      <td> 0</td>\n",
        "      <td rowspan=2><img src=\"http://i.imgur.com/W6Tqme1.png\" alt = \"Shored Slab\" title = \"Shored Slab\"style=\"max-width:50px; max-height:50px;  float:left; margin-right:3px;\"/> </td>\n",
        "    </tr>\n",
        "    <tr>\n",
        "      <th>Shores</th>\n",
        "      <td>  </td>\n",
        "      <td>  </td>\n",
        "      <td>  </td>\n",
        "      <td> 1</td>\n",
        "      <td> 1</td>\n",
        "    </tr>\n",
        "    <tr>\n",
        "      <th rowspan=\"2\" valign=\"top\">2</th>\n",
        "      <th>Slab</th>\n",
        "      <td> 1</td>\n",
        "      <td>  </td>\n",
        "      <td> 1</td>\n",
        "      <td>  </td>\n",
        "      <td> 1</td>\n",
        "      <td rowspan=2><img src=\"http://i.imgur.com/W6Tqme1.png\" alt = \"Shored Slab\" title = \"Shored Slab\"style=\"max-width:50px; max-height:50px;  float:left; margin-right:3px;\"/> </td>\n",
        "    </tr>\n",
        "    <tr>\n",
        "      <th>Shores</th>\n",
        "      <td> 0</td>\n",
        "      <td>  </td>\n",
        "      <td>  </td>\n",
        "      <td> 1</td>\n",
        "      <td> 1</td>\n",
        "    </tr>\n",
        "    <tr>\n",
        "      <th rowspan=\"2\" valign=\"top\">1</th>\n",
        "      <th>Slab</th>\n",
        "      <td> 1</td>\n",
        "      <td>  </td>\n",
        "      <td> 1</td>\n",
        "      <td>  </td>\n",
        "      <td> 1</td>\n",
        "      <td rowspan=2><img src=\"http://i.imgur.com/vMgiW58.png\" alt = \"Reshored Slab\" title = \"Reshored Slab\"style=\"max-width:50px; max-height:50px;  float:left; margin-right:3px;\"/> </td>\n",
        "    </tr>\n",
        "    <tr>\n",
        "      <th>Reshores</th>\n",
        "      <td> 0</td>\n",
        "      <td>  </td>\n",
        "      <td>  </td>\n",
        "      <td> 1</td>\n",
        "      <td> 1</td>\n",
        "    </tr>\n",
        "  </tbody>\n",
        "</table>\n"
       ],
       "metadata": {},
       "output_type": "pyout",
       "prompt_number": 5,
       "text": [
        "<IPython.core.display.HTML at 0x7f1d827e6d50>"
       ]
      }
     ],
     "prompt_number": 5
    },
    {
     "cell_type": "code",
     "collapsed": false,
     "input": [
      "struct.remove_reshore"
     ],
     "language": "python",
     "metadata": {},
     "outputs": [
      {
       "html": [
        "<strong>Action taken: ...</strong><table border=\"1\" class=\"dataframe\">\n",
        "  <thead>\n",
        "    <tr style=\"text-align: right;\">\n",
        "      <th rowspan = 2>Level</th>\n",
        "      <th rowspan = 2>Item</th>\n",
        "      <th rowspan = 2>Starting Loads</th>\n",
        "      <th rowspan = 2>Load to be Distributed</th>\n",
        "      <th rowspan = 2>New Slab Reactions</th>\n",
        "      <th  rowspan = 2 style=\"text-align: right;\">Number of Slabs Above<br>- Slab Reactions</th>\n",
        "      <th rowspan = 2>Ending Loads</th>\n",
        "      <th rowspan = 2>Symbol</th>\n",
        "    </tr>\n",
        "  </thead>\n",
        "  <tbody>\n",
        "    <tr>\n",
        "      <th rowspan=\"2\" valign=\"top\">3</th>\n",
        "      <th>Slab</th>\n",
        "      <td> 0</td>\n",
        "      <td>  </td>\n",
        "      <td> 0.3333333</td>\n",
        "      <td>          </td>\n",
        "      <td> 0.3333333</td>\n",
        "      <td rowspan=2><img src=\"http://i.imgur.com/W6Tqme1.png\" alt = \"Shored Slab\" title = \"Shored Slab\"style=\"max-width:50px; max-height:50px;  float:left; margin-right:3px;\"/> </td>\n",
        "    </tr>\n",
        "    <tr>\n",
        "      <th>Shores</th>\n",
        "      <td> 1</td>\n",
        "      <td>  </td>\n",
        "      <td>          </td>\n",
        "      <td> 0.6666667</td>\n",
        "      <td> 0.6666667</td>\n",
        "    </tr>\n",
        "    <tr>\n",
        "      <th rowspan=\"2\" valign=\"top\">2</th>\n",
        "      <th>Slab</th>\n",
        "      <td> 1</td>\n",
        "      <td>  </td>\n",
        "      <td>  1.333333</td>\n",
        "      <td>          </td>\n",
        "      <td>  1.333333</td>\n",
        "      <td rowspan=2><img src=\"http://i.imgur.com/W6Tqme1.png\" alt = \"Shored Slab\" title = \"Shored Slab\"style=\"max-width:50px; max-height:50px;  float:left; margin-right:3px;\"/> </td>\n",
        "    </tr>\n",
        "    <tr>\n",
        "      <th>Shores</th>\n",
        "      <td> 1</td>\n",
        "      <td>  </td>\n",
        "      <td>          </td>\n",
        "      <td> 0.3333333</td>\n",
        "      <td> 0.3333333</td>\n",
        "    </tr>\n",
        "    <tr>\n",
        "      <th rowspan=\"2\" valign=\"top\">1</th>\n",
        "      <th>Slab</th>\n",
        "      <td> 1</td>\n",
        "      <td>  </td>\n",
        "      <td>  1.333333</td>\n",
        "      <td>          </td>\n",
        "      <td>  1.333333</td>\n",
        "      <td rowspan=2><img src=\"http://i.imgur.com/f9HJsu6.png\" alt = \"Unshored Slab\" title = \"Unshored Slab\"style=\"max-width:50px; max-height:50px;  float:left; margin-right:3px;\"/> </td>\n",
        "    </tr>\n",
        "    <tr>\n",
        "      <th>Empty</th>\n",
        "      <td> 1</td>\n",
        "      <td> 1</td>\n",
        "      <td>          </td>\n",
        "      <td>          </td>\n",
        "      <td>          </td>\n",
        "    </tr>\n",
        "  </tbody>\n",
        "</table>\n"
       ],
       "metadata": {},
       "output_type": "pyout",
       "prompt_number": 6,
       "text": [
        "<IPython.core.display.HTML at 0x7f1d64262250>"
       ]
      }
     ],
     "prompt_number": 6
    },
    {
     "cell_type": "code",
     "collapsed": false,
     "input": [
      "#print(struct._show_all())"
     ],
     "language": "python",
     "metadata": {},
     "outputs": [],
     "prompt_number": 7
    },
    {
     "cell_type": "code",
     "collapsed": false,
     "input": [
      "struct.remove_shore"
     ],
     "language": "python",
     "metadata": {},
     "outputs": [
      {
       "html": [
        "<strong>Action taken: ...</strong><table border=\"1\" class=\"dataframe\">\n",
        "  <thead>\n",
        "    <tr style=\"text-align: right;\">\n",
        "      <th rowspan = 2>Level</th>\n",
        "      <th rowspan = 2>Item</th>\n",
        "      <th rowspan = 2>Starting Loads</th>\n",
        "      <th rowspan = 2>Load to be Distributed</th>\n",
        "      <th rowspan = 2>New Slab Reactions</th>\n",
        "      <th  rowspan = 2 style=\"text-align: right;\">Number of Slabs Above<br>- Slab Reactions</th>\n",
        "      <th rowspan = 2>Ending Loads</th>\n",
        "      <th rowspan = 2>Symbol</th>\n",
        "    </tr>\n",
        "  </thead>\n",
        "  <tbody>\n",
        "    <tr>\n",
        "      <th rowspan=\"2\" valign=\"top\">3</th>\n",
        "      <th>Slab</th>\n",
        "      <td> 0.3333333</td>\n",
        "      <td>          </td>\n",
        "      <td> 0.5</td>\n",
        "      <td>    </td>\n",
        "      <td> 0.5</td>\n",
        "      <td rowspan=2><img src=\"http://i.imgur.com/W6Tqme1.png\" alt = \"Shored Slab\" title = \"Shored Slab\"style=\"max-width:50px; max-height:50px;  float:left; margin-right:3px;\"/> </td>\n",
        "    </tr>\n",
        "    <tr>\n",
        "      <th>Shores</th>\n",
        "      <td> 0.6666667</td>\n",
        "      <td>          </td>\n",
        "      <td>    </td>\n",
        "      <td> 0.5</td>\n",
        "      <td> 0.5</td>\n",
        "    </tr>\n",
        "    <tr>\n",
        "      <th rowspan=\"2\" valign=\"top\">2</th>\n",
        "      <th>Slab</th>\n",
        "      <td>  1.333333</td>\n",
        "      <td>          </td>\n",
        "      <td> 1.5</td>\n",
        "      <td>    </td>\n",
        "      <td> 1.5</td>\n",
        "      <td rowspan=2><img src=\"http://i.imgur.com/f9HJsu6.png\" alt = \"Unshored Slab\" title = \"Unshored Slab\"style=\"max-width:50px; max-height:50px;  float:left; margin-right:3px;\"/> </td>\n",
        "    </tr>\n",
        "    <tr>\n",
        "      <th>Empty</th>\n",
        "      <td> 0.3333333</td>\n",
        "      <td> 0.3333333</td>\n",
        "      <td>    </td>\n",
        "      <td>    </td>\n",
        "      <td>    </td>\n",
        "    </tr>\n",
        "  </tbody>\n",
        "</table>\n"
       ],
       "metadata": {},
       "output_type": "pyout",
       "prompt_number": 8,
       "text": [
        "<IPython.core.display.HTML at 0x7f1d6420b2d0>"
       ]
      }
     ],
     "prompt_number": 8
    },
    {
     "cell_type": "code",
     "collapsed": false,
     "input": [
      "struct.reshore\n",
      "struct.show"
     ],
     "language": "python",
     "metadata": {},
     "outputs": [
      {
       "output_type": "stream",
       "stream": "stdout",
       "text": [
        "Reshore does not affect loads.  To show the reshore step set show_reshore to True\n"
       ]
      },
      {
       "html": [
        "<strong>Action taken: ...</strong><table border=\"1\" class=\"dataframe\">\n",
        "  <thead>\n",
        "    <tr style=\"text-align: right;\">\n",
        "      <th rowspan = 2>Level</th>\n",
        "      <th rowspan = 2>Item</th>\n",
        "      <th rowspan = 2>Starting Loads</th>\n",
        "      <th rowspan = 2>Load to be Distributed</th>\n",
        "      <th rowspan = 2>New Slab Reactions</th>\n",
        "      <th  rowspan = 2 style=\"text-align: right;\">Number of Slabs Above<br>- Slab Reactions</th>\n",
        "      <th rowspan = 2>Ending Loads</th>\n",
        "      <th rowspan = 2>Symbol</th>\n",
        "    </tr>\n",
        "  </thead>\n",
        "  <tbody>\n",
        "    <tr>\n",
        "      <th rowspan=\"2\" valign=\"top\">3</th>\n",
        "      <th>Slab</th>\n",
        "      <td> 0.5</td>\n",
        "      <td> </td>\n",
        "      <td> 0.5</td>\n",
        "      <td>    </td>\n",
        "      <td> 0.5</td>\n",
        "      <td rowspan=2><img src=\"http://i.imgur.com/W6Tqme1.png\" alt = \"Shored Slab\" title = \"Shored Slab\"style=\"max-width:50px; max-height:50px;  float:left; margin-right:3px;\"/> </td>\n",
        "    </tr>\n",
        "    <tr>\n",
        "      <th>Shores</th>\n",
        "      <td> 0.5</td>\n",
        "      <td> </td>\n",
        "      <td>    </td>\n",
        "      <td> 0.5</td>\n",
        "      <td> 0.5</td>\n",
        "    </tr>\n",
        "    <tr>\n",
        "      <th rowspan=\"2\" valign=\"top\">2</th>\n",
        "      <th>Slab</th>\n",
        "      <td> 1.5</td>\n",
        "      <td> </td>\n",
        "      <td> 1.5</td>\n",
        "      <td>    </td>\n",
        "      <td> 1.5</td>\n",
        "      <td rowspan=2><img src=\"http://i.imgur.com/vMgiW58.png\" alt = \"Reshored Slab\" title = \"Reshored Slab\"style=\"max-width:50px; max-height:50px;  float:left; margin-right:3px;\"/> </td>\n",
        "    </tr>\n",
        "    <tr>\n",
        "      <th>Reshores</th>\n",
        "      <td>    </td>\n",
        "      <td> </td>\n",
        "      <td>    </td>\n",
        "      <td>   0</td>\n",
        "      <td>   0</td>\n",
        "    </tr>\n",
        "    <tr>\n",
        "      <th rowspan=\"2\" valign=\"top\">1</th>\n",
        "      <th>Slab</th>\n",
        "      <td>   1</td>\n",
        "      <td> </td>\n",
        "      <td>   1</td>\n",
        "      <td>    </td>\n",
        "      <td>   1</td>\n",
        "      <td rowspan=2><img src=\"http://i.imgur.com/f9HJsu6.png\" alt = \"Unshored Slab\" title = \"Unshored Slab\"style=\"max-width:50px; max-height:50px;  float:left; margin-right:3px;\"/> </td>\n",
        "    </tr>\n",
        "    <tr>\n",
        "      <th>Empty</th>\n",
        "      <td>    </td>\n",
        "      <td> </td>\n",
        "      <td>    </td>\n",
        "      <td>    </td>\n",
        "      <td>    </td>\n",
        "    </tr>\n",
        "  </tbody>\n",
        "</table>\n"
       ],
       "metadata": {},
       "output_type": "pyout",
       "prompt_number": 9,
       "text": [
        "<IPython.core.display.HTML at 0x7f1d827e67d0>"
       ]
      }
     ],
     "prompt_number": 9
    },
    {
     "cell_type": "code",
     "collapsed": false,
     "input": [
      "struct.remove_reshore"
     ],
     "language": "python",
     "metadata": {},
     "outputs": [
      {
       "html": [
        "<strong>Action taken: ...</strong><table border=\"1\" class=\"dataframe\">\n",
        "  <thead>\n",
        "    <tr style=\"text-align: right;\">\n",
        "      <th rowspan = 2>Level</th>\n",
        "      <th rowspan = 2>Item</th>\n",
        "      <th rowspan = 2>Starting Loads</th>\n",
        "      <th rowspan = 2>Load to be Distributed</th>\n",
        "      <th rowspan = 2>New Slab Reactions</th>\n",
        "      <th  rowspan = 2 style=\"text-align: right;\">Number of Slabs Above<br>- Slab Reactions</th>\n",
        "      <th rowspan = 2>Ending Loads</th>\n",
        "      <th rowspan = 2>Symbol</th>\n",
        "    </tr>\n",
        "  </thead>\n",
        "  <tbody>\n",
        "    <tr>\n",
        "      <th rowspan=\"2\" valign=\"top\">3</th>\n",
        "      <th>Slab</th>\n",
        "      <td> 0.5</td>\n",
        "      <td>  </td>\n",
        "      <td> 0.5</td>\n",
        "      <td>    </td>\n",
        "      <td> 0.5</td>\n",
        "      <td rowspan=2><img src=\"http://i.imgur.com/W6Tqme1.png\" alt = \"Shored Slab\" title = \"Shored Slab\"style=\"max-width:50px; max-height:50px;  float:left; margin-right:3px;\"/> </td>\n",
        "    </tr>\n",
        "    <tr>\n",
        "      <th>Shores</th>\n",
        "      <td> 0.5</td>\n",
        "      <td>  </td>\n",
        "      <td>    </td>\n",
        "      <td> 0.5</td>\n",
        "      <td> 0.5</td>\n",
        "    </tr>\n",
        "    <tr>\n",
        "      <th rowspan=\"2\" valign=\"top\">2</th>\n",
        "      <th>Slab</th>\n",
        "      <td> 1.5</td>\n",
        "      <td>  </td>\n",
        "      <td> 1.5</td>\n",
        "      <td>    </td>\n",
        "      <td> 1.5</td>\n",
        "      <td rowspan=2><img src=\"http://i.imgur.com/f9HJsu6.png\" alt = \"Unshored Slab\" title = \"Unshored Slab\"style=\"max-width:50px; max-height:50px;  float:left; margin-right:3px;\"/> </td>\n",
        "    </tr>\n",
        "    <tr>\n",
        "      <th>Empty</th>\n",
        "      <td>   0</td>\n",
        "      <td> 0</td>\n",
        "      <td>    </td>\n",
        "      <td>    </td>\n",
        "      <td>    </td>\n",
        "    </tr>\n",
        "  </tbody>\n",
        "</table>\n"
       ],
       "metadata": {},
       "output_type": "pyout",
       "prompt_number": 10,
       "text": [
        "<IPython.core.display.HTML at 0x7f1d64229c10>"
       ]
      }
     ],
     "prompt_number": 10
    },
    {
     "cell_type": "code",
     "collapsed": false,
     "input": [
      "struct = building()\n",
      "struct.show"
     ],
     "language": "python",
     "metadata": {},
     "outputs": [
      {
       "html": [
        "<strong>Action taken: ...</strong><table border=\"1\" class=\"dataframe\">\n",
        "  <thead>\n",
        "    <tr style=\"text-align: right;\">\n",
        "      <th rowspan = 2>Level</th>\n",
        "      <th rowspan = 2>Item</th>\n",
        "      <th rowspan = 2>Starting Loads</th>\n",
        "      <th rowspan = 2>Load to be Distributed</th>\n",
        "      <th rowspan = 2>New Slab Reactions</th>\n",
        "      <th  rowspan = 2 style=\"text-align: right;\">Number of Slabs Above<br>- Slab Reactions</th>\n",
        "      <th rowspan = 2>Ending Loads</th>\n",
        "      <th rowspan = 2>Symbol</th>\n",
        "    </tr>\n",
        "  </thead>\n",
        "  <tbody>\n",
        "    <tr>\n",
        "      <th rowspan=\"2\" valign=\"top\">1</th>\n",
        "      <th>Slab</th>\n",
        "      <td> </td>\n",
        "      <td> 1</td>\n",
        "      <td> 0</td>\n",
        "      <td>  </td>\n",
        "      <td> 0</td>\n",
        "      <td rowspan=2><img src=\"http://i.imgur.com/W6Tqme1.png\" alt = \"Shored Slab\" title = \"Shored Slab\"style=\"max-width:50px; max-height:50px;  float:left; margin-right:3px;\"/> </td>\n",
        "    </tr>\n",
        "    <tr>\n",
        "      <th>Shores</th>\n",
        "      <td> </td>\n",
        "      <td>  </td>\n",
        "      <td>  </td>\n",
        "      <td> 1</td>\n",
        "      <td> 1</td>\n",
        "    </tr>\n",
        "  </tbody>\n",
        "</table>\n"
       ],
       "metadata": {},
       "output_type": "pyout",
       "prompt_number": 11,
       "text": [
        "<IPython.core.display.HTML at 0x7f1d64229b50>"
       ]
      }
     ],
     "prompt_number": 11
    },
    {
     "cell_type": "code",
     "collapsed": false,
     "input": [
      "struct.remove_shore"
     ],
     "language": "python",
     "metadata": {},
     "outputs": [
      {
       "html": [
        "<strong>Action taken: ...</strong><table border=\"1\" class=\"dataframe\">\n",
        "  <thead>\n",
        "    <tr style=\"text-align: right;\">\n",
        "      <th rowspan = 2>Level</th>\n",
        "      <th rowspan = 2>Item</th>\n",
        "      <th rowspan = 2>Starting Loads</th>\n",
        "      <th rowspan = 2>Load to be Distributed</th>\n",
        "      <th rowspan = 2>New Slab Reactions</th>\n",
        "      <th  rowspan = 2 style=\"text-align: right;\">Number of Slabs Above<br>- Slab Reactions</th>\n",
        "      <th rowspan = 2>Ending Loads</th>\n",
        "      <th rowspan = 2>Symbol</th>\n",
        "    </tr>\n",
        "  </thead>\n",
        "  <tbody>\n",
        "    <tr>\n",
        "      <th rowspan=\"2\" valign=\"top\">1</th>\n",
        "      <th>Slab</th>\n",
        "      <td> 0</td>\n",
        "      <td>  </td>\n",
        "      <td> 1</td>\n",
        "      <td> </td>\n",
        "      <td> 1</td>\n",
        "      <td rowspan=2><img src=\"http://i.imgur.com/f9HJsu6.png\" alt = \"Unshored Slab\" title = \"Unshored Slab\"style=\"max-width:50px; max-height:50px;  float:left; margin-right:3px;\"/> </td>\n",
        "    </tr>\n",
        "    <tr>\n",
        "      <th>Empty</th>\n",
        "      <td> 1</td>\n",
        "      <td> 1</td>\n",
        "      <td>  </td>\n",
        "      <td> </td>\n",
        "      <td>  </td>\n",
        "    </tr>\n",
        "  </tbody>\n",
        "</table>\n"
       ],
       "metadata": {},
       "output_type": "pyout",
       "prompt_number": 12,
       "text": [
        "<IPython.core.display.HTML at 0x7f1d64229e10>"
       ]
      }
     ],
     "prompt_number": 12
    },
    {
     "cell_type": "code",
     "collapsed": false,
     "input": [
      "struct.reshore"
     ],
     "language": "python",
     "metadata": {},
     "outputs": [
      {
       "output_type": "stream",
       "stream": "stdout",
       "text": [
        "Reshore does not affect loads.  To show the reshore step set show_reshore to True\n"
       ]
      }
     ],
     "prompt_number": 13
    },
    {
     "cell_type": "code",
     "collapsed": false,
     "input": [
      "struct.add_slab"
     ],
     "language": "python",
     "metadata": {},
     "outputs": [
      {
       "html": [
        "<strong>Action taken: ...</strong><table border=\"1\" class=\"dataframe\">\n",
        "  <thead>\n",
        "    <tr style=\"text-align: right;\">\n",
        "      <th rowspan = 2>Level</th>\n",
        "      <th rowspan = 2>Item</th>\n",
        "      <th rowspan = 2>Starting Loads</th>\n",
        "      <th rowspan = 2>Load to be Distributed</th>\n",
        "      <th rowspan = 2>New Slab Reactions</th>\n",
        "      <th  rowspan = 2 style=\"text-align: right;\">Number of Slabs Above<br>- Slab Reactions</th>\n",
        "      <th rowspan = 2>Ending Loads</th>\n",
        "      <th rowspan = 2>Symbol</th>\n",
        "    </tr>\n",
        "  </thead>\n",
        "  <tbody>\n",
        "    <tr>\n",
        "      <th rowspan=\"2\" valign=\"top\">2</th>\n",
        "      <th>Slab</th>\n",
        "      <td>  </td>\n",
        "      <td> 1</td>\n",
        "      <td> 0</td>\n",
        "      <td>  </td>\n",
        "      <td> 0</td>\n",
        "      <td rowspan=2><img src=\"http://i.imgur.com/W6Tqme1.png\" alt = \"Shored Slab\" title = \"Shored Slab\"style=\"max-width:50px; max-height:50px;  float:left; margin-right:3px;\"/> </td>\n",
        "    </tr>\n",
        "    <tr>\n",
        "      <th>Shores</th>\n",
        "      <td>  </td>\n",
        "      <td>  </td>\n",
        "      <td>  </td>\n",
        "      <td> 1</td>\n",
        "      <td> 1</td>\n",
        "    </tr>\n",
        "    <tr>\n",
        "      <th rowspan=\"2\" valign=\"top\">1</th>\n",
        "      <th>Slab</th>\n",
        "      <td> 1</td>\n",
        "      <td>  </td>\n",
        "      <td> 1</td>\n",
        "      <td>  </td>\n",
        "      <td> 1</td>\n",
        "      <td rowspan=2><img src=\"http://i.imgur.com/vMgiW58.png\" alt = \"Reshored Slab\" title = \"Reshored Slab\"style=\"max-width:50px; max-height:50px;  float:left; margin-right:3px;\"/> </td>\n",
        "    </tr>\n",
        "    <tr>\n",
        "      <th>Reshores</th>\n",
        "      <td> 0</td>\n",
        "      <td>  </td>\n",
        "      <td>  </td>\n",
        "      <td> 1</td>\n",
        "      <td> 1</td>\n",
        "    </tr>\n",
        "  </tbody>\n",
        "</table>\n"
       ],
       "metadata": {},
       "output_type": "pyout",
       "prompt_number": 14,
       "text": [
        "<IPython.core.display.HTML at 0x7f1d64229850>"
       ]
      }
     ],
     "prompt_number": 14
    },
    {
     "cell_type": "code",
     "collapsed": false,
     "input": [
      "struct.remove_shore"
     ],
     "language": "python",
     "metadata": {},
     "outputs": [
      {
       "html": [
        "<strong>Action taken: ...</strong><table border=\"1\" class=\"dataframe\">\n",
        "  <thead>\n",
        "    <tr style=\"text-align: right;\">\n",
        "      <th rowspan = 2>Level</th>\n",
        "      <th rowspan = 2>Item</th>\n",
        "      <th rowspan = 2>Starting Loads</th>\n",
        "      <th rowspan = 2>Load to be Distributed</th>\n",
        "      <th rowspan = 2>New Slab Reactions</th>\n",
        "      <th  rowspan = 2 style=\"text-align: right;\">Number of Slabs Above<br>- Slab Reactions</th>\n",
        "      <th rowspan = 2>Ending Loads</th>\n",
        "      <th rowspan = 2>Symbol</th>\n",
        "    </tr>\n",
        "  </thead>\n",
        "  <tbody>\n",
        "    <tr>\n",
        "      <th rowspan=\"2\" valign=\"top\">2</th>\n",
        "      <th>Slab</th>\n",
        "      <td> 0</td>\n",
        "      <td>  </td>\n",
        "      <td> 1</td>\n",
        "      <td>  </td>\n",
        "      <td> 1</td>\n",
        "      <td rowspan=2><img src=\"http://i.imgur.com/f9HJsu6.png\" alt = \"Unshored Slab\" title = \"Unshored Slab\"style=\"max-width:50px; max-height:50px;  float:left; margin-right:3px;\"/> </td>\n",
        "    </tr>\n",
        "    <tr>\n",
        "      <th>Empty</th>\n",
        "      <td> 1</td>\n",
        "      <td> 1</td>\n",
        "      <td>  </td>\n",
        "      <td>  </td>\n",
        "      <td>  </td>\n",
        "    </tr>\n",
        "    <tr>\n",
        "      <th rowspan=\"2\" valign=\"top\">1</th>\n",
        "      <th>Slab</th>\n",
        "      <td> 1</td>\n",
        "      <td>  </td>\n",
        "      <td> 1</td>\n",
        "      <td>  </td>\n",
        "      <td> 1</td>\n",
        "      <td rowspan=2><img src=\"http://i.imgur.com/vMgiW58.png\" alt = \"Reshored Slab\" title = \"Reshored Slab\"style=\"max-width:50px; max-height:50px;  float:left; margin-right:3px;\"/> </td>\n",
        "    </tr>\n",
        "    <tr>\n",
        "      <th>Reshores</th>\n",
        "      <td> 1</td>\n",
        "      <td>  </td>\n",
        "      <td>  </td>\n",
        "      <td> 0</td>\n",
        "      <td> 0</td>\n",
        "    </tr>\n",
        "  </tbody>\n",
        "</table>\n"
       ],
       "metadata": {},
       "output_type": "pyout",
       "prompt_number": 15,
       "text": [
        "<IPython.core.display.HTML at 0x7f1d6420bcd0>"
       ]
      }
     ],
     "prompt_number": 15
    },
    {
     "cell_type": "code",
     "collapsed": false,
     "input": [
      "struct.reshore"
     ],
     "language": "python",
     "metadata": {},
     "outputs": [
      {
       "output_type": "stream",
       "stream": "stdout",
       "text": [
        "Reshore does not affect loads.  To show the reshore step set show_reshore to True\n"
       ]
      }
     ],
     "prompt_number": 16
    },
    {
     "cell_type": "code",
     "collapsed": false,
     "input": [
      "struct.add_slab"
     ],
     "language": "python",
     "metadata": {},
     "outputs": [
      {
       "html": [
        "<strong>Action taken: ...</strong><table border=\"1\" class=\"dataframe\">\n",
        "  <thead>\n",
        "    <tr style=\"text-align: right;\">\n",
        "      <th rowspan = 2>Level</th>\n",
        "      <th rowspan = 2>Item</th>\n",
        "      <th rowspan = 2>Starting Loads</th>\n",
        "      <th rowspan = 2>Load to be Distributed</th>\n",
        "      <th rowspan = 2>New Slab Reactions</th>\n",
        "      <th  rowspan = 2 style=\"text-align: right;\">Number of Slabs Above<br>- Slab Reactions</th>\n",
        "      <th rowspan = 2>Ending Loads</th>\n",
        "      <th rowspan = 2>Symbol</th>\n",
        "    </tr>\n",
        "  </thead>\n",
        "  <tbody>\n",
        "    <tr>\n",
        "      <th rowspan=\"2\" valign=\"top\">3</th>\n",
        "      <th>Slab</th>\n",
        "      <td>  </td>\n",
        "      <td> 1</td>\n",
        "      <td> 0</td>\n",
        "      <td>  </td>\n",
        "      <td> 0</td>\n",
        "      <td rowspan=2><img src=\"http://i.imgur.com/W6Tqme1.png\" alt = \"Shored Slab\" title = \"Shored Slab\"style=\"max-width:50px; max-height:50px;  float:left; margin-right:3px;\"/> </td>\n",
        "    </tr>\n",
        "    <tr>\n",
        "      <th>Shores</th>\n",
        "      <td>  </td>\n",
        "      <td>  </td>\n",
        "      <td>  </td>\n",
        "      <td> 1</td>\n",
        "      <td> 1</td>\n",
        "    </tr>\n",
        "    <tr>\n",
        "      <th rowspan=\"2\" valign=\"top\">2</th>\n",
        "      <th>Slab</th>\n",
        "      <td> 1</td>\n",
        "      <td>  </td>\n",
        "      <td> 1</td>\n",
        "      <td>  </td>\n",
        "      <td> 1</td>\n",
        "      <td rowspan=2><img src=\"http://i.imgur.com/vMgiW58.png\" alt = \"Reshored Slab\" title = \"Reshored Slab\"style=\"max-width:50px; max-height:50px;  float:left; margin-right:3px;\"/> </td>\n",
        "    </tr>\n",
        "    <tr>\n",
        "      <th>Reshores</th>\n",
        "      <td> 0</td>\n",
        "      <td>  </td>\n",
        "      <td>  </td>\n",
        "      <td> 1</td>\n",
        "      <td> 1</td>\n",
        "    </tr>\n",
        "    <tr>\n",
        "      <th rowspan=\"2\" valign=\"top\">1</th>\n",
        "      <th>Slab</th>\n",
        "      <td> 1</td>\n",
        "      <td>  </td>\n",
        "      <td> 1</td>\n",
        "      <td>  </td>\n",
        "      <td> 1</td>\n",
        "      <td rowspan=2><img src=\"http://i.imgur.com/vMgiW58.png\" alt = \"Reshored Slab\" title = \"Reshored Slab\"style=\"max-width:50px; max-height:50px;  float:left; margin-right:3px;\"/> </td>\n",
        "    </tr>\n",
        "    <tr>\n",
        "      <th>Reshores</th>\n",
        "      <td> 0</td>\n",
        "      <td>  </td>\n",
        "      <td>  </td>\n",
        "      <td> 1</td>\n",
        "      <td> 1</td>\n",
        "    </tr>\n",
        "  </tbody>\n",
        "</table>\n"
       ],
       "metadata": {},
       "output_type": "pyout",
       "prompt_number": 17,
       "text": [
        "<IPython.core.display.HTML at 0x7f1d6420b950>"
       ]
      }
     ],
     "prompt_number": 17
    },
    {
     "cell_type": "code",
     "collapsed": false,
     "input": [
      "backup = struct.df"
     ],
     "language": "python",
     "metadata": {},
     "outputs": [],
     "prompt_number": 18
    },
    {
     "cell_type": "markdown",
     "metadata": {},
     "source": [
      "Now let's look at what happens if you don't remove the shores and replace them with reshores."
     ]
    },
    {
     "cell_type": "code",
     "collapsed": false,
     "input": [
      "struct.add_slab"
     ],
     "language": "python",
     "metadata": {},
     "outputs": [
      {
       "html": [
        "<strong>Action taken: ...</strong><table border=\"1\" class=\"dataframe\">\n",
        "  <thead>\n",
        "    <tr style=\"text-align: right;\">\n",
        "      <th rowspan = 2>Level</th>\n",
        "      <th rowspan = 2>Item</th>\n",
        "      <th rowspan = 2>Starting Loads</th>\n",
        "      <th rowspan = 2>Load to be Distributed</th>\n",
        "      <th rowspan = 2>New Slab Reactions</th>\n",
        "      <th  rowspan = 2 style=\"text-align: right;\">Number of Slabs Above<br>- Slab Reactions</th>\n",
        "      <th rowspan = 2>Ending Loads</th>\n",
        "      <th rowspan = 2>Symbol</th>\n",
        "    </tr>\n",
        "  </thead>\n",
        "  <tbody>\n",
        "    <tr>\n",
        "      <th rowspan=\"2\" valign=\"top\">4</th>\n",
        "      <th>Slab</th>\n",
        "      <td>  </td>\n",
        "      <td> 1</td>\n",
        "      <td> 0</td>\n",
        "      <td>  </td>\n",
        "      <td> 0</td>\n",
        "      <td rowspan=2><img src=\"http://i.imgur.com/W6Tqme1.png\" alt = \"Shored Slab\" title = \"Shored Slab\"style=\"max-width:50px; max-height:50px;  float:left; margin-right:3px;\"/> </td>\n",
        "    </tr>\n",
        "    <tr>\n",
        "      <th>Shores</th>\n",
        "      <td>  </td>\n",
        "      <td>  </td>\n",
        "      <td>  </td>\n",
        "      <td> 1</td>\n",
        "      <td> 1</td>\n",
        "    </tr>\n",
        "    <tr>\n",
        "      <th rowspan=\"2\" valign=\"top\">3</th>\n",
        "      <th>Slab</th>\n",
        "      <td> 0</td>\n",
        "      <td>  </td>\n",
        "      <td> 0</td>\n",
        "      <td>  </td>\n",
        "      <td> 0</td>\n",
        "      <td rowspan=2><img src=\"http://i.imgur.com/W6Tqme1.png\" alt = \"Shored Slab\" title = \"Shored Slab\"style=\"max-width:50px; max-height:50px;  float:left; margin-right:3px;\"/> </td>\n",
        "    </tr>\n",
        "    <tr>\n",
        "      <th>Shores</th>\n",
        "      <td> 1</td>\n",
        "      <td>  </td>\n",
        "      <td>  </td>\n",
        "      <td> 2</td>\n",
        "      <td> 2</td>\n",
        "    </tr>\n",
        "    <tr>\n",
        "      <th rowspan=\"2\" valign=\"top\">2</th>\n",
        "      <th>Slab</th>\n",
        "      <td> 1</td>\n",
        "      <td>  </td>\n",
        "      <td> 1</td>\n",
        "      <td>  </td>\n",
        "      <td> 1</td>\n",
        "      <td rowspan=2><img src=\"http://i.imgur.com/vMgiW58.png\" alt = \"Reshored Slab\" title = \"Reshored Slab\"style=\"max-width:50px; max-height:50px;  float:left; margin-right:3px;\"/> </td>\n",
        "    </tr>\n",
        "    <tr>\n",
        "      <th>Reshores</th>\n",
        "      <td> 1</td>\n",
        "      <td>  </td>\n",
        "      <td>  </td>\n",
        "      <td> 2</td>\n",
        "      <td> 2</td>\n",
        "    </tr>\n",
        "    <tr>\n",
        "      <th rowspan=\"2\" valign=\"top\">1</th>\n",
        "      <th>Slab</th>\n",
        "      <td> 1</td>\n",
        "      <td>  </td>\n",
        "      <td> 1</td>\n",
        "      <td>  </td>\n",
        "      <td> 1</td>\n",
        "      <td rowspan=2><img src=\"http://i.imgur.com/vMgiW58.png\" alt = \"Reshored Slab\" title = \"Reshored Slab\"style=\"max-width:50px; max-height:50px;  float:left; margin-right:3px;\"/> </td>\n",
        "    </tr>\n",
        "    <tr>\n",
        "      <th>Reshores</th>\n",
        "      <td> 1</td>\n",
        "      <td>  </td>\n",
        "      <td>  </td>\n",
        "      <td> 2</td>\n",
        "      <td> 2</td>\n",
        "    </tr>\n",
        "  </tbody>\n",
        "</table>\n"
       ],
       "metadata": {},
       "output_type": "pyout",
       "prompt_number": 19,
       "text": [
        "<IPython.core.display.HTML at 0x7f1d64229a10>"
       ]
      }
     ],
     "prompt_number": 19
    },
    {
     "cell_type": "markdown",
     "metadata": {},
     "source": [
      "The loads on our shores are twice what we designed them for!"
     ]
    },
    {
     "cell_type": "code",
     "collapsed": false,
     "input": [
      "struct.remove_reshore"
     ],
     "language": "python",
     "metadata": {},
     "outputs": [
      {
       "html": [
        "<strong>Action taken: ...</strong><table border=\"1\" class=\"dataframe\">\n",
        "  <thead>\n",
        "    <tr style=\"text-align: right;\">\n",
        "      <th rowspan = 2>Level</th>\n",
        "      <th rowspan = 2>Item</th>\n",
        "      <th rowspan = 2>Starting Loads</th>\n",
        "      <th rowspan = 2>Load to be Distributed</th>\n",
        "      <th rowspan = 2>New Slab Reactions</th>\n",
        "      <th  rowspan = 2 style=\"text-align: right;\">Number of Slabs Above<br>- Slab Reactions</th>\n",
        "      <th rowspan = 2>Ending Loads</th>\n",
        "      <th rowspan = 2>Symbol</th>\n",
        "    </tr>\n",
        "  </thead>\n",
        "  <tbody>\n",
        "    <tr>\n",
        "      <th rowspan=\"2\" valign=\"top\">4</th>\n",
        "      <th>Slab</th>\n",
        "      <td> 0</td>\n",
        "      <td>  </td>\n",
        "      <td> 0.5</td>\n",
        "      <td>    </td>\n",
        "      <td> 0.5</td>\n",
        "      <td rowspan=2><img src=\"http://i.imgur.com/W6Tqme1.png\" alt = \"Shored Slab\" title = \"Shored Slab\"style=\"max-width:50px; max-height:50px;  float:left; margin-right:3px;\"/> </td>\n",
        "    </tr>\n",
        "    <tr>\n",
        "      <th>Shores</th>\n",
        "      <td> 1</td>\n",
        "      <td>  </td>\n",
        "      <td>    </td>\n",
        "      <td> 0.5</td>\n",
        "      <td> 0.5</td>\n",
        "    </tr>\n",
        "    <tr>\n",
        "      <th rowspan=\"2\" valign=\"top\">3</th>\n",
        "      <th>Slab</th>\n",
        "      <td> 0</td>\n",
        "      <td>  </td>\n",
        "      <td> 0.5</td>\n",
        "      <td>    </td>\n",
        "      <td> 0.5</td>\n",
        "      <td rowspan=2><img src=\"http://i.imgur.com/W6Tqme1.png\" alt = \"Shored Slab\" title = \"Shored Slab\"style=\"max-width:50px; max-height:50px;  float:left; margin-right:3px;\"/> </td>\n",
        "    </tr>\n",
        "    <tr>\n",
        "      <th>Shores</th>\n",
        "      <td> 2</td>\n",
        "      <td>  </td>\n",
        "      <td>    </td>\n",
        "      <td>   1</td>\n",
        "      <td>   1</td>\n",
        "    </tr>\n",
        "    <tr>\n",
        "      <th rowspan=\"2\" valign=\"top\">2</th>\n",
        "      <th>Slab</th>\n",
        "      <td> 1</td>\n",
        "      <td>  </td>\n",
        "      <td> 1.5</td>\n",
        "      <td>    </td>\n",
        "      <td> 1.5</td>\n",
        "      <td rowspan=2><img src=\"http://i.imgur.com/vMgiW58.png\" alt = \"Reshored Slab\" title = \"Reshored Slab\"style=\"max-width:50px; max-height:50px;  float:left; margin-right:3px;\"/> </td>\n",
        "    </tr>\n",
        "    <tr>\n",
        "      <th>Reshores</th>\n",
        "      <td> 2</td>\n",
        "      <td>  </td>\n",
        "      <td>    </td>\n",
        "      <td> 0.5</td>\n",
        "      <td> 0.5</td>\n",
        "    </tr>\n",
        "    <tr>\n",
        "      <th rowspan=\"2\" valign=\"top\">1</th>\n",
        "      <th>Slab</th>\n",
        "      <td> 1</td>\n",
        "      <td>  </td>\n",
        "      <td> 1.5</td>\n",
        "      <td>    </td>\n",
        "      <td> 1.5</td>\n",
        "      <td rowspan=2><img src=\"http://i.imgur.com/f9HJsu6.png\" alt = \"Unshored Slab\" title = \"Unshored Slab\"style=\"max-width:50px; max-height:50px;  float:left; margin-right:3px;\"/> </td>\n",
        "    </tr>\n",
        "    <tr>\n",
        "      <th>Empty</th>\n",
        "      <td> 2</td>\n",
        "      <td> 2</td>\n",
        "      <td>    </td>\n",
        "      <td>    </td>\n",
        "      <td>    </td>\n",
        "    </tr>\n",
        "  </tbody>\n",
        "</table>\n"
       ],
       "metadata": {},
       "output_type": "pyout",
       "prompt_number": 20,
       "text": [
        "<IPython.core.display.HTML at 0x7f1d64229ed0>"
       ]
      }
     ],
     "prompt_number": 20
    },
    {
     "cell_type": "code",
     "collapsed": false,
     "input": [
      "struct.df = backup\n",
      "struct.show"
     ],
     "language": "python",
     "metadata": {},
     "outputs": [
      {
       "html": [
        "<strong>Action taken: ...</strong><table border=\"1\" class=\"dataframe\">\n",
        "  <thead>\n",
        "    <tr style=\"text-align: right;\">\n",
        "      <th rowspan = 2>Level</th>\n",
        "      <th rowspan = 2>Item</th>\n",
        "      <th rowspan = 2>Starting Loads</th>\n",
        "      <th rowspan = 2>Load to be Distributed</th>\n",
        "      <th rowspan = 2>New Slab Reactions</th>\n",
        "      <th  rowspan = 2 style=\"text-align: right;\">Number of Slabs Above<br>- Slab Reactions</th>\n",
        "      <th rowspan = 2>Ending Loads</th>\n",
        "      <th rowspan = 2>Symbol</th>\n",
        "    </tr>\n",
        "  </thead>\n",
        "  <tbody>\n",
        "    <tr>\n",
        "      <th rowspan=\"2\" valign=\"top\">3</th>\n",
        "      <th>Slab</th>\n",
        "      <td>  </td>\n",
        "      <td> 1</td>\n",
        "      <td> 0</td>\n",
        "      <td>  </td>\n",
        "      <td> 0</td>\n",
        "      <td rowspan=2><img src=\"http://i.imgur.com/W6Tqme1.png\" alt = \"Shored Slab\" title = \"Shored Slab\"style=\"max-width:50px; max-height:50px;  float:left; margin-right:3px;\"/> </td>\n",
        "    </tr>\n",
        "    <tr>\n",
        "      <th>Shores</th>\n",
        "      <td>  </td>\n",
        "      <td>  </td>\n",
        "      <td>  </td>\n",
        "      <td> 1</td>\n",
        "      <td> 1</td>\n",
        "    </tr>\n",
        "    <tr>\n",
        "      <th rowspan=\"2\" valign=\"top\">2</th>\n",
        "      <th>Slab</th>\n",
        "      <td> 1</td>\n",
        "      <td>  </td>\n",
        "      <td> 1</td>\n",
        "      <td>  </td>\n",
        "      <td> 1</td>\n",
        "      <td rowspan=2><img src=\"http://i.imgur.com/vMgiW58.png\" alt = \"Reshored Slab\" title = \"Reshored Slab\"style=\"max-width:50px; max-height:50px;  float:left; margin-right:3px;\"/> </td>\n",
        "    </tr>\n",
        "    <tr>\n",
        "      <th>Reshores</th>\n",
        "      <td> 0</td>\n",
        "      <td>  </td>\n",
        "      <td>  </td>\n",
        "      <td> 1</td>\n",
        "      <td> 1</td>\n",
        "    </tr>\n",
        "    <tr>\n",
        "      <th rowspan=\"2\" valign=\"top\">1</th>\n",
        "      <th>Slab</th>\n",
        "      <td> 1</td>\n",
        "      <td>  </td>\n",
        "      <td> 1</td>\n",
        "      <td>  </td>\n",
        "      <td> 1</td>\n",
        "      <td rowspan=2><img src=\"http://i.imgur.com/vMgiW58.png\" alt = \"Reshored Slab\" title = \"Reshored Slab\"style=\"max-width:50px; max-height:50px;  float:left; margin-right:3px;\"/> </td>\n",
        "    </tr>\n",
        "    <tr>\n",
        "      <th>Reshores</th>\n",
        "      <td> 0</td>\n",
        "      <td>  </td>\n",
        "      <td>  </td>\n",
        "      <td> 1</td>\n",
        "      <td> 1</td>\n",
        "    </tr>\n",
        "  </tbody>\n",
        "</table>\n"
       ],
       "metadata": {},
       "output_type": "pyout",
       "prompt_number": 21,
       "text": [
        "<IPython.core.display.HTML at 0x7f1d6420b790>"
       ]
      }
     ],
     "prompt_number": 21
    },
    {
     "cell_type": "code",
     "collapsed": false,
     "input": [
      "struct.remove_reshore"
     ],
     "language": "python",
     "metadata": {},
     "outputs": [
      {
       "html": [
        "<strong>Action taken: ...</strong><table border=\"1\" class=\"dataframe\">\n",
        "  <thead>\n",
        "    <tr style=\"text-align: right;\">\n",
        "      <th rowspan = 2>Level</th>\n",
        "      <th rowspan = 2>Item</th>\n",
        "      <th rowspan = 2>Starting Loads</th>\n",
        "      <th rowspan = 2>Load to be Distributed</th>\n",
        "      <th rowspan = 2>New Slab Reactions</th>\n",
        "      <th  rowspan = 2 style=\"text-align: right;\">Number of Slabs Above<br>- Slab Reactions</th>\n",
        "      <th rowspan = 2>Ending Loads</th>\n",
        "      <th rowspan = 2>Symbol</th>\n",
        "    </tr>\n",
        "  </thead>\n",
        "  <tbody>\n",
        "    <tr>\n",
        "      <th rowspan=\"2\" valign=\"top\">3</th>\n",
        "      <th>Slab</th>\n",
        "      <td> 0</td>\n",
        "      <td>  </td>\n",
        "      <td> 0.3333333</td>\n",
        "      <td>          </td>\n",
        "      <td> 0.3333333</td>\n",
        "      <td rowspan=2><img src=\"http://i.imgur.com/W6Tqme1.png\" alt = \"Shored Slab\" title = \"Shored Slab\"style=\"max-width:50px; max-height:50px;  float:left; margin-right:3px;\"/> </td>\n",
        "    </tr>\n",
        "    <tr>\n",
        "      <th>Shores</th>\n",
        "      <td> 1</td>\n",
        "      <td>  </td>\n",
        "      <td>          </td>\n",
        "      <td> 0.6666667</td>\n",
        "      <td> 0.6666667</td>\n",
        "    </tr>\n",
        "    <tr>\n",
        "      <th rowspan=\"2\" valign=\"top\">2</th>\n",
        "      <th>Slab</th>\n",
        "      <td> 1</td>\n",
        "      <td>  </td>\n",
        "      <td>  1.333333</td>\n",
        "      <td>          </td>\n",
        "      <td>  1.333333</td>\n",
        "      <td rowspan=2><img src=\"http://i.imgur.com/vMgiW58.png\" alt = \"Reshored Slab\" title = \"Reshored Slab\"style=\"max-width:50px; max-height:50px;  float:left; margin-right:3px;\"/> </td>\n",
        "    </tr>\n",
        "    <tr>\n",
        "      <th>Reshores</th>\n",
        "      <td> 1</td>\n",
        "      <td>  </td>\n",
        "      <td>          </td>\n",
        "      <td> 0.3333333</td>\n",
        "      <td> 0.3333333</td>\n",
        "    </tr>\n",
        "    <tr>\n",
        "      <th rowspan=\"2\" valign=\"top\">1</th>\n",
        "      <th>Slab</th>\n",
        "      <td> 1</td>\n",
        "      <td>  </td>\n",
        "      <td>  1.333333</td>\n",
        "      <td>          </td>\n",
        "      <td>  1.333333</td>\n",
        "      <td rowspan=2><img src=\"http://i.imgur.com/f9HJsu6.png\" alt = \"Unshored Slab\" title = \"Unshored Slab\"style=\"max-width:50px; max-height:50px;  float:left; margin-right:3px;\"/> </td>\n",
        "    </tr>\n",
        "    <tr>\n",
        "      <th>Empty</th>\n",
        "      <td> 1</td>\n",
        "      <td> 1</td>\n",
        "      <td>          </td>\n",
        "      <td>          </td>\n",
        "      <td>          </td>\n",
        "    </tr>\n",
        "  </tbody>\n",
        "</table>\n"
       ],
       "metadata": {},
       "output_type": "pyout",
       "prompt_number": 22,
       "text": [
        "<IPython.core.display.HTML at 0x7f1d64229d10>"
       ]
      }
     ],
     "prompt_number": 22
    },
    {
     "cell_type": "code",
     "collapsed": false,
     "input": [
      "struct.remove_shore "
     ],
     "language": "python",
     "metadata": {},
     "outputs": [
      {
       "html": [
        "<strong>Action taken: ...</strong><table border=\"1\" class=\"dataframe\">\n",
        "  <thead>\n",
        "    <tr style=\"text-align: right;\">\n",
        "      <th rowspan = 2>Level</th>\n",
        "      <th rowspan = 2>Item</th>\n",
        "      <th rowspan = 2>Starting Loads</th>\n",
        "      <th rowspan = 2>Load to be Distributed</th>\n",
        "      <th rowspan = 2>New Slab Reactions</th>\n",
        "      <th  rowspan = 2 style=\"text-align: right;\">Number of Slabs Above<br>- Slab Reactions</th>\n",
        "      <th rowspan = 2>Ending Loads</th>\n",
        "      <th rowspan = 2>Symbol</th>\n",
        "    </tr>\n",
        "  </thead>\n",
        "  <tbody>\n",
        "    <tr>\n",
        "      <th rowspan=\"2\" valign=\"top\">3</th>\n",
        "      <th>Slab</th>\n",
        "      <td> 0.3333333</td>\n",
        "      <td>          </td>\n",
        "      <td> 1</td>\n",
        "      <td>  </td>\n",
        "      <td> 1</td>\n",
        "      <td rowspan=2><img src=\"http://i.imgur.com/f9HJsu6.png\" alt = \"Unshored Slab\" title = \"Unshored Slab\"style=\"max-width:50px; max-height:50px;  float:left; margin-right:3px;\"/> </td>\n",
        "    </tr>\n",
        "    <tr>\n",
        "      <th>Empty</th>\n",
        "      <td> 0.6666667</td>\n",
        "      <td> 0.6666667</td>\n",
        "      <td>  </td>\n",
        "      <td>  </td>\n",
        "      <td>  </td>\n",
        "    </tr>\n",
        "    <tr>\n",
        "      <th rowspan=\"2\" valign=\"top\">2</th>\n",
        "      <th>Slab</th>\n",
        "      <td>  1.333333</td>\n",
        "      <td>          </td>\n",
        "      <td> 1</td>\n",
        "      <td>  </td>\n",
        "      <td> 1</td>\n",
        "      <td rowspan=2><img src=\"http://i.imgur.com/vMgiW58.png\" alt = \"Reshored Slab\" title = \"Reshored Slab\"style=\"max-width:50px; max-height:50px;  float:left; margin-right:3px;\"/> </td>\n",
        "    </tr>\n",
        "    <tr>\n",
        "      <th>Reshores</th>\n",
        "      <td> 0.3333333</td>\n",
        "      <td>          </td>\n",
        "      <td>  </td>\n",
        "      <td> 0</td>\n",
        "      <td> 0</td>\n",
        "    </tr>\n",
        "    <tr>\n",
        "      <th rowspan=\"2\" valign=\"top\">1</th>\n",
        "      <th>Slab</th>\n",
        "      <td>  1.333333</td>\n",
        "      <td>          </td>\n",
        "      <td> 1</td>\n",
        "      <td>  </td>\n",
        "      <td> 1</td>\n",
        "      <td rowspan=2><img src=\"http://i.imgur.com/f9HJsu6.png\" alt = \"Unshored Slab\" title = \"Unshored Slab\"style=\"max-width:50px; max-height:50px;  float:left; margin-right:3px;\"/> </td>\n",
        "    </tr>\n",
        "    <tr>\n",
        "      <th>Empty</th>\n",
        "      <td>          </td>\n",
        "      <td>          </td>\n",
        "      <td>  </td>\n",
        "      <td>  </td>\n",
        "      <td>  </td>\n",
        "    </tr>\n",
        "  </tbody>\n",
        "</table>\n"
       ],
       "metadata": {},
       "output_type": "pyout",
       "prompt_number": 23,
       "text": [
        "<IPython.core.display.HTML at 0x7f1d6420bb90>"
       ]
      }
     ],
     "prompt_number": 23
    },
    {
     "cell_type": "code",
     "collapsed": false,
     "input": [
      "print(struct._show_all())"
     ],
     "language": "python",
     "metadata": {},
     "outputs": [
      {
       "output_type": "stream",
       "stream": "stdout",
       "text": [
        "<table border=\"1\" class=\"dataframe\">\n",
        "  <thead>\n",
        "    <tr style=\"text-align: right;\">\n",
        "      <th rowspan = 2>Level</th>\n",
        "      <th rowspan = 2>Item</th>\n",
        "      <th rowspan = 2>Starting Loads</th>\n",
        "      <th rowspan = 2>Load to be Distributed</th>\n",
        "      <th rowspan = 2>New Slab Reactions</th>\n",
        "      <th  rowspan = 2 style=\"text-align: right;\">Number of Slabs Above<br>- Slab Reactions</th>\n",
        "      <th rowspan = 2>Ending Loads</th>\n",
        "      <th rowspan = 2>Symbol</th>\n",
        "    </tr>\n",
        "  </thead>\n",
        "  <tbody>\n",
        "    <tr>\n",
        "      <th rowspan=\"2\" valign=\"top\">3</th>\n",
        "      <th>Slab</th>\n",
        "      <td> 0.3333333</td>\n",
        "      <td>          </td>\n",
        "      <td> 1</td>\n",
        "      <td>  </td>\n",
        "      <td> 1</td>\n",
        "      <td rowspan=2><img src=\"http://i.imgur.com/f9HJsu6.png\" alt = \"Unshored Slab\" title = \"Unshored Slab\"style=\"max-width:50px; max-height:50px;  float:left; margin-right:3px;\"/> </td>\n",
        "    </tr>\n",
        "    <tr>\n",
        "      <th>Empty</th>\n",
        "      <td> 0.6666667</td>\n",
        "      <td> 0.6666667</td>\n",
        "      <td>  </td>\n",
        "      <td>  </td>\n",
        "      <td>  </td>\n",
        "    </tr>\n",
        "    <tr>\n",
        "      <th rowspan=\"2\" valign=\"top\">2</th>\n",
        "      <th>Slab</th>\n",
        "      <td>  1.333333</td>\n",
        "      <td>          </td>\n",
        "      <td> 1</td>\n",
        "      <td>  </td>\n",
        "      <td> 1</td>\n",
        "      <td rowspan=2><img src=\"http://i.imgur.com/vMgiW58.png\" alt = \"Reshored Slab\" title = \"Reshored Slab\"style=\"max-width:50px; max-height:50px;  float:left; margin-right:3px;\"/> </td>\n",
        "    </tr>\n",
        "    <tr>\n",
        "      <th>Reshores</th>\n",
        "      <td> 0.3333333</td>\n",
        "      <td>          </td>\n",
        "      <td>  </td>\n",
        "      <td> 0</td>\n",
        "      <td> 0</td>\n",
        "    </tr>\n",
        "    <tr>\n",
        "      <th rowspan=\"2\" valign=\"top\">1</th>\n",
        "      <th>Slab</th>\n",
        "      <td>  1.333333</td>\n",
        "      <td>          </td>\n",
        "      <td> 1</td>\n",
        "      <td>  </td>\n",
        "      <td> 1</td>\n",
        "      <td rowspan=2><img src=\"http://i.imgur.com/f9HJsu6.png\" alt = \"Unshored Slab\" title = \"Unshored Slab\"style=\"max-width:50px; max-height:50px;  float:left; margin-right:3px;\"/> </td>\n",
        "    </tr>\n",
        "    <tr>\n",
        "      <th>Empty</th>\n",
        "      <td>          </td>\n",
        "      <td>          </td>\n",
        "      <td>  </td>\n",
        "      <td>  </td>\n",
        "      <td>  </td>\n",
        "    </tr>\n",
        "  </tbody>\n",
        "</table>\n",
        "\n"
       ]
      }
     ],
     "prompt_number": 24
    },
    {
     "cell_type": "code",
     "collapsed": false,
     "input": [
      "struct.reshore"
     ],
     "language": "python",
     "metadata": {},
     "outputs": [
      {
       "output_type": "stream",
       "stream": "stdout",
       "text": [
        "Reshore does not affect loads.  To show the reshore step set show_reshore to True\n"
       ]
      }
     ],
     "prompt_number": 25
    },
    {
     "cell_type": "code",
     "collapsed": false,
     "input": [
      "struct.add_slab"
     ],
     "language": "python",
     "metadata": {},
     "outputs": [
      {
       "html": [
        "<strong>Action taken: ...</strong><table border=\"1\" class=\"dataframe\">\n",
        "  <thead>\n",
        "    <tr style=\"text-align: right;\">\n",
        "      <th rowspan = 2>Level</th>\n",
        "      <th rowspan = 2>Item</th>\n",
        "      <th rowspan = 2>Starting Loads</th>\n",
        "      <th rowspan = 2>Load to be Distributed</th>\n",
        "      <th rowspan = 2>New Slab Reactions</th>\n",
        "      <th  rowspan = 2 style=\"text-align: right;\">Number of Slabs Above<br>- Slab Reactions</th>\n",
        "      <th rowspan = 2>Ending Loads</th>\n",
        "      <th rowspan = 2>Symbol</th>\n",
        "    </tr>\n",
        "  </thead>\n",
        "  <tbody>\n",
        "    <tr>\n",
        "      <th rowspan=\"2\" valign=\"top\">4</th>\n",
        "      <th>Slab</th>\n",
        "      <td>  </td>\n",
        "      <td> 1</td>\n",
        "      <td>        0</td>\n",
        "      <td>          </td>\n",
        "      <td>         0</td>\n",
        "      <td rowspan=2><img src=\"http://i.imgur.com/W6Tqme1.png\" alt = \"Shored Slab\" title = \"Shored Slab\"style=\"max-width:50px; max-height:50px;  float:left; margin-right:3px;\"/> </td>\n",
        "    </tr>\n",
        "    <tr>\n",
        "      <th>Shores</th>\n",
        "      <td>  </td>\n",
        "      <td>  </td>\n",
        "      <td>         </td>\n",
        "      <td>         1</td>\n",
        "      <td>         1</td>\n",
        "    </tr>\n",
        "    <tr>\n",
        "      <th rowspan=\"2\" valign=\"top\">3</th>\n",
        "      <th>Slab</th>\n",
        "      <td> 1</td>\n",
        "      <td>  </td>\n",
        "      <td> 1.333333</td>\n",
        "      <td>          </td>\n",
        "      <td>  1.333333</td>\n",
        "      <td rowspan=2><img src=\"http://i.imgur.com/vMgiW58.png\" alt = \"Reshored Slab\" title = \"Reshored Slab\"style=\"max-width:50px; max-height:50px;  float:left; margin-right:3px;\"/> </td>\n",
        "    </tr>\n",
        "    <tr>\n",
        "      <th>Reshores</th>\n",
        "      <td> 0</td>\n",
        "      <td>  </td>\n",
        "      <td>         </td>\n",
        "      <td> 0.6666667</td>\n",
        "      <td> 0.6666667</td>\n",
        "    </tr>\n",
        "    <tr>\n",
        "      <th rowspan=\"2\" valign=\"top\">2</th>\n",
        "      <th>Slab</th>\n",
        "      <td> 1</td>\n",
        "      <td>  </td>\n",
        "      <td> 1.333333</td>\n",
        "      <td>          </td>\n",
        "      <td>  1.333333</td>\n",
        "      <td rowspan=2><img src=\"http://i.imgur.com/vMgiW58.png\" alt = \"Reshored Slab\" title = \"Reshored Slab\"style=\"max-width:50px; max-height:50px;  float:left; margin-right:3px;\"/> </td>\n",
        "    </tr>\n",
        "    <tr>\n",
        "      <th>Reshores</th>\n",
        "      <td> 0</td>\n",
        "      <td>  </td>\n",
        "      <td>         </td>\n",
        "      <td> 0.3333333</td>\n",
        "      <td> 0.3333333</td>\n",
        "    </tr>\n",
        "    <tr>\n",
        "      <th rowspan=\"2\" valign=\"top\">1</th>\n",
        "      <th>Slab</th>\n",
        "      <td> 1</td>\n",
        "      <td>  </td>\n",
        "      <td> 1.333333</td>\n",
        "      <td>          </td>\n",
        "      <td>  1.333333</td>\n",
        "      <td rowspan=2><img src=\"http://i.imgur.com/f9HJsu6.png\" alt = \"Unshored Slab\" title = \"Unshored Slab\"style=\"max-width:50px; max-height:50px;  float:left; margin-right:3px;\"/> </td>\n",
        "    </tr>\n",
        "    <tr>\n",
        "      <th>Empty</th>\n",
        "      <td>  </td>\n",
        "      <td>  </td>\n",
        "      <td>         </td>\n",
        "      <td>          </td>\n",
        "      <td>          </td>\n",
        "    </tr>\n",
        "  </tbody>\n",
        "</table>\n"
       ],
       "metadata": {},
       "output_type": "pyout",
       "prompt_number": 26,
       "text": [
        "<IPython.core.display.HTML at 0x7f1d641b5ed0>"
       ]
      }
     ],
     "prompt_number": 26
    },
    {
     "cell_type": "code",
     "collapsed": false,
     "input": [
      "struct.remove_reshore"
     ],
     "language": "python",
     "metadata": {},
     "outputs": [
      {
       "html": [
        "<strong>Action taken: ...</strong><table border=\"1\" class=\"dataframe\">\n",
        "  <thead>\n",
        "    <tr style=\"text-align: right;\">\n",
        "      <th rowspan = 2>Level</th>\n",
        "      <th rowspan = 2>Item</th>\n",
        "      <th rowspan = 2>Starting Loads</th>\n",
        "      <th rowspan = 2>Load to be Distributed</th>\n",
        "      <th rowspan = 2>New Slab Reactions</th>\n",
        "      <th  rowspan = 2 style=\"text-align: right;\">Number of Slabs Above<br>- Slab Reactions</th>\n",
        "      <th rowspan = 2>Ending Loads</th>\n",
        "      <th rowspan = 2>Symbol</th>\n",
        "    </tr>\n",
        "  </thead>\n",
        "  <tbody>\n",
        "    <tr>\n",
        "      <th rowspan=\"2\" valign=\"top\">4</th>\n",
        "      <th>Slab</th>\n",
        "      <td>         0</td>\n",
        "      <td>          </td>\n",
        "      <td> 0.1111111</td>\n",
        "      <td>          </td>\n",
        "      <td> 0.1111111</td>\n",
        "      <td rowspan=2><img src=\"http://i.imgur.com/W6Tqme1.png\" alt = \"Shored Slab\" title = \"Shored Slab\"style=\"max-width:50px; max-height:50px;  float:left; margin-right:3px;\"/> </td>\n",
        "    </tr>\n",
        "    <tr>\n",
        "      <th>Shores</th>\n",
        "      <td>         1</td>\n",
        "      <td>          </td>\n",
        "      <td>          </td>\n",
        "      <td> 0.8888889</td>\n",
        "      <td> 0.8888889</td>\n",
        "    </tr>\n",
        "    <tr>\n",
        "      <th rowspan=\"2\" valign=\"top\">3</th>\n",
        "      <th>Slab</th>\n",
        "      <td>  1.333333</td>\n",
        "      <td>          </td>\n",
        "      <td>  1.444444</td>\n",
        "      <td>          </td>\n",
        "      <td>  1.444444</td>\n",
        "      <td rowspan=2><img src=\"http://i.imgur.com/vMgiW58.png\" alt = \"Reshored Slab\" title = \"Reshored Slab\"style=\"max-width:50px; max-height:50px;  float:left; margin-right:3px;\"/> </td>\n",
        "    </tr>\n",
        "    <tr>\n",
        "      <th>Reshores</th>\n",
        "      <td> 0.6666667</td>\n",
        "      <td>          </td>\n",
        "      <td>          </td>\n",
        "      <td> 0.4444444</td>\n",
        "      <td> 0.4444444</td>\n",
        "    </tr>\n",
        "    <tr>\n",
        "      <th rowspan=\"2\" valign=\"top\">2</th>\n",
        "      <th>Slab</th>\n",
        "      <td>  1.333333</td>\n",
        "      <td>          </td>\n",
        "      <td>  1.444444</td>\n",
        "      <td>          </td>\n",
        "      <td>  1.444444</td>\n",
        "      <td rowspan=2><img src=\"http://i.imgur.com/f9HJsu6.png\" alt = \"Unshored Slab\" title = \"Unshored Slab\"style=\"max-width:50px; max-height:50px;  float:left; margin-right:3px;\"/> </td>\n",
        "    </tr>\n",
        "    <tr>\n",
        "      <th>Empty</th>\n",
        "      <td> 0.3333333</td>\n",
        "      <td> 0.3333333</td>\n",
        "      <td>          </td>\n",
        "      <td>          </td>\n",
        "      <td>          </td>\n",
        "    </tr>\n",
        "  </tbody>\n",
        "</table>\n"
       ],
       "metadata": {},
       "output_type": "pyout",
       "prompt_number": 27,
       "text": [
        "<IPython.core.display.HTML at 0x7f1d641b5d50>"
       ]
      }
     ],
     "prompt_number": 27
    },
    {
     "cell_type": "code",
     "collapsed": false,
     "input": [
      "struct.remove_shore"
     ],
     "language": "python",
     "metadata": {},
     "outputs": [
      {
       "html": [
        "<strong>Action taken: ...</strong><table border=\"1\" class=\"dataframe\">\n",
        "  <thead>\n",
        "    <tr style=\"text-align: right;\">\n",
        "      <th rowspan = 2>Level</th>\n",
        "      <th rowspan = 2>Item</th>\n",
        "      <th rowspan = 2>Starting Loads</th>\n",
        "      <th rowspan = 2>Load to be Distributed</th>\n",
        "      <th rowspan = 2>New Slab Reactions</th>\n",
        "      <th  rowspan = 2 style=\"text-align: right;\">Number of Slabs Above<br>- Slab Reactions</th>\n",
        "      <th rowspan = 2>Ending Loads</th>\n",
        "      <th rowspan = 2>Symbol</th>\n",
        "    </tr>\n",
        "  </thead>\n",
        "  <tbody>\n",
        "    <tr>\n",
        "      <th rowspan=\"2\" valign=\"top\">4</th>\n",
        "      <th>Slab</th>\n",
        "      <td> 0.1111111</td>\n",
        "      <td>          </td>\n",
        "      <td> 1</td>\n",
        "      <td>  </td>\n",
        "      <td> 1</td>\n",
        "      <td rowspan=2><img src=\"http://i.imgur.com/f9HJsu6.png\" alt = \"Unshored Slab\" title = \"Unshored Slab\"style=\"max-width:50px; max-height:50px;  float:left; margin-right:3px;\"/> </td>\n",
        "    </tr>\n",
        "    <tr>\n",
        "      <th>Empty</th>\n",
        "      <td> 0.8888889</td>\n",
        "      <td> 0.8888889</td>\n",
        "      <td>  </td>\n",
        "      <td>  </td>\n",
        "      <td>  </td>\n",
        "    </tr>\n",
        "    <tr>\n",
        "      <th rowspan=\"2\" valign=\"top\">3</th>\n",
        "      <th>Slab</th>\n",
        "      <td>  1.444444</td>\n",
        "      <td>          </td>\n",
        "      <td> 1</td>\n",
        "      <td>  </td>\n",
        "      <td> 1</td>\n",
        "      <td rowspan=2><img src=\"http://i.imgur.com/vMgiW58.png\" alt = \"Reshored Slab\" title = \"Reshored Slab\"style=\"max-width:50px; max-height:50px;  float:left; margin-right:3px;\"/> </td>\n",
        "    </tr>\n",
        "    <tr>\n",
        "      <th>Reshores</th>\n",
        "      <td> 0.4444444</td>\n",
        "      <td>          </td>\n",
        "      <td>  </td>\n",
        "      <td> 0</td>\n",
        "      <td> 0</td>\n",
        "    </tr>\n",
        "    <tr>\n",
        "      <th rowspan=\"2\" valign=\"top\">2</th>\n",
        "      <th>Slab</th>\n",
        "      <td>  1.444444</td>\n",
        "      <td>          </td>\n",
        "      <td> 1</td>\n",
        "      <td>  </td>\n",
        "      <td> 1</td>\n",
        "      <td rowspan=2><img src=\"http://i.imgur.com/f9HJsu6.png\" alt = \"Unshored Slab\" title = \"Unshored Slab\"style=\"max-width:50px; max-height:50px;  float:left; margin-right:3px;\"/> </td>\n",
        "    </tr>\n",
        "    <tr>\n",
        "      <th>Empty</th>\n",
        "      <td>          </td>\n",
        "      <td>          </td>\n",
        "      <td>  </td>\n",
        "      <td>  </td>\n",
        "      <td>  </td>\n",
        "    </tr>\n",
        "  </tbody>\n",
        "</table>\n"
       ],
       "metadata": {},
       "output_type": "pyout",
       "prompt_number": 28,
       "text": [
        "<IPython.core.display.HTML at 0x7f1d6420be50>"
       ]
      }
     ],
     "prompt_number": 28
    },
    {
     "cell_type": "code",
     "collapsed": false,
     "input": [
      "struct.reshore"
     ],
     "language": "python",
     "metadata": {},
     "outputs": [
      {
       "output_type": "stream",
       "stream": "stdout",
       "text": [
        "Reshore does not affect loads.  To show the reshore step set show_reshore to True\n"
       ]
      }
     ],
     "prompt_number": 29
    },
    {
     "cell_type": "code",
     "collapsed": false,
     "input": [
      "struct.add_slab"
     ],
     "language": "python",
     "metadata": {},
     "outputs": [
      {
       "html": [
        "<strong>Action taken: ...</strong><table border=\"1\" class=\"dataframe\">\n",
        "  <thead>\n",
        "    <tr style=\"text-align: right;\">\n",
        "      <th rowspan = 2>Level</th>\n",
        "      <th rowspan = 2>Item</th>\n",
        "      <th rowspan = 2>Starting Loads</th>\n",
        "      <th rowspan = 2>Load to be Distributed</th>\n",
        "      <th rowspan = 2>New Slab Reactions</th>\n",
        "      <th  rowspan = 2 style=\"text-align: right;\">Number of Slabs Above<br>- Slab Reactions</th>\n",
        "      <th rowspan = 2>Ending Loads</th>\n",
        "      <th rowspan = 2>Symbol</th>\n",
        "    </tr>\n",
        "  </thead>\n",
        "  <tbody>\n",
        "    <tr>\n",
        "      <th rowspan=\"2\" valign=\"top\">5</th>\n",
        "      <th>Slab</th>\n",
        "      <td>  </td>\n",
        "      <td> 1</td>\n",
        "      <td>        0</td>\n",
        "      <td>          </td>\n",
        "      <td>         0</td>\n",
        "      <td rowspan=2><img src=\"http://i.imgur.com/W6Tqme1.png\" alt = \"Shored Slab\" title = \"Shored Slab\"style=\"max-width:50px; max-height:50px;  float:left; margin-right:3px;\"/> </td>\n",
        "    </tr>\n",
        "    <tr>\n",
        "      <th>Shores</th>\n",
        "      <td>  </td>\n",
        "      <td>  </td>\n",
        "      <td>         </td>\n",
        "      <td>         1</td>\n",
        "      <td>         1</td>\n",
        "    </tr>\n",
        "    <tr>\n",
        "      <th rowspan=\"2\" valign=\"top\">4</th>\n",
        "      <th>Slab</th>\n",
        "      <td> 1</td>\n",
        "      <td>  </td>\n",
        "      <td> 1.333333</td>\n",
        "      <td>          </td>\n",
        "      <td>  1.333333</td>\n",
        "      <td rowspan=2><img src=\"http://i.imgur.com/vMgiW58.png\" alt = \"Reshored Slab\" title = \"Reshored Slab\"style=\"max-width:50px; max-height:50px;  float:left; margin-right:3px;\"/> </td>\n",
        "    </tr>\n",
        "    <tr>\n",
        "      <th>Reshores</th>\n",
        "      <td> 0</td>\n",
        "      <td>  </td>\n",
        "      <td>         </td>\n",
        "      <td> 0.6666667</td>\n",
        "      <td> 0.6666667</td>\n",
        "    </tr>\n",
        "    <tr>\n",
        "      <th rowspan=\"2\" valign=\"top\">3</th>\n",
        "      <th>Slab</th>\n",
        "      <td> 1</td>\n",
        "      <td>  </td>\n",
        "      <td> 1.333333</td>\n",
        "      <td>          </td>\n",
        "      <td>  1.333333</td>\n",
        "      <td rowspan=2><img src=\"http://i.imgur.com/vMgiW58.png\" alt = \"Reshored Slab\" title = \"Reshored Slab\"style=\"max-width:50px; max-height:50px;  float:left; margin-right:3px;\"/> </td>\n",
        "    </tr>\n",
        "    <tr>\n",
        "      <th>Reshores</th>\n",
        "      <td> 0</td>\n",
        "      <td>  </td>\n",
        "      <td>         </td>\n",
        "      <td> 0.3333333</td>\n",
        "      <td> 0.3333333</td>\n",
        "    </tr>\n",
        "    <tr>\n",
        "      <th rowspan=\"2\" valign=\"top\">2</th>\n",
        "      <th>Slab</th>\n",
        "      <td> 1</td>\n",
        "      <td>  </td>\n",
        "      <td> 1.333333</td>\n",
        "      <td>          </td>\n",
        "      <td>  1.333333</td>\n",
        "      <td rowspan=2><img src=\"http://i.imgur.com/f9HJsu6.png\" alt = \"Unshored Slab\" title = \"Unshored Slab\"style=\"max-width:50px; max-height:50px;  float:left; margin-right:3px;\"/> </td>\n",
        "    </tr>\n",
        "    <tr>\n",
        "      <th>Empty</th>\n",
        "      <td>  </td>\n",
        "      <td>  </td>\n",
        "      <td>         </td>\n",
        "      <td>          </td>\n",
        "      <td>          </td>\n",
        "    </tr>\n",
        "  </tbody>\n",
        "</table>\n"
       ],
       "metadata": {},
       "output_type": "pyout",
       "prompt_number": 30,
       "text": [
        "<IPython.core.display.HTML at 0x7f1d641b54d0>"
       ]
      }
     ],
     "prompt_number": 30
    },
    {
     "cell_type": "code",
     "collapsed": false,
     "input": [
      "struct.remove_reshore"
     ],
     "language": "python",
     "metadata": {},
     "outputs": [
      {
       "html": [
        "<strong>Action taken: ...</strong><table border=\"1\" class=\"dataframe\">\n",
        "  <thead>\n",
        "    <tr style=\"text-align: right;\">\n",
        "      <th rowspan = 2>Level</th>\n",
        "      <th rowspan = 2>Item</th>\n",
        "      <th rowspan = 2>Starting Loads</th>\n",
        "      <th rowspan = 2>Load to be Distributed</th>\n",
        "      <th rowspan = 2>New Slab Reactions</th>\n",
        "      <th  rowspan = 2 style=\"text-align: right;\">Number of Slabs Above<br>- Slab Reactions</th>\n",
        "      <th rowspan = 2>Ending Loads</th>\n",
        "      <th rowspan = 2>Symbol</th>\n",
        "    </tr>\n",
        "  </thead>\n",
        "  <tbody>\n",
        "    <tr>\n",
        "      <th rowspan=\"2\" valign=\"top\">5</th>\n",
        "      <th>Slab</th>\n",
        "      <td>         0</td>\n",
        "      <td>          </td>\n",
        "      <td> 0.1111111</td>\n",
        "      <td>          </td>\n",
        "      <td> 0.1111111</td>\n",
        "      <td rowspan=2><img src=\"http://i.imgur.com/W6Tqme1.png\" alt = \"Shored Slab\" title = \"Shored Slab\"style=\"max-width:50px; max-height:50px;  float:left; margin-right:3px;\"/> </td>\n",
        "    </tr>\n",
        "    <tr>\n",
        "      <th>Shores</th>\n",
        "      <td>         1</td>\n",
        "      <td>          </td>\n",
        "      <td>          </td>\n",
        "      <td> 0.8888889</td>\n",
        "      <td> 0.8888889</td>\n",
        "    </tr>\n",
        "    <tr>\n",
        "      <th rowspan=\"2\" valign=\"top\">4</th>\n",
        "      <th>Slab</th>\n",
        "      <td>  1.333333</td>\n",
        "      <td>          </td>\n",
        "      <td>  1.444444</td>\n",
        "      <td>          </td>\n",
        "      <td>  1.444444</td>\n",
        "      <td rowspan=2><img src=\"http://i.imgur.com/vMgiW58.png\" alt = \"Reshored Slab\" title = \"Reshored Slab\"style=\"max-width:50px; max-height:50px;  float:left; margin-right:3px;\"/> </td>\n",
        "    </tr>\n",
        "    <tr>\n",
        "      <th>Reshores</th>\n",
        "      <td> 0.6666667</td>\n",
        "      <td>          </td>\n",
        "      <td>          </td>\n",
        "      <td> 0.4444444</td>\n",
        "      <td> 0.4444444</td>\n",
        "    </tr>\n",
        "    <tr>\n",
        "      <th rowspan=\"2\" valign=\"top\">3</th>\n",
        "      <th>Slab</th>\n",
        "      <td>  1.333333</td>\n",
        "      <td>          </td>\n",
        "      <td>  1.444444</td>\n",
        "      <td>          </td>\n",
        "      <td>  1.444444</td>\n",
        "      <td rowspan=2><img src=\"http://i.imgur.com/f9HJsu6.png\" alt = \"Unshored Slab\" title = \"Unshored Slab\"style=\"max-width:50px; max-height:50px;  float:left; margin-right:3px;\"/> </td>\n",
        "    </tr>\n",
        "    <tr>\n",
        "      <th>Empty</th>\n",
        "      <td> 0.3333333</td>\n",
        "      <td> 0.3333333</td>\n",
        "      <td>          </td>\n",
        "      <td>          </td>\n",
        "      <td>          </td>\n",
        "    </tr>\n",
        "  </tbody>\n",
        "</table>\n"
       ],
       "metadata": {},
       "output_type": "pyout",
       "prompt_number": 31,
       "text": [
        "<IPython.core.display.HTML at 0x7f1d64229c50>"
       ]
      }
     ],
     "prompt_number": 31
    },
    {
     "cell_type": "heading",
     "level": 2,
     "metadata": {
      "slideshow": {
       "slide_type": "slide"
      }
     },
     "source": [
      "References:\n"
     ]
    },
    {
     "cell_type": "markdown",
     "metadata": {
      "slideshow": {
       "slide_type": "-"
      }
     },
     "source": [
      "[Class website](https://elearning2.courses.ufl.edu/portal/site/UFL-BCN4423C-40908-52014) *(Use this link to if you are taking the course on e-learning.)*\n",
      "\n",
      "[Github.io version of course website](http://damontallen.github.io/Construction-Lectures/) *(Do not use this link is you are taking this course in Summer A or B.)*"
     ]
    },
    {
     "cell_type": "markdown",
     "metadata": {
      "slideshow": {
       "slide_type": "skip"
      }
     },
     "source": [
      "CSS stylesheet\n",
      "\n",
      "<head>\n",
      "<style>\n",
      "important {font:italic bold 16px arial;}\n",
      ".missing {color:Red}\n",
      "fragment {color:LightBlue;}\n",
      "subslide {color:DarkBlue;}\n",
      "\n",
      ".rgt {float:right;}\n",
      "\n",
      ".lt {float:left;}\n",
      "\n",
      ".cnt {text-align:center; vertical-align:text-top;}\n",
      "\n",
      ".box { border:1px solid blue; float:left; margin-right:3px;}\n",
      "\n",
      ".max {max-width:300px; max-height:300px;}\n",
      "\n",
      ".fix {max-height:200px; max-width:200px;}\n",
      "\n",
      "</style>\n",
      "</head>\n",
      "\n",
      "    ###Useful Tip:\n",
      "\n",
      "    If you use Firefox or Chrome then installing one of the following extensions will make viewing images in lectures easier.\n",
      "    \n",
      "    * Firefox - [Thumbnail Zoom Plus](https://addons.mozilla.org/en-US/firefox/addon/thumbnail-zoom-plus/?src=search)\n",
      "    * Chrome - [Hover Free](https://chrome.google.com/webstore/detail/hover-free/hcmnnggnaofmhflgomfjfbndngdoogkj) (Not to be confused with Hover Zoom.)\n",
      "\n",
      "    /* class = \"max box\" for img tags\n",
      "    \n",
      "    \n",
      "    Audio Player:\n",
      "    <audio controls data-autoplay preload>\n",
      "     <source src=\"https://github.com/damontallen/Construction-Lectures/raw/master/Intro/FILE%20NAME.mp3\"\n",
      "             type='audio/mp3'>\n",
      "     <p>Your user agent does not support the HTML5 Audio element or the files are missing.</p>\n",
      "    </audio>\n",
      "    \n",
      "    */\n",
      "    class = \"max box\" == style=\"max-width:300px; max-height:300px; border:1px solid blue; float:left; margin-right:3px;\"\n",
      "    important == <strong><font style=\"font:italic bold 16px arial;\"> Text here </font></strong>\n",
      "    Example <important class=\"missing\">Video Placeholder</important>\n",
      "    \n",
      "    Picture Examples: \n",
      "    (Right side)\n",
      "    <a href = \"http://i.imgur.com/h7H0m0b.png\"><img src=\"http://i.imgur.com/h7H0m0b.png\" alt = \"Elevated Slab with Worker\" title = \"Elevated Slab with Worker\" style=\"max-width:300px; max-height:300px; border:1px solid blue; float:right; margin-left:10px;\"/></a>\n",
      "    \n",
      "    (Left side)\n",
      "    <a href = \"http://i.imgur.com/EWHj3eh.png\"><img src=\"http://i.imgur.com/EWHj3eh.png\" alt = \"Braced Slab\" title = \"Braced Slab\"style=\"max-width:300px; max-height:300px; border:1px solid blue; float:left; margin-right:3px;\"/></a>\n",
      "    \n",
      "    (hover over image)\n",
      "    <a href=\"http://i.imgur.com/aTxezXX.png\" id=\"Top Down Slab\">\n",
      "        <img title=\"Top Down Slab (Bracing in the 60 ft direction)\" alt = \"Top Down Slab\"\n",
      "            src=\"http://i.imgur.com/EL2FYDQ.png\" \n",
      "            onmouseover=\"this.src='http://i.imgur.com/aTxezXX.png'\".\n",
      "            onmouseout=\"this.src='http://i.imgur.com/EL2FYDQ.png'\" \n",
      "            style=\"max-width:300px; max-height:300px; border:1px solid blue; \n",
      "                    float:right; margin-left:10px;\"/>\n",
      "    </a>\n",
      "    \n",
      "    Video:\n",
      "    <iframe width=\"420\" height=\"315\" src=\"http://www.youtube.com/embed/g43sFmgHOCk\" frameborder=\"0\" allowfullscreen style=\" float:left; margin-right:20px;\"></iframe>"
     ]
    },
    {
     "cell_type": "markdown",
     "metadata": {
      "slideshow": {
       "slide_type": "skip"
      }
     },
     "source": [
      "(hover over image)\n",
      "    <a href=\"http://i.imgur.com/aTxezXX.png\" id=\"Top Down Slab\">\n",
      "        <img title=\"Top Down Slab (Bracing in the 60 ft direction)\" alt = \"Top Down Slab\"\n",
      "            src=\"http://i.imgur.com/EL2FYDQ.png\" \n",
      "            onmouseover=\"this.src='http://i.imgur.com/aTxezXX.png'\".\n",
      "            onmouseout=\"this.src='http://i.imgur.com/EL2FYDQ.png'\" \n",
      "            style=\"max-width:300px; max-height:300px; border:1px solid blue; \n",
      "                    float:right; margin-left:10px;\"/>\n",
      "    </a>"
     ]
    }
   ],
   "metadata": {}
  }
 ]
}