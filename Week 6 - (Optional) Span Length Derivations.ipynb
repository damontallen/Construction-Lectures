{
 "metadata": {
  "name": ""
 },
 "nbformat": 3,
 "nbformat_minor": 0,
 "worksheets": [
  {
   "cells": [
    {
     "cell_type": "heading",
     "level": 1,
     "metadata": {
      "slideshow": {
       "slide_type": "slide"
      }
     },
     "source": [
      "Span Length Derivation"
     ]
    },
    {
     "cell_type": "markdown",
     "metadata": {
      "slideshow": {
       "slide_type": "-"
      }
     },
     "source": [
      "<important class=\"missing\">Video Placeholder<important>"
     ]
    },
    {
     "cell_type": "heading",
     "level": 2,
     "metadata": {
      "slideshow": {
       "slide_type": "slide"
      }
     },
     "source": [
      "Limiting the Deflection of a Beam"
     ]
    },
    {
     "cell_type": "markdown",
     "metadata": {
      "slideshow": {
       "slide_type": "-"
      }
     },
     "source": [
      "<audio controls data-autoplay preload>\n",
      " <source src=\"https://github.com/damontallen/Construction-Lectures/raw/master/Intro/FILE%20NAME.mp3\"\n",
      "         type='audio/mp3'>\n",
      " <p><strong>Your user agent does not support the HTML5 Audio element or the files are missing.</strong></p>\n",
      "</audio><a></a>"
     ]
    },
    {
     "cell_type": "markdown",
     "metadata": {
      "slideshow": {
       "slide_type": "-"
      }
     },
     "source": [
      "In most problems we want to limit the deflection of a beam (or member acting like a beam) to either some fraction of the length of the beam or some fixed value.  To do this we can either design the member to satisfy these limits over a given span or we can pick a member size, species, and grade and solve for the support length.  This second alternative is the most common approach in concrete formwork.\n",
      "\n",
      "To determine the support spacing of a beam we can start with the deflection equation and solver for $L$.\n",
      "\n",
      "$$\\Delta = \\frac{5 w L^4}{384 E' I} \\Rightarrow L^4 = \\Delta \\frac{ 384 E' I}{5 w}$$\n",
      "\n",
      "However this is for a simply supported beam and it is more efficient for structural members in forms of any useful size to be have intermetiate supports rather than just be simply supported.  Typically, you will see a beam supported over three or more spans.  \n",
      "\n",
      "We start with the maximum defection equation for a beam that is supported over three or more spans.  This found in Table 6-1 of the Formwork text.\n",
      "\n",
      "$$\\Delta_{max} = \\frac{w L^4}{145 E' I}\\frac{1 ft}{12 in}$$\n",
      "\n",
      "Where:\n",
      "\n",
      "* $w$ is the uniformly distributed load on the beam in units of $plf$\n",
      "* $L$ is the length of the beam in units of $inches$\n",
      "* $E'$ is the adjusted Young's modulus of the beam material in units of $psi$\n",
      "* $I$ is the moment of inertia of the beam in units of $in^4$\n",
      "\n",
      "\n",
      "\n",
      "We solve for $L^4$ in terms of $\\Delta_{max}$.\n",
      "\n",
      "$$ L^4 = \\Delta_{max} \\frac{145 E' I}{w }\\frac{12 in}{1 ft} =   \\Delta_{max} \\frac{(1,740 in/ft) E' I}{w}$$"
     ]
    },
    {
     "cell_type": "heading",
     "level": 2,
     "metadata": {
      "slideshow": {
       "slide_type": "slide"
      }
     },
     "source": [
      "Limit Deflection to a Fraction of the Span"
     ]
    },
    {
     "cell_type": "markdown",
     "metadata": {
      "slideshow": {
       "slide_type": "slide"
      }
     },
     "source": [
      "<audio controls data-autoplay preload>\n",
      " <source src=\"https://github.com/damontallen/Construction-Lectures/raw/master/Intro/FILE%20NAME.mp3\"\n",
      "         type='audio/mp3'>\n",
      " <p><strong>Your user agent does not support the HTML5 Audio element or the files are missing.</strong></p>\n",
      "</audio><a></a>"
     ]
    },
    {
     "cell_type": "markdown",
     "metadata": {
      "slideshow": {
       "slide_type": "-"
      }
     },
     "source": [
      "We left our equation in terms of $L^4$ because we might want to set the deflection to either a fixed amount *or* some fraction of the span $L$.  An example of this is $L/360$ but for now I will represent the constant, 360 in this case, as $C$.\n",
      "\n",
      "$$ L^4 = \\Delta_{max} \\frac{(1,740 in/ft) E' I}{w} = \\frac{L}{C} \\frac{(1,740 in/ft) E' I}{w}$$\n",
      "\n",
      "$$ L^3 =  \\frac{1}{C} \\frac{(1,740 in/ft) E' I}{w}$$\n",
      "\n",
      "$$ L^3 =  \\frac{1,740 in/ft}{C} \\frac{ E' I}{w}$$\n",
      "\n",
      "$$ L =  \\sqrt[3]{\\frac{1,740 in/ft}{C} \\frac{ E' I}{w}}$$\n",
      "\n",
      "$$ L =  \\sqrt[3]{\\frac{1,740 in/ft}{C}}\\sqrt[3]{ \\frac{ E' I}{w}}$$\n",
      "\n"
     ]
    },
    {
     "cell_type": "heading",
     "level": 2,
     "metadata": {
      "slideshow": {
       "slide_type": "slide"
      }
     },
     "source": [
      "Deflection Limit of $L/360$"
     ]
    },
    {
     "cell_type": "markdown",
     "metadata": {
      "slideshow": {
       "slide_type": "slide"
      }
     },
     "source": [
      "<audio controls data-autoplay preload>\n",
      " <source src=\"https://github.com/damontallen/Construction-Lectures/raw/master/Intro/FILE%20NAME.mp3\"\n",
      "         type='audio/mp3'>\n",
      " <p><strong>Your user agent does not support the HTML5 Audio element or the files are missing.</strong></p>\n",
      "</audio><a></a>"
     ]
    },
    {
     "cell_type": "markdown",
     "metadata": {
      "slideshow": {
       "slide_type": "-"
      }
     },
     "source": [
      "For a specific fractional limit like $L/360$ we just take our equation and substitute 360 for the constant $C$.\n",
      "\n",
      "$$ L = \\sqrt[3]{\\frac{1,740 in/ft}{C}}\\sqrt[3]{ \\frac{ E' I}{w}}$$\n",
      "\n",
      "$$ L = \\sqrt[3]{\\frac{1,740 in/ft}{360}}\\sqrt[3]{ \\frac{ E' I}{w}}$$\n",
      "\n",
      "$$ L =  1.69 \\left(\\frac{in}{ft} \\right)^{1/3}\\sqrt[3]{ \\frac{ E' I}{w}}$$\n",
      "\n",
      "We have some unusual units associated with 1.69 but if we can just remember what all the units in the problem should be we can drop the units in the equation and write it like this, \n",
      "\n",
      "$$L =  1.69 \\sqrt[3]{ \\frac{ E' I}{w}}$$\n",
      "\n",
      "Where:\n",
      "\n",
      "* $L$ is the length of the beam in units of $inches$\n",
      "* $w$ is the uniformly distributed load on the beam in units of $plf$\n",
      "* $E'$ is the adjusted Young's modulus of the beam material in units of $psi$\n",
      "* $I$ is the moment of inertia of the beam in units of $in^4$\n",
      "\n",
      "If we want to use a different fractional limit we could resolve this with a new value for $C$."
     ]
    },
    {
     "cell_type": "heading",
     "level": 2,
     "metadata": {
      "slideshow": {
       "slide_type": "slide"
      }
     },
     "source": [
      "Fixed Deflection Limit"
     ]
    },
    {
     "cell_type": "markdown",
     "metadata": {
      "slideshow": {
       "slide_type": "slide"
      }
     },
     "source": [
      "<audio controls data-autoplay preload>\n",
      " <source src=\"https://github.com/damontallen/Construction-Lectures/raw/master/Intro/FILE%20NAME.mp3\"\n",
      "         type='audio/mp3'>\n",
      " <p><strong>Your user agent does not support the HTML5 Audio element or the files are missing.</strong></p>\n",
      "</audio><a></a>"
     ]
    },
    {
     "cell_type": "markdown",
     "metadata": {
      "slideshow": {
       "slide_type": "-"
      }
     },
     "source": [
      "With a fixed diflection limit, like $1/16\"$ for example, we need to start with out original solution and solve for $L$.\n",
      "\n",
      "$$ L^4 = \\Delta_{max} \\frac{(1,740 in/ft) E' I}{w}$$\n",
      "\n",
      "$$ L = \\sqrt[4]{\\Delta_{max} \\frac{(1,740 in/ft) E' I}{w}}$$\n",
      "\n",
      "$$ L = \\sqrt[4]{(\\Delta_{max} \\times 1,740 in/ft) \\frac{ E' I}{w}}$$\n",
      "\n",
      "$$ L = \\left(\\sqrt[4]{\\Delta_{max} \\times 1,740 in/ft}\\right)\\sqrt[4]{ \\frac{ E' I}{w}}$$"
     ]
    },
    {
     "cell_type": "heading",
     "level": 2,
     "metadata": {
      "slideshow": {
       "slide_type": "slide"
      }
     },
     "source": [
      "Limiting Deflection to $1/16\"$"
     ]
    },
    {
     "cell_type": "markdown",
     "metadata": {
      "slideshow": {
       "slide_type": "slide"
      }
     },
     "source": [
      "<audio controls data-autoplay preload>\n",
      " <source src=\"https://github.com/damontallen/Construction-Lectures/raw/master/Intro/FILE%20NAME.mp3\"\n",
      "         type='audio/mp3'>\n",
      " <p><strong>Your user agent does not support the HTML5 Audio element or the files are missing.</strong></p>\n",
      "</audio><a></a>"
     ]
    },
    {
     "cell_type": "markdown",
     "metadata": {
      "slideshow": {
       "slide_type": "-"
      }
     },
     "source": [
      "If we pick a fixed deflection like $1/16\"$ we just need to substitue it for $\\Delta_{max}$ in our equation.\n",
      "\n",
      "$$ L = \\left(\\sqrt[4]{\\Delta_{max} \\times 1,740 in/ft}\\right)\\sqrt[4]{ \\frac{ E' I}{w}}$$\n",
      "\n",
      "$$ L = \\left(\\sqrt[4]{\\frac{1}{16}\" \\times 1,740 in/ft}\\right)\\sqrt[4]{ \\frac{ E' I}{w}}$$\n",
      "\n",
      "$$ L = \\left(\\sqrt[4]{\\frac{1,740 in^2}{16 ft}}\\right)\\sqrt[4]{ \\frac{ E' I}{w}}$$\n",
      "\n",
      "$$ L = \\left(\\sqrt[4]{108.75 \\frac{ in^2}{ ft}}\\right)\\sqrt[4]{ \\frac{ E' I}{w}}$$\n",
      "\n",
      "$$ L = \\sqrt[4]{108.75} \\left(\\frac{in^2}{ft} \\right)^{1/4}\\sqrt[4]{ \\frac{ E' I}{w}}$$\n",
      "\n",
      "$$ L = 3.23 \\frac{\\sqrt{in}}{\\sqrt[4]{ft}} \\sqrt[4]{ \\frac{ E' I}{w}}$$\n",
      "\n",
      "*(Continued on the next slide.)*"
     ]
    },
    {
     "cell_type": "markdown",
     "metadata": {
      "slideshow": {
       "slide_type": "slide"
      }
     },
     "source": [
      "<audio controls data-autoplay preload>\n",
      " <source src=\"https://github.com/damontallen/Construction-Lectures/raw/master/Intro/FILE%20NAME.mp3\"\n",
      "         type='audio/mp3'>\n",
      " <p><strong>Your user agent does not support the HTML5 Audio element or the files are missing.</strong></p>\n",
      "</audio><a></a>"
     ]
    },
    {
     "cell_type": "markdown",
     "metadata": {
      "slideshow": {
       "slide_type": "-"
      }
     },
     "source": [
      "Like before, we have some unusual units associated with the constant in our soulution but if we remember what all the units in the problem should be we can drop the units in the equation and write it like this, \n",
      "\n",
      "$$ L = 3.23 \\sqrt[4]{ \\frac{ E' I}{w}}$$\n",
      "\n",
      "Where:\n",
      "\n",
      "* $L$ is the length of the beam in units of $inches$\n",
      "* $E'$ is the adjusted Young's modulus of the beam material in units of $psi$\n",
      "* $I$ is the moment of inertia of the beam in units of $in^4$\n",
      "* $w$ is the uniformly distributed load on the beam in units of $plf$\n",
      "\n",
      "If we want to use a different deflection limit we can just resolve with the new value for $\\Delta_{max}$."
     ]
    },
    {
     "cell_type": "heading",
     "level": 2,
     "metadata": {
      "slideshow": {
       "slide_type": "slide"
      }
     },
     "source": [
      "Using Bending Stress in a Beam to Determine Allowable Spans"
     ]
    },
    {
     "cell_type": "markdown",
     "metadata": {
      "slideshow": {
       "slide_type": "slide"
      }
     },
     "source": [
      "<audio controls data-autoplay preload>\n",
      " <source src=\"https://github.com/damontallen/Construction-Lectures/raw/master/Intro/FILE%20NAME.mp3\"\n",
      "         type='audio/mp3'>\n",
      " <p><strong>Your user agent does not support the HTML5 Audio element or the files are missing.</strong></p>\n",
      "</audio><a></a>"
     ]
    },
    {
     "cell_type": "markdown",
     "metadata": {
      "slideshow": {
       "slide_type": "-"
      }
     },
     "source": [
      "There are three limits you need to check with any beam: deflection, bending, and shear.  For bending we compare $F_b'$ to $f_b$ and in order to find the actual bending stress we need to know the maximum moment.\n",
      "\n",
      "In a simply supported beam the maximum moment due to a uniformly distributed load is,\n",
      "\n",
      "$$M = \\frac{w L^2}{8}$$\n",
      "\n",
      "However we are not using a simply supported beam but rather a beam supported over three or more spans.  An equation for the maximum moment for a beam supported over three or more spans can be found in Table 6-1 for the Formwork text.\n",
      "\n",
      "$$M = \\frac{w L^2}{10} \\times \\frac{1 ft}{12 in}$$\n",
      "\n",
      "Where:\n",
      "\n",
      "* $M$ is the bending moment of the beam material in units of $in-lbs$\n",
      "* $L$ is the length of the beam in units of $inches$\n",
      "* $w$ is the uniformly distributed load on the beam in units of $plf$\n",
      "\n",
      "\n",
      "*(Continued on the next slide)*\n"
     ]
    },
    {
     "cell_type": "markdown",
     "metadata": {
      "slideshow": {
       "slide_type": "slide"
      }
     },
     "source": [
      "<audio controls data-autoplay preload>\n",
      " <source src=\"https://github.com/damontallen/Construction-Lectures/raw/master/Intro/FILE%20NAME.mp3\"\n",
      "         type='audio/mp3'>\n",
      " <p><strong>Your user agent does not support the HTML5 Audio element or the files are missing.</strong></p>\n",
      "</audio><a></a>"
     ]
    },
    {
     "cell_type": "markdown",
     "metadata": {
      "slideshow": {
       "slide_type": "-"
      }
     },
     "source": [
      "If we rewrite the bending moment in terms of allowable bending stress we get,\n",
      "\n",
      "$$F_b' \\times S = M = \\frac{w L^2}{120} \\times 1 \\frac{ft}{in}$$\n",
      "\n",
      "Solving for $L^2$,\n",
      "\n",
      "$$L^2 = 120 \\frac{in}{ft} \\times \\frac{F_b' \\times S }{w} $$\n",
      "\n",
      "And $L$ is,\n",
      "\n",
      "$$L = \\sqrt{120 \\frac{in}{ft}} \\times \\sqrt{\\frac{F_b' \\times S }{w}} $$\n",
      "\n",
      "$$L = 10.95 \\sqrt{ \\frac{in}{ft}} \\times \\sqrt{\\frac{F_b' \\times S }{w}} \\textbf{ or dropping the units } L = 10.95 \\times \\sqrt{\\frac{F_b' \\times S }{w}}$$\n",
      "\n",
      "Where:\n",
      "\n",
      "* $L$ is the length of the beam in units of $inches$\n",
      "* $F_b'$ is the allowable bending stress of the beam in units of $psi$\n",
      "* $S$ is the section modulus of the beam in units of $in^3$\n",
      "* $w$ is the uniformly distributed load on the beam in units of $plf$\n"
     ]
    },
    {
     "cell_type": "heading",
     "level": 2,
     "metadata": {
      "slideshow": {
       "slide_type": "slide"
      }
     },
     "source": [
      "Span Limit when Shear Controls"
     ]
    },
    {
     "cell_type": "markdown",
     "metadata": {
      "slideshow": {
       "slide_type": "slide"
      }
     },
     "source": [
      "<audio controls data-autoplay preload>\n",
      " <source src=\"https://github.com/damontallen/Construction-Lectures/raw/master/Intro/FILE%20NAME.mp3\"\n",
      "         type='audio/mp3'>\n",
      " <p><strong>Your user agent does not support the HTML5 Audio element or the files are missing.</strong></p>\n",
      "</audio><a></a>"
     ]
    },
    {
     "cell_type": "markdown",
     "metadata": {
      "slideshow": {
       "slide_type": "-"
      }
     },
     "source": [
      "<a href = \"http://i.imgur.com/E2UUjpH.png\"><img src=\"http://i.imgur.com/E2UUjpH.png\" alt = \"Concrete Beam\"style=\"max-width:300px; max-height:300px; border:1px solid blue; float:right; margin-left:10px;\"/></a>\n",
      "\n",
      "Like with bending and deflection before our value for the maximum shear is not quite the same as it was with a simply supported beam when you have three or more supported spans.\n",
      "\n",
      "From Table 6-1 in the Formwork text we find,"
     ]
    },
    {
     "cell_type": "markdown",
     "metadata": {
      "slideshow": {
       "slide_type": "-"
      }
     },
     "source": [
      "\n",
      "\n",
      "$$V_{max} = 0.6 \\times w \\times L \\times \\frac{1 ft}{12 in} \\left(\\text{ or } V_{max} = 1.2 \\times w \\times \\frac{L}{2} \\times \\frac{1 ft}{12 in} \\right)$$ \n",
      "\n",
      "Where:\n",
      "\n",
      "* $V_{max}$ is the maximum shear in the beam in units of $lbs$\n",
      "* $w$ is the uniformly distributed load on the beam in units of $plf$\n",
      "* $L$ is the length of the beam in units of $inches$\n",
      "\n",
      "For beams where the support is on the oppisite side of the load $(w)$ we can take advantage of Section 3.4.3 in the Timber NDS which states that the maximum shear may be measures at a distance $d$ from the edge of the supports.  You may recall something like this when you studied concrete beams.\n",
      "\n",
      "\n",
      "*(Continued on the next slide.)*"
     ]
    },
    {
     "cell_type": "markdown",
     "metadata": {
      "slideshow": {
       "slide_type": "slide"
      }
     },
     "source": [
      "<audio controls data-autoplay preload>\n",
      " <source src=\"https://github.com/damontallen/Construction-Lectures/raw/master/Intro/FILE%20NAME.mp3\"\n",
      "         type='audio/mp3'>\n",
      " <p><strong>Your user agent does not support the HTML5 Audio element or the files are missing.</strong></p>\n",
      "</audio><a></a>"
     ]
    },
    {
     "cell_type": "markdown",
     "metadata": {
      "slideshow": {
       "slide_type": "-"
      }
     },
     "source": [
      "After accounting for this allowance the maximum shear equation becomes,\n",
      "\n",
      "\n",
      "$$V_{max} =  1.2 \\times w \\times \\left( \\frac{L}{2} - d \\right) \\times \\frac{1 ft}{12 in} \\text{ or }$$ \n",
      "\n",
      "$$V_{max} =  0.6 \\times w \\times \\left( L - 2d \\right) \\times \\frac{1 ft}{12 in} = \\frac{0.6 ft}{12 in} \\times w \\times \\left( L - 2d \\right) $$ \n",
      "\n",
      "$$V_{max} = \\frac{1 ft}{20 in} \\times w \\times \\left( L - 2d \\right) $$ \n",
      "\n",
      "Rewriting $V_{max}$ in terms of allowable shear stress we get,\n",
      "\n",
      "$$F_v' = \\frac{3}{2}\\frac{V_{max}}{A} = \\frac{3}{2 \\times A}\\frac{1 ft}{20 in} \\times w \\times \\left( L - 2d \\right) $$ \n",
      "\n",
      "$$F_v' = \\frac{3 ft}{40 in} \\times \\frac{w}{A} \\times \\left( L - 2d \\right) $$ \n",
      "\n",
      "*(Continues on the next slide.)*"
     ]
    },
    {
     "cell_type": "markdown",
     "metadata": {
      "slideshow": {
       "slide_type": "slide"
      }
     },
     "source": [
      "<audio controls data-autoplay preload>\n",
      " <source src=\"https://github.com/damontallen/Construction-Lectures/raw/master/Intro/FILE%20NAME.mp3\"\n",
      "         type='audio/mp3'>\n",
      " <p><strong>Your user agent does not support the HTML5 Audio element or the files are missing.</strong></p>\n",
      "</audio><a></a>"
     ]
    },
    {
     "cell_type": "markdown",
     "metadata": {
      "slideshow": {
       "slide_type": "-"
      }
     },
     "source": [
      "\n",
      "Solving for $L$ we go from,\n",
      "\n",
      "$$F_v' = \\frac{3 ft}{40 in} \\times \\frac{w}{A} \\times \\left( L - 2d \\right) $$ \n",
      "\n",
      "to\n",
      "\n",
      "$$ \\left( L - 2d \\right) = F_v' \\times \\frac{40 in}{3 ft} \\times \\frac{A}{w} $$ \n",
      "\n",
      "$$ L =  \\frac{40 in}{3 ft} \\times \\frac{F_v' \\times A}{w} + 2d  $$ \n",
      "\n",
      "$$ L =  13.33\\frac{ in}{ ft} \\times \\frac{F_v' \\times A}{w} + 2d  \\text{ or just,}$$ \n",
      "\n",
      "$$ L =  13.33\\times \\frac{F_v' \\times A}{w} + 2d $$ \n",
      "\n",
      "Where:\n",
      "\n",
      "* $L$ is the length of the beam in units of $inches$\n",
      "* $F_v'$ is the maximum allowable shear stress in the beam in units of $psi$\n",
      "* $A$ is the cross sectional area of the beam in units of $in^2$\n",
      "* $w$ is the uniformly distributed load on the beam in units of $plf$\n",
      "* $d$ is the width of the beam in units of $in$"
     ]
    },
    {
     "cell_type": "heading",
     "level": 2,
     "metadata": {
      "slideshow": {
       "slide_type": "slide"
      }
     },
     "source": [
      "Plywood Rolling Shear"
     ]
    },
    {
     "cell_type": "markdown",
     "metadata": {
      "slideshow": {
       "slide_type": "slide"
      }
     },
     "source": [
      "<audio controls data-autoplay preload>\n",
      " <source src=\"https://github.com/damontallen/Construction-Lectures/raw/master/Intro/FILE%20NAME.mp3\"\n",
      "         type='audio/mp3'>\n",
      " <p><strong>Your user agent does not support the HTML5 Audio element or the files are missing.</strong></p>\n",
      "</audio><a></a>"
     ]
    },
    {
     "cell_type": "markdown",
     "metadata": {
      "slideshow": {
       "slide_type": "-"
      }
     },
     "source": [
      "The span limit for plywood panels, supported over three or more spans, due to rolling shear can be found based using Equation 11 from the [APA Panel Design Specification](http://www.apawood.org/pdfs/download_pdf.cfm?PDFFilename=managed/D510.pdf).\n",
      "\n",
      "$w  = \\frac{20 F_s' (Ib/Q)}{L} $\n",
      "\n",
      "Correcting the equation for the units we want to use with we get.\n",
      "\n",
      "$w \\times 1 ft = \\frac{20 F_s' (Ib/Q)}{L}\\times 1 ft $"
     ]
    },
    {
     "cell_type": "markdown",
     "metadata": {
      "slideshow": {
       "slide_type": "-"
      }
     },
     "source": [
      "$L  = \\frac{20 F_s' (Ib/Q)}{w} $\n",
      "\n",
      "Where:\n",
      "\n",
      "* $L$ is the length of the panel in units of $inches$\n",
      "* $F_s'$ is the maximum allowable rolling shear stress in the panel in units of $psi$\n",
      "* $Ib/Q$ is the rolling shear constant of the panel units of $in^2/ft$\n",
      "* $w$ is the uniformly distributed load on the panel in units of $plf$\n",
      "\n",
      "Sometimes this equation is written in a way that $L$ comes out in feet.  This looks like,\n",
      "\n",
      "$L  = \\frac{F_s' (Ib/Q)}{0.6 w} $\n",
      "\n",
      "Note: In both versions of this equation $F_s' = F_s \\times C_D$."
     ]
    },
    {
     "cell_type": "markdown",
     "metadata": {
      "slideshow": {
       "slide_type": "slide"
      }
     },
     "source": [
      "References:\n",
      "\n",
      "[APA Panel Design Specification](http://www.apawood.org/pdfs/download_pdf.cfm?PDFFilename=managed/D510.pdf)"
     ]
    },
    {
     "cell_type": "markdown",
     "metadata": {
      "slideshow": {
       "slide_type": "skip"
      }
     },
     "source": [
      "CSS stylesheet\n",
      "\n",
      "<head>\n",
      "<style>\n",
      "important {font:italic bold 16px arial;}\n",
      ".missing {color:Red}\n",
      "fragment {color:LightBlue;}\n",
      "subslide {color:DarkBlue;}\n",
      "\n",
      ".rgt {float:right;}\n",
      "\n",
      ".lt {float:left;}\n",
      "\n",
      ".cnt {text-align:center; vertical-align:text-top;}\n",
      "\n",
      ".box { border:1px solid blue; float:left; margin-right:3px;}\n",
      "\n",
      ".max {max-width:300px; max-height:300px;}\n",
      "\n",
      ".fix {max-height:200px; max-width:200px;}\n",
      "\n",
      "</style>\n",
      "</head>\n",
      "\n",
      "    ###Useful Tip:\n",
      "\n",
      "    If you use Firefox or Chrome then installing one of the following extensions will make viewing images in lectures easier.\n",
      "    \n",
      "    * Firefox - [Thumbnail Zoom Plus](https://addons.mozilla.org/en-US/firefox/addon/thumbnail-zoom-plus/?src=search)\n",
      "    * Chrome - [Hover Free](https://chrome.google.com/webstore/detail/hover-free/hcmnnggnaofmhflgomfjfbndngdoogkj) (Not to be confused with Hover Zoom.)\n",
      "\n",
      "    /* class = \"max box\" for img tags\n",
      "    \n",
      "    \n",
      "    Audio Player:\n",
      "    <audio controls data-autoplay preload>\n",
      "     <source src=\"https://github.com/damontallen/Construction-Lectures/raw/master/Intro/FILE%20NAME.mp3\"\n",
      "             type='audio/mp3'>\n",
      "     <p><strong>Your user agent does not support the HTML5 Audio element or the files are missing.</strong></p>\n",
      "    </audio><a></a>\n",
      "    \n",
      "    */\n",
      "    class = \"max box\" == style=\"max-width:300px; max-height:300px; border:1px solid blue; float:left; margin-right:3px;\"\n",
      "    important == <strong><font style=\"font:italic bold 16px arial;\"> Text here </font></strong>\n",
      "    Example <important class=\"missing\">Video Placeholder</important>\n",
      "    \n",
      "    Picture Examples: \n",
      "    (Right side)\n",
      "    <a href = \"http://i.imgur.com/h7H0m0b.png\"><img src=\"http://i.imgur.com/h7H0m0b.png\" alt = \"Elevated Slab with Worker\"style=\"max-width:300px; max-height:300px; border:1px solid blue; float:right; margin-left:10px;\"/></a>\n",
      "    \n",
      "    (Left side)\n",
      "    <a href = \"http://i.imgur.com/EWHj3eh.png\"><img src=\"http://i.imgur.com/EWHj3eh.png\" alt = \"Braced Slab\" Title = \"Braced Slab\"style=\"max-width:300px; max-height:300px; border:1px solid blue; float:left; margin-right:3px;\"/></a>\n",
      "    \n",
      "    (hover over image)\n",
      "    <a href=\"http://i.imgur.com/aTxezXX.png\" id=\"Top Down Slab\">\n",
      "        <img title=\"Top Down Slab (Bracing in the 60 ft direction)\" alt = \"Top Down Slab\"\n",
      "            src=\"http://i.imgur.com/EL2FYDQ.png\" \n",
      "            onmouseover=\"this.src='http://i.imgur.com/aTxezXX.png'\".\n",
      "            onmouseout=\"this.src='http://i.imgur.com/EL2FYDQ.png'\" \n",
      "            style=\"max-width:300px; max-height:300px; border:1px solid blue; \n",
      "                    float:right; margin-left:10px;\"/>\n",
      "    </a>\n",
      "    \n",
      "    Video:\n",
      "    <iframe width=\"420\" height=\"315\" src=\"//www.youtube.com/embed/g43sFmgHOCk\" frameborder=\"0\" allowfullscreen style=\" float:left; margin-right:20px;\"></iframe>"
     ]
    },
    {
     "cell_type": "markdown",
     "metadata": {
      "slideshow": {
       "slide_type": "skip"
      }
     },
     "source": [
      "(hover over image)\n",
      "    <a href=\"http://i.imgur.com/aTxezXX.png\" id=\"Top Down Slab\">\n",
      "        <img title=\"Top Down Slab (Bracing in the 60 ft direction)\" alt = \"Top Down Slab\"\n",
      "            src=\"http://i.imgur.com/EL2FYDQ.png\" \n",
      "            onmouseover=\"this.src='http://i.imgur.com/aTxezXX.png'\".\n",
      "            onmouseout=\"this.src='http://i.imgur.com/EL2FYDQ.png'\" \n",
      "            style=\"max-width:300px; max-height:300px; border:1px solid blue; \n",
      "                    float:right; margin-left:10px;\"/>\n",
      "    </a>"
     ]
    }
   ],
   "metadata": {}
  }
 ]
}