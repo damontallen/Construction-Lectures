{
 "metadata": {
  "name": ""
 },
 "nbformat": 3,
 "nbformat_minor": 0,
 "worksheets": [
  {
   "cells": [
    {
     "cell_type": "markdown",
     "metadata": {},
     "source": []
    },
    {
     "cell_type": "markdown",
     "metadata": {},
     "source": [
      "<important class=\"missing\">Video Placeholder<important>"
     ]
    },
    {
     "cell_type": "heading",
     "level": 2,
     "metadata": {
      "slideshow": {
       "slide_type": "slide"
      }
     },
     "source": []
    },
    {
     "cell_type": "markdown",
     "metadata": {},
     "source": [
      "<audio controls data-autoplay preload>\n",
      " <source src=\"https://github.com/damontallen/Construction-Lectures/raw/master/Intro/FILE%20NAME.mp3\"\n",
      "         type='audio/mp3'>\n",
      " <p><strong>Your user agent does not support the HTML5 Audio element or the files are missing.</strong></p>\n",
      "</audio><a></a>"
     ]
    },
    {
     "cell_type": "markdown",
     "metadata": {},
     "source": []
    },
    {
     "cell_type": "heading",
     "level": 2,
     "metadata": {},
     "source": []
    },
    {
     "cell_type": "markdown",
     "metadata": {},
     "source": [
      "<audio controls data-autoplay preload>\n",
      " <source src=\"https://github.com/damontallen/Construction-Lectures/raw/master/Intro/FILE%20NAME.mp3\"\n",
      "         type='audio/mp3'>\n",
      " <p><strong>Your user agent does not support the HTML5 Audio element or the files are missing.</strong></p>\n",
      "</audio><a></a>"
     ]
    },
    {
     "cell_type": "markdown",
     "metadata": {},
     "source": []
    },
    {
     "cell_type": "markdown",
     "metadata": {
      "slideshow": {
       "slide_type": "slide"
      }
     },
     "source": [
      "References:\n"
     ]
    },
    {
     "cell_type": "markdown",
     "metadata": {
      "slideshow": {
       "slide_type": "skip"
      }
     },
     "source": [
      "CSS stylesheet\n",
      "\n",
      "<head>\n",
      "<style>\n",
      "important {font:italic bold 16px arial;}\n",
      ".missing {color:Red}\n",
      "fragment {color:LightBlue;}\n",
      "subslide {color:DarkBlue;}\n",
      "\n",
      ".rgt {float:right;}\n",
      "\n",
      ".lt {float:left;}\n",
      "\n",
      ".cnt {text-align:center; vertical-align:text-top;}\n",
      "\n",
      ".box { border:1px solid blue; float:left; margin-right:3px;}\n",
      "\n",
      ".max {max-width:300px; max-height:300px;}\n",
      "\n",
      ".fix {max-height:200px; max-width:200px;}\n",
      "\n",
      "</style>\n",
      "</head>\n",
      "\n",
      "    /* class = \"max box\" for img tags\n",
      "    \n",
      "    <audio controls data-autoplay preload>\n",
      "     <source src=\"https://github.com/damontallen/Construction-Lectures/raw/master/Intro/FILE%20NAME.mp3\"\n",
      "             type='audio/mp3'>\n",
      "     <p><strong>Your user agent does not support the HTML5 Audio element or the files are missing.</strong></p>\n",
      "    </audio><a></a>\n",
      "    \n",
      "    */\n",
      "    class = \"max box\" == style=\"max-width:300px; max-height:300px; border:1px solid blue; float:left; margin-right:3px;\"\n",
      "    important == <strong><font style=\"font:italic bold 16px arial;\"> Text here </font></strong>\n",
      "    Example <important class=\"missing\">Video Placeholder</important>\n",
      "    \n",
      "    Picture Examples: (Right side)\n",
      "    <a href = \"http://i.imgur.com/h7H0m0b.png\"><img src=\"http://i.imgur.com/h7H0m0b.png\" alt = \"Elevated Slab with Worker\"style=\"max-width:300px; max-height:300px; border:1px solid blue; float:right; margin-left:10px;\"/></a>\n",
      "    \n",
      "    (Left side)\n",
      "    <a href = \"http://i.imgur.com/EWHj3eh.png\"><img src=\"http://i.imgur.com/EWHj3eh.png\" alt = \"Braced Slab\" Title = \"Braced Slab\"style=\"max-width:300px; max-height:300px; border:1px solid blue; float:left; margin-right:3px;\"/></a>\n",
      "    \n",
      "    (hover over image)\n",
      "    <a href=\"http://i.imgur.com/aTxezXX.png\" id=\"Top Down Slab\">\n",
      "        <img title=\"Top Down Slab (Bracing in the 60 ft direction)\" alt = \"Top Down Slab\"\n",
      "            src=\"http://i.imgur.com/EL2FYDQ.png\" \n",
      "            onmouseover=\"this.src='http://i.imgur.com/aTxezXX.png'\".\n",
      "            onmouseout=\"this.src='http://i.imgur.com/EL2FYDQ.png'\" \n",
      "            style=\"max-width:300px; max-height:300px; border:1px solid blue; \n",
      "                    float:right; margin-left:10px;\"/>\n",
      "    </a>"
     ]
    },
    {
     "cell_type": "markdown",
     "metadata": {
      "slideshow": {
       "slide_type": "skip"
      }
     },
     "source": [
      "(hover over image)\n",
      "    <a href=\"http://i.imgur.com/aTxezXX.png\" id=\"Top Down Slab\">\n",
      "        <img title=\"Top Down Slab (Bracing in the 60 ft direction)\" alt = \"Top Down Slab\"\n",
      "            src=\"http://i.imgur.com/EL2FYDQ.png\" \n",
      "            onmouseover=\"this.src='http://i.imgur.com/aTxezXX.png'\".\n",
      "            onmouseout=\"this.src='http://i.imgur.com/EL2FYDQ.png'\" \n",
      "            style=\"max-width:300px; max-height:300px; border:1px solid blue; \n",
      "                    float:right; margin-left:10px;\"/>\n",
      "    </a>"
     ]
    }
   ],
   "metadata": {}
  }
 ]
}