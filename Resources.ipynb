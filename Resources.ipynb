{
 "metadata": {
  "name": "",
  "signature": "sha256:0441f2331a38c4e22a9d42038fdf1edda0d10f9075fbcdc0abd8b5027f1cc5c9"
 },
 "nbformat": 3,
 "nbformat_minor": 0,
 "worksheets": [
  {
   "cells": [
    {
     "cell_type": "heading",
     "level": 1,
     "metadata": {},
     "source": [
      "Software Resources"
     ]
    },
    {
     "cell_type": "markdown",
     "metadata": {},
     "source": [
      "In the process of developing this course I have used the following open source programs:\n",
      "\n",
      "* IPython (versions 1.1, 1.20, 1.21, and 2.0)\n",
      "    * Notebook to develop all the software and documentation.\n",
      "    * NBConvert to make slides, convert to latex, and create pdfs.\n",
      "* Dami\u00e1n Avila's IPython extension for [spell checking](http://www.damian.oquanta.info/posts/a-poor-man-spell-checker-for-the-ipython-notebook.html)\n",
      "* Audacity (version 2.03)\n",
      "    * Used to record all the audio files.\n",
      "* Mp3Gain (version 1.5.2-r2-2)\n",
      "    * Used for batch volume adjustment of the audio files.\n",
      "* Openshot (version 1.4.3)\n",
      "    * Used to edit the videos.\n",
      "* GTK UVC (version 1.7.1-1)\n",
      "    * Used to record most of the video files.\n",
      "* Blender (version 2.66a)\n",
      "    * Used to render some of the more complicated 3D images.\n",
      "* LibreOffice (version 4.2.2.1)\n",
      "    * Writer to develop the original version of my lecture notes.\n",
      "    * Calc to develop the spreadsheet homework assignments.\n",
      "    * Draw to create illustrations for the slideshows.\n",
      "* InkScape (version 0.48)\n",
      "    * Used to create some of the diagrams in the slideshows, in particular the student homework cycle.\n",
      "* Shutter (version 0.90)\n",
      "    * Used for quick screen captures.\n",
      "* Ubuntu (versions 13.10 and 14.04)\n",
      "    * The opensource operating system in which I was able to quickly find and install most of the software listed above.\n",
      "    * Firefox, used to view IPython Notebooks.\n",
      "    * Chrome, used to view IPython Notebooks.\n",
      "\n",
      "\n",
      "I also used the free resources available from the following web sites:\n",
      "\n",
      "* GitHub: For version control an online hosting of the slideshows, notebook files, and audio files.\n",
      "* YouTube: For hosting the video files in a variety of formats to allow for easy streaming.\n",
      "* NBViewer: For displaying static versions of the notebooks hosted on GitHub.\n",
      "\n",
      "To the best of my knowledge this is a complete list of all the software I used in the development of this course.  They are listed in relative importance to my work-flow but all have been critical are one point or another.  Thanks to all the hard work of these software developers I have been able to do my job with relative ease."
     ]
    }
   ],
   "metadata": {}
  }
 ]
}