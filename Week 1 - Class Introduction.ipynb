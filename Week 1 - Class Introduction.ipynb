{
 "metadata": {
  "name": ""
 },
 "nbformat": 3,
 "nbformat_minor": 0,
 "worksheets": [
  {
   "cells": [
    {
     "cell_type": "heading",
     "level": 1,
     "metadata": {
      "slideshow": {
       "slide_type": "slide"
      }
     },
     "source": [
      "Course Introduction"
     ]
    },
    {
     "cell_type": "markdown",
     "metadata": {
      "slideshow": {
       "slide_type": "-"
      }
     },
     "source": [
      "<important>If you haven't watched the [greeting presentation](http://damontallen.github.io/Construction-Lectures/Greetings.slides.html), go and watch it now.</important>\n",
      "\n",
      "\n",
      "*video place holder*"
     ]
    },
    {
     "cell_type": "heading",
     "level": 2,
     "metadata": {
      "slideshow": {
       "slide_type": "slide"
      }
     },
     "source": [
      "Class Website Information"
     ]
    },
    {
     "cell_type": "markdown",
     "metadata": {
      "slideshow": {
       "slide_type": "-"
      }
     },
     "source": [
      "*audio place holder*\n",
      "\n",
      "* [Class Discussion Board]()\n",
      "* [Team Discussion Boards]()\n",
      "* [Assessments]()\n",
      "* [Course Materials]() (The course modules are here.)\n",
      "  * [Rubrics]()\n",
      "  * [Reference Material]()"
     ]
    },
    {
     "cell_type": "heading",
     "level": 2,
     "metadata": {
      "slideshow": {
       "slide_type": "slide"
      }
     },
     "source": [
      "Syllabus and Grading"
     ]
    },
    {
     "cell_type": "heading",
     "level": 3,
     "metadata": {
      "slideshow": {
       "slide_type": "-"
      }
     },
     "source": [
      "Description of Course:"
     ]
    },
    {
     "cell_type": "markdown",
     "metadata": {
      "slideshow": {
       "slide_type": "-"
      }
     },
     "source": [
      "*audio place holder*\n",
      "\n",
      "\n",
      "To study the temporary structures that contractors have to build in order to construct the primary structure. This includes formwork, scaffolding, support excavation systems, and equipment for hoisting materials, personnel, and erecting structures.\n",
      "\n",
      "*(Be sure to click the blue down arrow to see more about the syllabus and grading.)*"
     ]
    },
    {
     "cell_type": "heading",
     "level": 3,
     "metadata": {
      "slideshow": {
       "slide_type": "subslide"
      }
     },
     "source": [
      "Course Activities:"
     ]
    },
    {
     "cell_type": "markdown",
     "metadata": {
      "slideshow": {
       "slide_type": "-"
      }
     },
     "source": [
      "*audio place holder*\n",
      "\n",
      "* Lectures \n",
      "* Discussion board practice problems \n",
      "* Team projects\n",
      "* Individual assignments\n",
      "* Quizzes\n",
      "* Virtual Field trip(s) (as scheduling permits).  Be aware that you will need protective equipment for the Field trip(s), i.e. work boots, safety glasses, hardhat, etc, and that you may be denied admittance without it.\n",
      "\n"
     ]
    },
    {
     "cell_type": "heading",
     "level": 3,
     "metadata": {
      "slideshow": {
       "slide_type": "subslide"
      }
     },
     "source": [
      "Grading:"
     ]
    },
    {
     "cell_type": "markdown",
     "metadata": {
      "slideshow": {
       "slide_type": "-"
      }
     },
     "source": [
      "*audio place holder*\n",
      "\n",
      "<Table  align=\"center\">\n",
      " <caption><strong>Grading Apportionment</strong></caption>\n",
      " <tr><th>Type</th><th>Value</th></tr>\n",
      "<tr><td>Individual assignments</td><td> <div class=\"rgt\">25%</div></td></tr>\n",
      "<tr><td>Team Assignments</td><td> <div class=\"rgt\">25%</div></td></tr>\n",
      "<tr><td>Quizzes</td><td> <div class=\"rgt\">25%</div></td></tr>\n",
      "<tr><td>Participation</td><td> <div class=\"rgt\">15%</div></td></tr>\n",
      "<tr><td>Team Project</td><td>   <div class=\"rgt\">10%</div></td></tr>\n",
      "<tr><td><strong>Total</strong></td><td><strong>100%</strong></td></tr>\n",
      "</Table>\n",
      "\n",
      "<Table  align=\"center\">\n",
      "<caption><strong>Grading Scale</strong></caption>\n",
      "<tr><td>A-: 90% - 92.9%</td><td colspan=\"2\">A: 93% - 100%</td></tr>\n",
      "<tr><td>B-: 80% - 82.9%</td><td>B: 83% - 86.9%</td><td>B+: 87% - 89.9%</td></tr>\n",
      "<tr><td>C-: 70% - 72.9%</td><td>C: 73% - 76.9%</td><td>C+: 77% - 79.9%</td></tr>\n",
      "<tr><td>D-: 60% - 62.9%</td><td>D: 63% - 66.9%</td><td>D+: 67% - 69.9%</td></tr>\n",
      "<tr><td colspan=\"3\">E-: &lt; 60%</td></tr>\n",
      "</Table>"
     ]
    },
    {
     "cell_type": "heading",
     "level": 2,
     "metadata": {
      "slideshow": {
       "slide_type": "slide"
      }
     },
     "source": [
      "Why Are Temporary Structures Important"
     ]
    },
    {
     "cell_type": "markdown",
     "metadata": {
      "slideshow": {
       "slide_type": "-"
      }
     },
     "source": [
      "####Press the White Arrow in the Orange Circle to Play\n",
      "\n",
      "<iframe width=\"40%\" height=\"150\" scrolling=\"no\" frameborder=\"no\" \n",
      "src=\"https://w.soundcloud.com/player/?url=https%3A//api.soundcloud.com/tracks/137281177&amp;\n",
      "auto_play=false&amp;hide_related=false&amp;visual=true\"></iframe>\n",
      "\n",
      "\n",
      "*(Press the blue down arrow at the bottom right to see the text.)*"
     ]
    },
    {
     "cell_type": "markdown",
     "metadata": {
      "slideshow": {
       "slide_type": "subslide"
      }
     },
     "source": [
      "When I have asked this question to students in the past I have gotten answers like:\n",
      "\n",
      "* So we don\u2019t get sued.\n",
      "\n",
      "Temporary structures are really the most important type of structures you as a contractor\n",
      "or project manager will have to build. These structures are built by you, used by you,\n",
      "and demolished by you. The common denominator in this is you. Because these\n",
      "structures are only used by the construction industry, most of the time you will not have\n",
      "an outside inspector looking at them telling you that they are dangerous.\n",
      "\n",
      "This is the reason that it is so important that you know how to construct them correctly.\n",
      "That is to say, it is in your best interest that they are built safely and cost effective.\n",
      "On a personal note, you might be walking under that slab form, or standing on that\n",
      "scaffold, or inspecting work at the bottom of that trench when there is a collapse. So, if\n",
      "for no other reason than self-preservation, you should know how to build them correctly.\n",
      "\n",
      "*(Press the down arrow again to see some examples.)*"
     ]
    },
    {
     "cell_type": "markdown",
     "metadata": {
      "slideshow": {
       "slide_type": "subslide"
      }
     },
     "source": [
      "<a></a>\n",
      "\n",
      "<a title=\"By Sam Effron [CC-BY-SA-2.0 (http://creativecommons.org/licenses/by-sa/2.0)], via Wikimedia Commons\" href=\"http://commons.wikimedia.org/wiki/File%3AAddis_Abeba_Wood_Scaffold_(Sam_Effron).jpg\"><img  alt=\"Addis Abeba Wood Scaffold (Sam Effron)\" src=\"//upload.wikimedia.org/wikipedia/commons/thumb/2/23/Addis_Abeba_Wood_Scaffold_%28Sam_Effron%29.jpg/256px-Addis_Abeba_Wood_Scaffold_%28Sam_Effron%29.jpg\"/  style=\" border:1px solid blue; float:left; margin-right:3px;\" ></a>\n",
      "\n",
      "<a title=\"See page for author [Public domain], via Wikimedia Commons\" href=\"http://commons.wikimedia.org/wiki/File%3AUSMC-120110-M-WC814-010.jpg\"><img  alt=\"USMC-120110-M-WC814-010\" src=\"//upload.wikimedia.org/wikipedia/commons/thumb/2/29/USMC-120110-M-WC814-010.jpg/256px-USMC-120110-M-WC814-010.jpg\"/  style=\" border:1px solid blue; float:left; margin-right:3px;\"></a>\n",
      "\n",
      "<a title=\"By STALFORM Engineering (Own work) [CC-BY-SA-3.0 (http://creativecommons.org/licenses/by-sa/3.0)], via Wikimedia Commons\" href=\"http://commons.wikimedia.org/wiki/File%3AMobil_Formwork_system_Stalform_for_underground_construction._%D0%9C%D0%B5%D1%85%D0%B0%D0%BD%D0%B8%D0%B7%D0%B8%D1%80%D0%BE%D0%B2%D0%B0%D0%BD%D0%BD%D0%B0%D1%8F_%D0%BE%D0%BF%D0%B0%D0%BB%D1%83%D0%B1%D0%BA%D0%B0_%D0%B4%D0%BB%D1%8F_%D1%83%D1%81%D0%BA%D0%BE%D1%80%D0%B5%D0%BD%D0%BD%D0%BE%D0%B3%D0%BE_%D1%81%D1%82%D1%80%D0%BE%D0%B8%D1%82%D0%B5%D0%BB%D1%8C%D1%81%D1%82%D0%B2%D0%B0_%D1%81%D1%82%D0%B0%D0%BD%D1%86%D0%B8%D0%B8_%D0%BC%D0%B5%D1%82%D1%80%D0%BE_%D0%A2%D1%80%D0%BE%D0%BF%D0%B0%D1%80%D0%B5%D0%B2%D0%BE.jpg\"><img  alt=\"Mobil Formwork system Stalform for underground construction. \u041c\u0435\u0445\u0430\u043d\u0438\u0437\u0438\u0440\u043e\u0432\u0430\u043d\u043d\u0430\u044f \u043e\u043f\u0430\u043b\u0443\u0431\u043a\u0430 \u0434\u043b\u044f \u0443\u0441\u043a\u043e\u0440\u0435\u043d\u043d\u043e\u0433\u043e \u0441\u0442\u0440\u043e\u0438\u0442\u0435\u043b\u044c\u0441\u0442\u0432\u0430 \u0441\u0442\u0430\u043d\u0446\u0438\u0438 \u043c\u0435\u0442\u0440\u043e \u0422\u0440\u043e\u043f\u0430\u0440\u0435\u0432\u043e\" src=\"//upload.wikimedia.org/wikipedia/commons/thumb/7/77/Mobil_Formwork_system_Stalform_for_underground_construction._%D0%9C%D0%B5%D1%85%D0%B0%D0%BD%D0%B8%D0%B7%D0%B8%D1%80%D0%BE%D0%B2%D0%B0%D0%BD%D0%BD%D0%B0%D1%8F_%D0%BE%D0%BF%D0%B0%D0%BB%D1%83%D0%B1%D0%BA%D0%B0_%D0%B4%D0%BB%D1%8F_%D1%83%D1%81%D0%BA%D0%BE%D1%80%D0%B5%D0%BD%D0%BD%D0%BE%D0%B3%D0%BE_%D1%81%D1%82%D1%80%D0%BE%D0%B8%D1%82%D0%B5%D0%BB%D1%8C%D1%81%D1%82%D0%B2%D0%B0_%D1%81%D1%82%D0%B0%D0%BD%D1%86%D0%B8%D0%B8_%D0%BC%D0%B5%D1%82%D1%80%D0%BE_%D0%A2%D1%80%D0%BE%D0%BF%D0%B0%D1%80%D0%B5%D0%B2%D0%BE.jpg/512px-thumbnail.jpg\"/ style=\" border:1px solid blue; float:left; margin-right:3px;\"></a>\n",
      "\n",
      "\n",
      "<p><em>(Press the blue right arrow at the bottom right to move onto Team Assignments.)</em></p>\n"
     ]
    },
    {
     "cell_type": "heading",
     "level": 2,
     "metadata": {
      "slideshow": {
       "slide_type": "slide"
      }
     },
     "source": [
      "Team Assignments"
     ]
    },
    {
     "cell_type": "markdown",
     "metadata": {
      "slideshow": {
       "slide_type": "-"
      }
     },
     "source": [
      "*audio place holder*\n",
      "\n",
      "[Click here to find out what team you will be on]()"
     ]
    },
    {
     "cell_type": "heading",
     "level": 2,
     "metadata": {
      "slideshow": {
       "slide_type": "slide"
      }
     },
     "source": [
      "Week 1 Assignments"
     ]
    },
    {
     "cell_type": "markdown",
     "metadata": {
      "slideshow": {
       "slide_type": "-"
      }
     },
     "source": [
      "*audio place holder*\n",
      "\n",
      "Read Chapters 1-3 in Hurd's Formwork for Concrete.\n",
      "Due by next week."
     ]
    },
    {
     "cell_type": "markdown",
     "metadata": {
      "slideshow": {
       "slide_type": "-"
      }
     },
     "source": [
      "[Click here to go to the Assignments page.]()"
     ]
    },
    {
     "cell_type": "markdown",
     "metadata": {
      "slideshow": {
       "slide_type": "skip"
      }
     },
     "source": [
      "CSS style sheet\n",
      "\n",
      "<head>\n",
      "<style>\n",
      "important {font:italic bold 16px arial;}\n",
      "fragment {color:LightBlue;}\n",
      "subslide {color:DarkBlue;}\n",
      ".rgt {float:right;}\n",
      "\n",
      "img\n",
      "{\n",
      "max-width:300px;\n",
      "max-height:300px;\n",
      "}\n",
      "</style>\n",
      "</head>\n",
      "\n",
      "<!-- Examples -->\n",
      "<important>important</important>\n",
      "<fragment>fragment</fragment>\n",
      "<subslide>subslide</subslide>\n",
      "\n"
     ]
    },
    {
     "cell_type": "code",
     "collapsed": false,
     "input": [],
     "language": "python",
     "metadata": {
      "slideshow": {
       "slide_type": "skip"
      }
     },
     "outputs": []
    }
   ],
   "metadata": {}
  }
 ]
}